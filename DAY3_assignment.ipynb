{
  "nbformat": 4,
  "nbformat_minor": 0,
  "metadata": {
    "colab": {
      "name": "DAY3 assignment.ipynb",
      "provenance": [],
      "collapsed_sections": [],
      "authorship_tag": "ABX9TyOHinkh71TlSGST78Qcprwh",
      "include_colab_link": true
    },
    "kernelspec": {
      "name": "python3",
      "display_name": "Python 3"
    },
    "accelerator": "GPU"
  },
  "cells": [
    {
      "cell_type": "markdown",
      "metadata": {
        "id": "view-in-github",
        "colab_type": "text"
      },
      "source": [
        "<a href=\"https://colab.research.google.com/github/austinesmanuel/python-random-quote/blob/master/DAY3_assignment.ipynb\" target=\"_parent\"><img src=\"https://colab.research.google.com/assets/colab-badge.svg\" alt=\"Open In Colab\"/></a>"
      ]
    },
    {
      "cell_type": "markdown",
      "metadata": {
        "id": "tczg_u_a2vXX"
      },
      "source": [
        "USE OF CONDITIONAL STATMENT"
      ]
    },
    {
      "cell_type": "code",
      "metadata": {
        "colab": {
          "base_uri": "https://localhost:8080/",
          "height": 35
        },
        "id": "-w9GCuDA9k6W",
        "outputId": "e273e646-ae1c-4b78-936e-813ac5ec754a"
      },
      "source": [
        "#question1\n",
        "\"Q1:Using if and else if for grading based on the user input\""
      ],
      "execution_count": null,
      "outputs": [
        {
          "output_type": "execute_result",
          "data": {
            "application/vnd.google.colaboratory.intrinsic+json": {
              "type": "string"
            },
            "text/plain": [
              "'Q1:Using if and else if for grading based on the user input'"
            ]
          },
          "metadata": {
            "tags": []
          },
          "execution_count": 153
        }
      ]
    },
    {
      "cell_type": "markdown",
      "metadata": {
        "id": "zYk6QeY1_fHi"
      },
      "source": [
        "using elif statment"
      ]
    },
    {
      "cell_type": "code",
      "metadata": {
        "colab": {
          "base_uri": "https://localhost:8080/"
        },
        "id": "GzHvOtx4_lJb",
        "outputId": "d6786b8c-eda3-4af0-ff5e-c450bab54200"
      },
      "source": [
        "'\"Grade finder\"'\n",
        "marks = int(input(\"Enter your marks \")) #getting a integer value\n",
        "if marks == 100:\n",
        "  print (\"Full marks and Grade A\")\n",
        "elif marks >= 90 and marks <100:\n",
        "  print (\"You Secured a Grade A\")\n",
        "elif marks >= 80 and marks <90:\n",
        "  print (\"You Secured a Grade B\")\n",
        "elif marks >= 70 and marks <80:\n",
        "  print (\"You Secured a Grade C\")\n",
        "elif marks >= 60 and marks <70:\n",
        "  print (\"You Secured a Grade D\")\n",
        "elif marks >= 50 and marks <60:\n",
        "  print (\"You Secured a Grade E\")\n",
        "elif marks >= 40 and marks <50:\n",
        "  print (\"You Secured a Grade F\")\n",
        "else:\n",
        "  print (\"Failed!\")"
      ],
      "execution_count": null,
      "outputs": [
        {
          "output_type": "stream",
          "text": [
            "Enter your marks 70\n",
            "You Secured a Grade C\n"
          ],
          "name": "stdout"
        }
      ]
    },
    {
      "cell_type": "code",
      "metadata": {
        "colab": {
          "base_uri": "https://localhost:8080/",
          "height": 35
        },
        "id": "j49qSFv2-Iex",
        "outputId": "07924d47-0193-4b04-c199-6b362aba03d8"
      },
      "source": [
        "#question2\n",
        "\"Extend the username password block to support OTP verification\""
      ],
      "execution_count": null,
      "outputs": [
        {
          "output_type": "execute_result",
          "data": {
            "application/vnd.google.colaboratory.intrinsic+json": {
              "type": "string"
            },
            "text/plain": [
              "'Extend the username password block to support OTP verification'"
            ]
          },
          "metadata": {
            "tags": []
          },
          "execution_count": 154
        }
      ]
    },
    {
      "cell_type": "code",
      "metadata": {
        "colab": {
          "base_uri": "https://localhost:8080/"
        },
        "id": "YSIQNRCP-DvU",
        "outputId": "a1c9a69a-2ebf-46df-ad5d-6d29c04cfbfe"
      },
      "source": [
        "username='austine'\n",
        "password='123'\n",
        "otp = '000' \n",
        "nameinput= input(\"Enter your username \") \n",
        "passwordinput= input(\"Enter your password \")\n",
        "otpinput= input(\"Enter your OTP \")\n",
        "if username == nameinput: #nesting starts\n",
        "  if password == passwordinput: \n",
        "    if otpinput == otp: \n",
        "      print(\"Acess Granted \"+ username)\n",
        "    else:\n",
        "      print(\"Invalid OTP!\")\n",
        "  else:\n",
        "    print(\"Invalid password!\") \n",
        "else: \n",
        "  print(\"Invalid username!\") #nesting starts\n"
      ],
      "execution_count": null,
      "outputs": [
        {
          "output_type": "stream",
          "text": [
            "Enter your username austine\n",
            "Enter your password 123\n",
            "Enter your OTP 000\n",
            "Acess Granted austine\n"
          ],
          "name": "stdout"
        }
      ]
    },
    {
      "cell_type": "markdown",
      "metadata": {
        "id": "ETCeNLizJScZ"
      },
      "source": [
        "'For' Loops"
      ]
    },
    {
      "cell_type": "code",
      "metadata": {
        "colab": {
          "base_uri": "https://localhost:8080/"
        },
        "id": "s7urb3fMJU7y",
        "outputId": "69a91ce0-b09c-4408-aff7-11e1bfdf788f"
      },
      "source": [
        "\"printing a series from the begining\"\n",
        "for i in range(10):             # SYNTAX: for (a variable) in range(RANGE VALUE)\n",
        "  print(i)\n",
        "#NOTE: THE INDEXING AND NUMBERS START FROM ZERO"
      ],
      "execution_count": null,
      "outputs": [
        {
          "output_type": "stream",
          "text": [
            "0\n",
            "1\n",
            "2\n",
            "3\n",
            "4\n",
            "5\n",
            "6\n",
            "7\n",
            "8\n",
            "9\n"
          ],
          "name": "stdout"
        }
      ]
    },
    {
      "cell_type": "code",
      "metadata": {
        "colab": {
          "base_uri": "https://localhost:8080/"
        },
        "id": "7kHep-rSJejo",
        "outputId": "b9ac9840-fe11-4945-ba6b-1cfc2059038f"
      },
      "source": [
        "\"printing a series from a set point to another\"\n",
        "for i in range(2,10):               # SYNTAX: for (ENTER VARIALBLE) in range((INITIAL POINT),(TERMINATING POINT))\n",
        "  print(i)\n",
        "  #NOTE:THE LAST NUMBER OF THE RANGE WILL BE EXCLUDED"
      ],
      "execution_count": null,
      "outputs": [
        {
          "output_type": "stream",
          "text": [
            "2\n",
            "3\n",
            "4\n",
            "5\n",
            "6\n",
            "7\n",
            "8\n",
            "9\n"
          ],
          "name": "stdout"
        }
      ]
    },
    {
      "cell_type": "code",
      "metadata": {
        "colab": {
          "base_uri": "https://localhost:8080/"
        },
        "id": "LksNx7FBJ5Wz",
        "outputId": "3421b9f9-ce33-4e3a-eafc-b81020780aeb"
      },
      "source": [
        "\"printing a series from a set point to another with a specific increment each time\"\n",
        "for i in range(6,43,6):                 # SYNTAX: for (ENTER VARIALBLE) in range((INITIAL POINT),(TERMINATING POINT))\n",
        "  print(i)\n",
        "  #NOTE:THE LAST NUMBER WILL BE LESS THAN OR EQUAL TO THE TERMINATING POITN IF IT DOESNT END AT SAME AS MENTIONED "
      ],
      "execution_count": null,
      "outputs": [
        {
          "output_type": "stream",
          "text": [
            "6\n",
            "12\n",
            "18\n",
            "24\n",
            "30\n",
            "36\n",
            "42\n"
          ],
          "name": "stdout"
        }
      ]
    },
    {
      "cell_type": "code",
      "metadata": {
        "colab": {
          "base_uri": "https://localhost:8080/"
        },
        "id": "QnOYRpAGMM6-",
        "outputId": "b1e68270-9962-4a7f-deaa-73753f3fca6d"
      },
      "source": [
        "\"printing a series from a set point to another with a specific increment each time and apply operations ourside the loop\"\n",
        "for i in range(6,43,6):                 # SYNTAX: for (ENTER VARIALBLE) in range((INITIAL POINT),(TERMINATING POINT))  \n",
        "  print(i+2)"
      ],
      "execution_count": null,
      "outputs": [
        {
          "output_type": "stream",
          "text": [
            "8\n",
            "14\n",
            "20\n",
            "26\n",
            "32\n",
            "38\n",
            "44\n"
          ],
          "name": "stdout"
        }
      ]
    },
    {
      "cell_type": "code",
      "metadata": {
        "colab": {
          "base_uri": "https://localhost:8080/"
        },
        "id": "dGmH87nWNEs5",
        "outputId": "a8aaf5ad-2606-4171-992a-d77797a74165"
      },
      "source": [
        "\"printing a series from a set point to another with a specific increment each time and apply operations ourside the loop\"\n",
        "for i in range(6,43,6):                               # SYNTAX: for (ENTER VARIALBLE) in range((INITIAL POINT),(TERMINATING POINT))\n",
        "  print(i*2)"
      ],
      "execution_count": null,
      "outputs": [
        {
          "output_type": "stream",
          "text": [
            "12\n",
            "24\n",
            "36\n",
            "48\n",
            "60\n",
            "72\n",
            "84\n"
          ],
          "name": "stdout"
        }
      ]
    },
    {
      "cell_type": "markdown",
      "metadata": {
        "id": "bgl0InkZR74_"
      },
      "source": [
        "ARRAYS       **NOTE: Squar brackets '[ ]' are only used for arrays**"
      ]
    },
    {
      "cell_type": "code",
      "metadata": {
        "id": "-4mICK9NSBF-"
      },
      "source": [
        "  name= [\"austine\",\"naman\",\"johan\",\"nisha\",\"saji\",\"peter\",\"threassy\"] #creating a array"
      ],
      "execution_count": null,
      "outputs": []
    },
    {
      "cell_type": "code",
      "metadata": {
        "colab": {
          "base_uri": "https://localhost:8080/",
          "height": 35
        },
        "id": "ZP_3GACJTRm2",
        "outputId": "5d99b803-e920-4544-be4c-b8e71d43fa7a"
      },
      "source": [
        "name[1] #retriving values"
      ],
      "execution_count": null,
      "outputs": [
        {
          "output_type": "execute_result",
          "data": {
            "application/vnd.google.colaboratory.intrinsic+json": {
              "type": "string"
            },
            "text/plain": [
              "'naman'"
            ]
          },
          "metadata": {
            "tags": []
          },
          "execution_count": 33
        }
      ]
    },
    {
      "cell_type": "code",
      "metadata": {
        "colab": {
          "base_uri": "https://localhost:8080/",
          "height": 35
        },
        "id": "SMTfQDqTTW8J",
        "outputId": "98e8ba1b-706c-446d-d9e8-1c288153cfa7"
      },
      "source": [
        "name[0] #NOTE: as the indexing starts from 0 therefore the first value will be assigned to 0."
      ],
      "execution_count": null,
      "outputs": [
        {
          "output_type": "execute_result",
          "data": {
            "application/vnd.google.colaboratory.intrinsic+json": {
              "type": "string"
            },
            "text/plain": [
              "'austine'"
            ]
          },
          "metadata": {
            "tags": []
          },
          "execution_count": 35
        }
      ]
    },
    {
      "cell_type": "code",
      "metadata": {
        "colab": {
          "base_uri": "https://localhost:8080/",
          "height": 35
        },
        "id": "1PGE3riMTyYy",
        "outputId": "3a82c1f4-8151-4d32-f2a8-3aa8c8cbd009"
      },
      "source": [
        "name[-1] #retruving values using REVERSE INDEXING"
      ],
      "execution_count": null,
      "outputs": [
        {
          "output_type": "execute_result",
          "data": {
            "application/vnd.google.colaboratory.intrinsic+json": {
              "type": "string"
            },
            "text/plain": [
              "'threassy'"
            ]
          },
          "metadata": {
            "tags": []
          },
          "execution_count": 36
        }
      ]
    },
    {
      "cell_type": "code",
      "metadata": {
        "colab": {
          "base_uri": "https://localhost:8080/",
          "height": 35
        },
        "id": "GNk6m8HqU_dn",
        "outputId": "d4d3502c-2bbd-4d23-c5a5-70b8edce0bfb"
      },
      "source": [
        "name[-5]"
      ],
      "execution_count": null,
      "outputs": [
        {
          "output_type": "execute_result",
          "data": {
            "application/vnd.google.colaboratory.intrinsic+json": {
              "type": "string"
            },
            "text/plain": [
              "'johan'"
            ]
          },
          "metadata": {
            "tags": []
          },
          "execution_count": 37
        }
      ]
    },
    {
      "cell_type": "code",
      "metadata": {
        "colab": {
          "base_uri": "https://localhost:8080/"
        },
        "id": "UtY2bDCZVJ_F",
        "outputId": "cd03b26b-f4d9-43f7-f975-b8582fcf29f3"
      },
      "source": [
        "\"retriving multiple values using indexing for a range this medhod is called SLICING\"\n",
        "name[0:3] #NOTE: here too the last index is not inclusive that is excluded"
      ],
      "execution_count": null,
      "outputs": [
        {
          "output_type": "execute_result",
          "data": {
            "text/plain": [
              "['austine', 'naman', 'johan']"
            ]
          },
          "metadata": {
            "tags": []
          },
          "execution_count": 41
        }
      ]
    },
    {
      "cell_type": "code",
      "metadata": {
        "colab": {
          "base_uri": "https://localhost:8080/"
        },
        "id": "GKptVUc4VQIW",
        "outputId": "eeca4fd9-aa1c-4b44-ca84-7afdae6a77d8"
      },
      "source": [
        "name[2:6]"
      ],
      "execution_count": null,
      "outputs": [
        {
          "output_type": "execute_result",
          "data": {
            "text/plain": [
              "['johan', 'nisha', 'saji', 'peter']"
            ]
          },
          "metadata": {
            "tags": []
          },
          "execution_count": 42
        }
      ]
    },
    {
      "cell_type": "markdown",
      "metadata": {
        "id": "1lQfgElYvJ3R"
      },
      "source": [
        "Combing Array and loop statment"
      ]
    },
    {
      "cell_type": "code",
      "metadata": {
        "colab": {
          "base_uri": "https://localhost:8080/"
        },
        "id": "90XPbCDBgzJC",
        "outputId": "45978626-8b3e-4528-c907-99468792aaba"
      },
      "source": [
        "for a in name: #including array in a loop         #SYNTAX: for (VARIABLE) in (THE ARRAY)\n",
        "  print(a)"
      ],
      "execution_count": null,
      "outputs": [
        {
          "output_type": "stream",
          "text": [
            "austine\n",
            "naman\n",
            "johan\n",
            "nisha\n",
            "saji\n",
            "peter\n",
            "threassy\n"
          ],
          "name": "stdout"
        }
      ]
    },
    {
      "cell_type": "markdown",
      "metadata": {
        "id": "MhyO4JxmyOrW"
      },
      "source": [
        "Combing Array, loop statment and conditional statment"
      ]
    },
    {
      "cell_type": "code",
      "metadata": {
        "colab": {
          "base_uri": "https://localhost:8080/"
        },
        "id": "vgqdwhTbyY6Y",
        "outputId": "cd87b8df-ce03-4bdf-87f2-8bf962e1eb6e"
      },
      "source": [
        "\"This loop will terminate on the users-defined termination point \"\n",
        "for a in name: #including array in a loop        \n",
        "  print(a)\n",
        "  if a=='saji': #including conditional statment\n",
        "    break       #'break' is a terminating statment"
      ],
      "execution_count": null,
      "outputs": [
        {
          "output_type": "stream",
          "text": [
            "austine\n",
            "naman\n",
            "johan\n",
            "nisha\n",
            "saji\n"
          ],
          "name": "stdout"
        }
      ]
    },
    {
      "cell_type": "markdown",
      "metadata": {
        "id": "Tt7EZlIhz2-h"
      },
      "source": [
        "DICTIONARY **NOTE:The curly brackets or the flower brackets '{ }' are only used for dictionaries**"
      ]
    },
    {
      "cell_type": "code",
      "metadata": {
        "id": "JBX4FrQhy006"
      },
      "source": [
        " marks= {\"arnav\":95,\"naman\":65,\"joe\":89,\"neha\":75,\"sanjay\":55,\"peter\":25,\"troy\":98} #creating a dictionary"
      ],
      "execution_count": null,
      "outputs": []
    },
    {
      "cell_type": "code",
      "metadata": {
        "colab": {
          "base_uri": "https://localhost:8080/"
        },
        "id": "2S-nDF4E1dFC",
        "outputId": "68f7a412-33f8-42d2-9394-ea23818f5a69"
      },
      "source": [
        "marks #printing the contents in a dictionary"
      ],
      "execution_count": null,
      "outputs": [
        {
          "output_type": "execute_result",
          "data": {
            "text/plain": [
              "{'arnav': 95,\n",
              " 'joe': 89,\n",
              " 'naman': 65,\n",
              " 'neha': 75,\n",
              " 'peter': 25,\n",
              " 'sanjay': 55,\n",
              " 'troy': 98}"
            ]
          },
          "metadata": {
            "tags": []
          },
          "execution_count": 2
        }
      ]
    },
    {
      "cell_type": "code",
      "metadata": {
        "colab": {
          "base_uri": "https://localhost:8080/"
        },
        "id": "AqSIhKn42Cl5",
        "outputId": "68f4c281-e19b-4c04-9007-53a52d51a5c4"
      },
      "source": [
        "marks['joe'] #printing values from the dictionary for a condition provided"
      ],
      "execution_count": null,
      "outputs": [
        {
          "output_type": "execute_result",
          "data": {
            "text/plain": [
              "89"
            ]
          },
          "metadata": {
            "tags": []
          },
          "execution_count": 3
        }
      ]
    },
    {
      "cell_type": "code",
      "metadata": {
        "colab": {
          "base_uri": "https://localhost:8080/",
          "height": 35
        },
        "id": "fzP-NB4i-bDS",
        "outputId": "4f41e251-2392-419c-991f-9edc9fb75990"
      },
      "source": [
        "#question3\n",
        "'Q3: in a list of marks - print only failed marks - below 60'"
      ],
      "execution_count": null,
      "outputs": [
        {
          "output_type": "execute_result",
          "data": {
            "application/vnd.google.colaboratory.intrinsic+json": {
              "type": "string"
            },
            "text/plain": [
              "'Q3: in a list of marks - print only failed marks - below 60'"
            ]
          },
          "metadata": {
            "tags": []
          },
          "execution_count": 155
        }
      ]
    },
    {
      "cell_type": "code",
      "metadata": {
        "colab": {
          "base_uri": "https://localhost:8080/"
        },
        "id": "LblKy-mpI9eW",
        "outputId": "986b235c-af1f-4308-a440-3a1a521eb6f1"
      },
      "source": [
        "for names in marks: #looping the dictionary\n",
        "  numbers = marks[names] #storing the returned numeric value to a variable\n",
        "  if numbers < 60: #checking the passing condition\n",
        "    print (numbers) #printing failed marks"
      ],
      "execution_count": null,
      "outputs": [
        {
          "output_type": "stream",
          "text": [
            "55\n",
            "25\n"
          ],
          "name": "stdout"
        }
      ]
    }
  ]
}