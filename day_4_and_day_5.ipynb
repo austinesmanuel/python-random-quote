{
  "nbformat": 4,
  "nbformat_minor": 0,
  "metadata": {
    "colab": {
      "name": "day 4 and day 5.ipynb",
      "provenance": [],
      "collapsed_sections": [],
      "authorship_tag": "ABX9TyP3lDmxgw4cYwk8Rr81UipF",
      "include_colab_link": true
    },
    "kernelspec": {
      "name": "python3",
      "display_name": "Python 3"
    }
  },
  "cells": [
    {
      "cell_type": "markdown",
      "metadata": {
        "id": "view-in-github",
        "colab_type": "text"
      },
      "source": [
        "<a href=\"https://colab.research.google.com/github/austinesmanuel/python-random-quote/blob/master/day_4_and_day_5.ipynb\" target=\"_parent\"><img src=\"https://colab.research.google.com/assets/colab-badge.svg\" alt=\"Open In Colab\"/></a>"
      ]
    },
    {
      "cell_type": "code",
      "metadata": {
        "id": "fDF8VfAZ83es",
        "colab": {
          "base_uri": "https://localhost:8080/"
        },
        "outputId": "b025967d-9440-4c6f-db42-c758c27c0b44"
      },
      "source": [
        "\"alternate answer to the above question using KEY\"\n",
        "marks= {\"arnav\":95,\"naman\":65,\"joe\":89,\"neha\":75,\"sanjay\":55,\"peter\":25,\"troy\":98}\n",
        "for key in marks.keys():   #using key function\n",
        "  if marks[key] < 60:\n",
        "    print(key+ \" you have failed!\")"
      ],
      "execution_count": null,
      "outputs": [
        {
          "output_type": "stream",
          "text": [
            "sanjay you have failed!\n",
            "peter you have failed!\n"
          ],
          "name": "stdout"
        }
      ]
    },
    {
      "cell_type": "code",
      "metadata": {
        "colab": {
          "base_uri": "https://localhost:8080/"
        },
        "id": "Kgn2O0qsg__M",
        "outputId": "701613f7-05ed-495f-f6b2-d8ad8e1c1c66"
      },
      "source": [
        "\"alternate answer to the above question using ITEMS\"\n",
        "marks= {\"arnav\":95,\"naman\":65,\"joe\":89,\"neha\":75,\"sanjay\":55,\"peter\":25,\"troy\":98}\n",
        "for (name,points) in marks.items():     #using items function\n",
        "  if points >60:\n",
        "    print(name+ \" you have PASSED!\")"
      ],
      "execution_count": null,
      "outputs": [
        {
          "output_type": "stream",
          "text": [
            "arnav you have PASSED!\n",
            "naman you have PASSED!\n",
            "joe you have PASSED!\n",
            "neha you have PASSED!\n",
            "troy you have PASSED!\n"
          ],
          "name": "stdout"
        }
      ]
    },
    {
      "cell_type": "markdown",
      "metadata": {
        "id": "5WlwyNzjoNPj"
      },
      "source": [
        "working with python libray PANDAS"
      ]
    },
    {
      "cell_type": "code",
      "metadata": {
        "colab": {
          "base_uri": "https://localhost:8080/"
        },
        "id": "aWQHJdLBoWk2",
        "outputId": "190d62e9-211a-4a51-e51e-1fa3a34619a0"
      },
      "source": [
        "pip install Pandas #installing pandas library"
      ],
      "execution_count": null,
      "outputs": [
        {
          "output_type": "stream",
          "text": [
            "Requirement already satisfied: Pandas in /usr/local/lib/python3.6/dist-packages (1.1.4)\n",
            "Requirement already satisfied: pytz>=2017.2 in /usr/local/lib/python3.6/dist-packages (from Pandas) (2018.9)\n",
            "Requirement already satisfied: python-dateutil>=2.7.3 in /usr/local/lib/python3.6/dist-packages (from Pandas) (2.8.1)\n",
            "Requirement already satisfied: numpy>=1.15.4 in /usr/local/lib/python3.6/dist-packages (from Pandas) (1.18.5)\n",
            "Requirement already satisfied: six>=1.5 in /usr/local/lib/python3.6/dist-packages (from python-dateutil>=2.7.3->Pandas) (1.15.0)\n"
          ],
          "name": "stdout"
        }
      ]
    },
    {
      "cell_type": "code",
      "metadata": {
        "id": "iS87uuD_oa_L"
      },
      "source": [
        "import pandas as pd   #importing panads library for using it "
      ],
      "execution_count": null,
      "outputs": []
    },
    {
      "cell_type": "code",
      "metadata": {
        "colab": {
          "base_uri": "https://localhost:8080/",
          "height": 35
        },
        "id": "yFIglmJbq7oW",
        "outputId": "317c46a6-8338-4851-a432-114130b7d164"
      },
      "source": [
        "pd.__version__ #checking the pandas version for future use"
      ],
      "execution_count": null,
      "outputs": [
        {
          "output_type": "execute_result",
          "data": {
            "application/vnd.google.colaboratory.intrinsic+json": {
              "type": "string"
            },
            "text/plain": [
              "'1.1.4'"
            ]
          },
          "metadata": {
            "tags": []
          },
          "execution_count": 13
        }
      ]
    },
    {
      "cell_type": "markdown",
      "metadata": {
        "id": "dbZfqZj9sMYW"
      },
      "source": [
        "Reading CSV files and using pandas library"
      ]
    },
    {
      "cell_type": "code",
      "metadata": {
        "id": "pWjvYAbPrS38"
      },
      "source": [
        "\"Activating, downloading and reading a CSV file.\"\n",
        "stats =pd.read_csv(\"https://download.mlcc.google.com/mledu-datasets/california_housing_train.csv\")\n",
        "          # SYNTAX (VARIABLE) =(IMPORTED PANDAS VARIAVLE).read_csv(\"LINK\")"
      ],
      "execution_count": null,
      "outputs": []
    },
    {
      "cell_type": "code",
      "metadata": {
        "colab": {
          "base_uri": "https://localhost:8080/",
          "height": 198
        },
        "id": "eqJoRBPlsny6",
        "outputId": "168a80f1-cbd4-4fb1-d78b-d670060344e0"
      },
      "source": [
        "\"printing data from a CSV file\"\n",
        "stats.head() #NOTE: This will only print the first 5 data."
      ],
      "execution_count": null,
      "outputs": [
        {
          "output_type": "execute_result",
          "data": {
            "text/html": [
              "<div>\n",
              "<style scoped>\n",
              "    .dataframe tbody tr th:only-of-type {\n",
              "        vertical-align: middle;\n",
              "    }\n",
              "\n",
              "    .dataframe tbody tr th {\n",
              "        vertical-align: top;\n",
              "    }\n",
              "\n",
              "    .dataframe thead th {\n",
              "        text-align: right;\n",
              "    }\n",
              "</style>\n",
              "<table border=\"1\" class=\"dataframe\">\n",
              "  <thead>\n",
              "    <tr style=\"text-align: right;\">\n",
              "      <th></th>\n",
              "      <th>longitude</th>\n",
              "      <th>latitude</th>\n",
              "      <th>housing_median_age</th>\n",
              "      <th>total_rooms</th>\n",
              "      <th>total_bedrooms</th>\n",
              "      <th>population</th>\n",
              "      <th>households</th>\n",
              "      <th>median_income</th>\n",
              "      <th>median_house_value</th>\n",
              "    </tr>\n",
              "  </thead>\n",
              "  <tbody>\n",
              "    <tr>\n",
              "      <th>0</th>\n",
              "      <td>-114.31</td>\n",
              "      <td>34.19</td>\n",
              "      <td>15.0</td>\n",
              "      <td>5612.0</td>\n",
              "      <td>1283.0</td>\n",
              "      <td>1015.0</td>\n",
              "      <td>472.0</td>\n",
              "      <td>1.4936</td>\n",
              "      <td>66900.0</td>\n",
              "    </tr>\n",
              "    <tr>\n",
              "      <th>1</th>\n",
              "      <td>-114.47</td>\n",
              "      <td>34.40</td>\n",
              "      <td>19.0</td>\n",
              "      <td>7650.0</td>\n",
              "      <td>1901.0</td>\n",
              "      <td>1129.0</td>\n",
              "      <td>463.0</td>\n",
              "      <td>1.8200</td>\n",
              "      <td>80100.0</td>\n",
              "    </tr>\n",
              "    <tr>\n",
              "      <th>2</th>\n",
              "      <td>-114.56</td>\n",
              "      <td>33.69</td>\n",
              "      <td>17.0</td>\n",
              "      <td>720.0</td>\n",
              "      <td>174.0</td>\n",
              "      <td>333.0</td>\n",
              "      <td>117.0</td>\n",
              "      <td>1.6509</td>\n",
              "      <td>85700.0</td>\n",
              "    </tr>\n",
              "    <tr>\n",
              "      <th>3</th>\n",
              "      <td>-114.57</td>\n",
              "      <td>33.64</td>\n",
              "      <td>14.0</td>\n",
              "      <td>1501.0</td>\n",
              "      <td>337.0</td>\n",
              "      <td>515.0</td>\n",
              "      <td>226.0</td>\n",
              "      <td>3.1917</td>\n",
              "      <td>73400.0</td>\n",
              "    </tr>\n",
              "    <tr>\n",
              "      <th>4</th>\n",
              "      <td>-114.57</td>\n",
              "      <td>33.57</td>\n",
              "      <td>20.0</td>\n",
              "      <td>1454.0</td>\n",
              "      <td>326.0</td>\n",
              "      <td>624.0</td>\n",
              "      <td>262.0</td>\n",
              "      <td>1.9250</td>\n",
              "      <td>65500.0</td>\n",
              "    </tr>\n",
              "  </tbody>\n",
              "</table>\n",
              "</div>"
            ],
            "text/plain": [
              "   longitude  latitude  ...  median_income  median_house_value\n",
              "0    -114.31     34.19  ...         1.4936             66900.0\n",
              "1    -114.47     34.40  ...         1.8200             80100.0\n",
              "2    -114.56     33.69  ...         1.6509             85700.0\n",
              "3    -114.57     33.64  ...         3.1917             73400.0\n",
              "4    -114.57     33.57  ...         1.9250             65500.0\n",
              "\n",
              "[5 rows x 9 columns]"
            ]
          },
          "metadata": {
            "tags": []
          },
          "execution_count": 64
        }
      ]
    },
    {
      "cell_type": "code",
      "metadata": {
        "colab": {
          "base_uri": "https://localhost:8080/",
          "height": 348
        },
        "id": "dWz_5xrMtWTK",
        "outputId": "5ade5268-9b96-46f0-eb72-5801c30cce61"
      },
      "source": [
        "\"printing data from a CSV file upto a specified place\"\n",
        "stats.head(10)"
      ],
      "execution_count": null,
      "outputs": [
        {
          "output_type": "execute_result",
          "data": {
            "text/html": [
              "<div>\n",
              "<style scoped>\n",
              "    .dataframe tbody tr th:only-of-type {\n",
              "        vertical-align: middle;\n",
              "    }\n",
              "\n",
              "    .dataframe tbody tr th {\n",
              "        vertical-align: top;\n",
              "    }\n",
              "\n",
              "    .dataframe thead th {\n",
              "        text-align: right;\n",
              "    }\n",
              "</style>\n",
              "<table border=\"1\" class=\"dataframe\">\n",
              "  <thead>\n",
              "    <tr style=\"text-align: right;\">\n",
              "      <th></th>\n",
              "      <th>longitude</th>\n",
              "      <th>latitude</th>\n",
              "      <th>housing_median_age</th>\n",
              "      <th>total_rooms</th>\n",
              "      <th>total_bedrooms</th>\n",
              "      <th>population</th>\n",
              "      <th>households</th>\n",
              "      <th>median_income</th>\n",
              "      <th>median_house_value</th>\n",
              "    </tr>\n",
              "  </thead>\n",
              "  <tbody>\n",
              "    <tr>\n",
              "      <th>0</th>\n",
              "      <td>-114.31</td>\n",
              "      <td>34.19</td>\n",
              "      <td>15.0</td>\n",
              "      <td>5612.0</td>\n",
              "      <td>1283.0</td>\n",
              "      <td>1015.0</td>\n",
              "      <td>472.0</td>\n",
              "      <td>1.4936</td>\n",
              "      <td>66900.0</td>\n",
              "    </tr>\n",
              "    <tr>\n",
              "      <th>1</th>\n",
              "      <td>-114.47</td>\n",
              "      <td>34.40</td>\n",
              "      <td>19.0</td>\n",
              "      <td>7650.0</td>\n",
              "      <td>1901.0</td>\n",
              "      <td>1129.0</td>\n",
              "      <td>463.0</td>\n",
              "      <td>1.8200</td>\n",
              "      <td>80100.0</td>\n",
              "    </tr>\n",
              "    <tr>\n",
              "      <th>2</th>\n",
              "      <td>-114.56</td>\n",
              "      <td>33.69</td>\n",
              "      <td>17.0</td>\n",
              "      <td>720.0</td>\n",
              "      <td>174.0</td>\n",
              "      <td>333.0</td>\n",
              "      <td>117.0</td>\n",
              "      <td>1.6509</td>\n",
              "      <td>85700.0</td>\n",
              "    </tr>\n",
              "    <tr>\n",
              "      <th>3</th>\n",
              "      <td>-114.57</td>\n",
              "      <td>33.64</td>\n",
              "      <td>14.0</td>\n",
              "      <td>1501.0</td>\n",
              "      <td>337.0</td>\n",
              "      <td>515.0</td>\n",
              "      <td>226.0</td>\n",
              "      <td>3.1917</td>\n",
              "      <td>73400.0</td>\n",
              "    </tr>\n",
              "    <tr>\n",
              "      <th>4</th>\n",
              "      <td>-114.57</td>\n",
              "      <td>33.57</td>\n",
              "      <td>20.0</td>\n",
              "      <td>1454.0</td>\n",
              "      <td>326.0</td>\n",
              "      <td>624.0</td>\n",
              "      <td>262.0</td>\n",
              "      <td>1.9250</td>\n",
              "      <td>65500.0</td>\n",
              "    </tr>\n",
              "    <tr>\n",
              "      <th>5</th>\n",
              "      <td>-114.58</td>\n",
              "      <td>33.63</td>\n",
              "      <td>29.0</td>\n",
              "      <td>1387.0</td>\n",
              "      <td>236.0</td>\n",
              "      <td>671.0</td>\n",
              "      <td>239.0</td>\n",
              "      <td>3.3438</td>\n",
              "      <td>74000.0</td>\n",
              "    </tr>\n",
              "    <tr>\n",
              "      <th>6</th>\n",
              "      <td>-114.58</td>\n",
              "      <td>33.61</td>\n",
              "      <td>25.0</td>\n",
              "      <td>2907.0</td>\n",
              "      <td>680.0</td>\n",
              "      <td>1841.0</td>\n",
              "      <td>633.0</td>\n",
              "      <td>2.6768</td>\n",
              "      <td>82400.0</td>\n",
              "    </tr>\n",
              "    <tr>\n",
              "      <th>7</th>\n",
              "      <td>-114.59</td>\n",
              "      <td>34.83</td>\n",
              "      <td>41.0</td>\n",
              "      <td>812.0</td>\n",
              "      <td>168.0</td>\n",
              "      <td>375.0</td>\n",
              "      <td>158.0</td>\n",
              "      <td>1.7083</td>\n",
              "      <td>48500.0</td>\n",
              "    </tr>\n",
              "    <tr>\n",
              "      <th>8</th>\n",
              "      <td>-114.59</td>\n",
              "      <td>33.61</td>\n",
              "      <td>34.0</td>\n",
              "      <td>4789.0</td>\n",
              "      <td>1175.0</td>\n",
              "      <td>3134.0</td>\n",
              "      <td>1056.0</td>\n",
              "      <td>2.1782</td>\n",
              "      <td>58400.0</td>\n",
              "    </tr>\n",
              "    <tr>\n",
              "      <th>9</th>\n",
              "      <td>-114.60</td>\n",
              "      <td>34.83</td>\n",
              "      <td>46.0</td>\n",
              "      <td>1497.0</td>\n",
              "      <td>309.0</td>\n",
              "      <td>787.0</td>\n",
              "      <td>271.0</td>\n",
              "      <td>2.1908</td>\n",
              "      <td>48100.0</td>\n",
              "    </tr>\n",
              "  </tbody>\n",
              "</table>\n",
              "</div>"
            ],
            "text/plain": [
              "   longitude  latitude  ...  median_income  median_house_value\n",
              "0    -114.31     34.19  ...         1.4936             66900.0\n",
              "1    -114.47     34.40  ...         1.8200             80100.0\n",
              "2    -114.56     33.69  ...         1.6509             85700.0\n",
              "3    -114.57     33.64  ...         3.1917             73400.0\n",
              "4    -114.57     33.57  ...         1.9250             65500.0\n",
              "5    -114.58     33.63  ...         3.3438             74000.0\n",
              "6    -114.58     33.61  ...         2.6768             82400.0\n",
              "7    -114.59     34.83  ...         1.7083             48500.0\n",
              "8    -114.59     33.61  ...         2.1782             58400.0\n",
              "9    -114.60     34.83  ...         2.1908             48100.0\n",
              "\n",
              "[10 rows x 9 columns]"
            ]
          },
          "metadata": {
            "tags": []
          },
          "execution_count": 65
        }
      ]
    },
    {
      "cell_type": "code",
      "metadata": {
        "colab": {
          "base_uri": "https://localhost:8080/",
          "height": 348
        },
        "id": "t_8dIR2Wt4YH",
        "outputId": "0732488c-c336-4a3f-b658-674ab799587f"
      },
      "source": [
        "\"printing data from a CSV file from bottom upto a specified place\"\n",
        "stats.tail(10)"
      ],
      "execution_count": null,
      "outputs": [
        {
          "output_type": "execute_result",
          "data": {
            "text/html": [
              "<div>\n",
              "<style scoped>\n",
              "    .dataframe tbody tr th:only-of-type {\n",
              "        vertical-align: middle;\n",
              "    }\n",
              "\n",
              "    .dataframe tbody tr th {\n",
              "        vertical-align: top;\n",
              "    }\n",
              "\n",
              "    .dataframe thead th {\n",
              "        text-align: right;\n",
              "    }\n",
              "</style>\n",
              "<table border=\"1\" class=\"dataframe\">\n",
              "  <thead>\n",
              "    <tr style=\"text-align: right;\">\n",
              "      <th></th>\n",
              "      <th>longitude</th>\n",
              "      <th>latitude</th>\n",
              "      <th>housing_median_age</th>\n",
              "      <th>total_rooms</th>\n",
              "      <th>total_bedrooms</th>\n",
              "      <th>population</th>\n",
              "      <th>households</th>\n",
              "      <th>median_income</th>\n",
              "      <th>median_house_value</th>\n",
              "    </tr>\n",
              "  </thead>\n",
              "  <tbody>\n",
              "    <tr>\n",
              "      <th>16990</th>\n",
              "      <td>-124.22</td>\n",
              "      <td>41.73</td>\n",
              "      <td>28.0</td>\n",
              "      <td>3003.0</td>\n",
              "      <td>699.0</td>\n",
              "      <td>1530.0</td>\n",
              "      <td>653.0</td>\n",
              "      <td>1.7038</td>\n",
              "      <td>78300.0</td>\n",
              "    </tr>\n",
              "    <tr>\n",
              "      <th>16991</th>\n",
              "      <td>-124.23</td>\n",
              "      <td>41.75</td>\n",
              "      <td>11.0</td>\n",
              "      <td>3159.0</td>\n",
              "      <td>616.0</td>\n",
              "      <td>1343.0</td>\n",
              "      <td>479.0</td>\n",
              "      <td>2.4805</td>\n",
              "      <td>73200.0</td>\n",
              "    </tr>\n",
              "    <tr>\n",
              "      <th>16992</th>\n",
              "      <td>-124.23</td>\n",
              "      <td>40.81</td>\n",
              "      <td>52.0</td>\n",
              "      <td>1112.0</td>\n",
              "      <td>209.0</td>\n",
              "      <td>544.0</td>\n",
              "      <td>172.0</td>\n",
              "      <td>3.3462</td>\n",
              "      <td>50800.0</td>\n",
              "    </tr>\n",
              "    <tr>\n",
              "      <th>16993</th>\n",
              "      <td>-124.23</td>\n",
              "      <td>40.54</td>\n",
              "      <td>52.0</td>\n",
              "      <td>2694.0</td>\n",
              "      <td>453.0</td>\n",
              "      <td>1152.0</td>\n",
              "      <td>435.0</td>\n",
              "      <td>3.0806</td>\n",
              "      <td>106700.0</td>\n",
              "    </tr>\n",
              "    <tr>\n",
              "      <th>16994</th>\n",
              "      <td>-124.25</td>\n",
              "      <td>40.28</td>\n",
              "      <td>32.0</td>\n",
              "      <td>1430.0</td>\n",
              "      <td>419.0</td>\n",
              "      <td>434.0</td>\n",
              "      <td>187.0</td>\n",
              "      <td>1.9417</td>\n",
              "      <td>76100.0</td>\n",
              "    </tr>\n",
              "    <tr>\n",
              "      <th>16995</th>\n",
              "      <td>-124.26</td>\n",
              "      <td>40.58</td>\n",
              "      <td>52.0</td>\n",
              "      <td>2217.0</td>\n",
              "      <td>394.0</td>\n",
              "      <td>907.0</td>\n",
              "      <td>369.0</td>\n",
              "      <td>2.3571</td>\n",
              "      <td>111400.0</td>\n",
              "    </tr>\n",
              "    <tr>\n",
              "      <th>16996</th>\n",
              "      <td>-124.27</td>\n",
              "      <td>40.69</td>\n",
              "      <td>36.0</td>\n",
              "      <td>2349.0</td>\n",
              "      <td>528.0</td>\n",
              "      <td>1194.0</td>\n",
              "      <td>465.0</td>\n",
              "      <td>2.5179</td>\n",
              "      <td>79000.0</td>\n",
              "    </tr>\n",
              "    <tr>\n",
              "      <th>16997</th>\n",
              "      <td>-124.30</td>\n",
              "      <td>41.84</td>\n",
              "      <td>17.0</td>\n",
              "      <td>2677.0</td>\n",
              "      <td>531.0</td>\n",
              "      <td>1244.0</td>\n",
              "      <td>456.0</td>\n",
              "      <td>3.0313</td>\n",
              "      <td>103600.0</td>\n",
              "    </tr>\n",
              "    <tr>\n",
              "      <th>16998</th>\n",
              "      <td>-124.30</td>\n",
              "      <td>41.80</td>\n",
              "      <td>19.0</td>\n",
              "      <td>2672.0</td>\n",
              "      <td>552.0</td>\n",
              "      <td>1298.0</td>\n",
              "      <td>478.0</td>\n",
              "      <td>1.9797</td>\n",
              "      <td>85800.0</td>\n",
              "    </tr>\n",
              "    <tr>\n",
              "      <th>16999</th>\n",
              "      <td>-124.35</td>\n",
              "      <td>40.54</td>\n",
              "      <td>52.0</td>\n",
              "      <td>1820.0</td>\n",
              "      <td>300.0</td>\n",
              "      <td>806.0</td>\n",
              "      <td>270.0</td>\n",
              "      <td>3.0147</td>\n",
              "      <td>94600.0</td>\n",
              "    </tr>\n",
              "  </tbody>\n",
              "</table>\n",
              "</div>"
            ],
            "text/plain": [
              "       longitude  latitude  ...  median_income  median_house_value\n",
              "16990    -124.22     41.73  ...         1.7038             78300.0\n",
              "16991    -124.23     41.75  ...         2.4805             73200.0\n",
              "16992    -124.23     40.81  ...         3.3462             50800.0\n",
              "16993    -124.23     40.54  ...         3.0806            106700.0\n",
              "16994    -124.25     40.28  ...         1.9417             76100.0\n",
              "16995    -124.26     40.58  ...         2.3571            111400.0\n",
              "16996    -124.27     40.69  ...         2.5179             79000.0\n",
              "16997    -124.30     41.84  ...         3.0313            103600.0\n",
              "16998    -124.30     41.80  ...         1.9797             85800.0\n",
              "16999    -124.35     40.54  ...         3.0147             94600.0\n",
              "\n",
              "[10 rows x 9 columns]"
            ]
          },
          "metadata": {
            "tags": []
          },
          "execution_count": 66
        }
      ]
    },
    {
      "cell_type": "code",
      "metadata": {
        "colab": {
          "base_uri": "https://localhost:8080/"
        },
        "id": "_hV8LciDuB3b",
        "outputId": "19b7f9fc-c0bf-45e5-e6f9-0f339637f0ab"
      },
      "source": [
        "\"To find the number of records\"\n",
        "len(stats)"
      ],
      "execution_count": null,
      "outputs": [
        {
          "output_type": "execute_result",
          "data": {
            "text/plain": [
              "17000"
            ]
          },
          "metadata": {
            "tags": []
          },
          "execution_count": 67
        }
      ]
    },
    {
      "cell_type": "markdown",
      "metadata": {
        "id": "6c_zflq7ufJT"
      },
      "source": [
        "Applying operation on a record data frame"
      ]
    },
    {
      "cell_type": "code",
      "metadata": {
        "colab": {
          "base_uri": "https://localhost:8080/"
        },
        "id": "qreOfNWdurUI",
        "outputId": "d2029d66-e47e-4a63-e9db-d289da7fb566"
      },
      "source": [
        "stats [\"households\"].mean() #finding the mean from the record"
      ],
      "execution_count": null,
      "outputs": [
        {
          "output_type": "execute_result",
          "data": {
            "text/plain": [
              "501.2219411764706"
            ]
          },
          "metadata": {
            "tags": []
          },
          "execution_count": 68
        }
      ]
    },
    {
      "cell_type": "code",
      "metadata": {
        "colab": {
          "base_uri": "https://localhost:8080/"
        },
        "id": "mhj0jN6Wu7Gj",
        "outputId": "1f2244b0-7dbb-4b0c-c34f-b00474971232"
      },
      "source": [
        "stats [\"total_rooms\"].max() #finding the maximum value from the record"
      ],
      "execution_count": null,
      "outputs": [
        {
          "output_type": "execute_result",
          "data": {
            "text/plain": [
              "37937.0"
            ]
          },
          "metadata": {
            "tags": []
          },
          "execution_count": 69
        }
      ]
    },
    {
      "cell_type": "code",
      "metadata": {
        "colab": {
          "base_uri": "https://localhost:8080/"
        },
        "id": "R9LPKBVJvOaR",
        "outputId": "a35678b1-afcb-474e-c9a1-35279f649b30"
      },
      "source": [
        "stats [\"latitude\"].min() #finding the minimum value from the record"
      ],
      "execution_count": null,
      "outputs": [
        {
          "output_type": "execute_result",
          "data": {
            "text/plain": [
              "32.54"
            ]
          },
          "metadata": {
            "tags": []
          },
          "execution_count": 70
        }
      ]
    },
    {
      "cell_type": "code",
      "metadata": {
        "colab": {
          "base_uri": "https://localhost:8080/",
          "height": 288
        },
        "id": "ZCflKs5hvbP4",
        "outputId": "e194b00a-b9fe-4c01-809b-10cdd1f0aa0e"
      },
      "source": [
        "stats.describe()   #finding every possible opertional value columnwise from the record"
      ],
      "execution_count": null,
      "outputs": [
        {
          "output_type": "execute_result",
          "data": {
            "text/html": [
              "<div>\n",
              "<style scoped>\n",
              "    .dataframe tbody tr th:only-of-type {\n",
              "        vertical-align: middle;\n",
              "    }\n",
              "\n",
              "    .dataframe tbody tr th {\n",
              "        vertical-align: top;\n",
              "    }\n",
              "\n",
              "    .dataframe thead th {\n",
              "        text-align: right;\n",
              "    }\n",
              "</style>\n",
              "<table border=\"1\" class=\"dataframe\">\n",
              "  <thead>\n",
              "    <tr style=\"text-align: right;\">\n",
              "      <th></th>\n",
              "      <th>longitude</th>\n",
              "      <th>latitude</th>\n",
              "      <th>housing_median_age</th>\n",
              "      <th>total_rooms</th>\n",
              "      <th>total_bedrooms</th>\n",
              "      <th>population</th>\n",
              "      <th>households</th>\n",
              "      <th>median_income</th>\n",
              "      <th>median_house_value</th>\n",
              "    </tr>\n",
              "  </thead>\n",
              "  <tbody>\n",
              "    <tr>\n",
              "      <th>count</th>\n",
              "      <td>17000.000000</td>\n",
              "      <td>17000.000000</td>\n",
              "      <td>17000.000000</td>\n",
              "      <td>17000.000000</td>\n",
              "      <td>17000.000000</td>\n",
              "      <td>17000.000000</td>\n",
              "      <td>17000.000000</td>\n",
              "      <td>17000.000000</td>\n",
              "      <td>17000.000000</td>\n",
              "    </tr>\n",
              "    <tr>\n",
              "      <th>mean</th>\n",
              "      <td>-119.562108</td>\n",
              "      <td>35.625225</td>\n",
              "      <td>28.589353</td>\n",
              "      <td>2643.664412</td>\n",
              "      <td>539.410824</td>\n",
              "      <td>1429.573941</td>\n",
              "      <td>501.221941</td>\n",
              "      <td>3.883578</td>\n",
              "      <td>207300.912353</td>\n",
              "    </tr>\n",
              "    <tr>\n",
              "      <th>std</th>\n",
              "      <td>2.005166</td>\n",
              "      <td>2.137340</td>\n",
              "      <td>12.586937</td>\n",
              "      <td>2179.947071</td>\n",
              "      <td>421.499452</td>\n",
              "      <td>1147.852959</td>\n",
              "      <td>384.520841</td>\n",
              "      <td>1.908157</td>\n",
              "      <td>115983.764387</td>\n",
              "    </tr>\n",
              "    <tr>\n",
              "      <th>min</th>\n",
              "      <td>-124.350000</td>\n",
              "      <td>32.540000</td>\n",
              "      <td>1.000000</td>\n",
              "      <td>2.000000</td>\n",
              "      <td>1.000000</td>\n",
              "      <td>3.000000</td>\n",
              "      <td>1.000000</td>\n",
              "      <td>0.499900</td>\n",
              "      <td>14999.000000</td>\n",
              "    </tr>\n",
              "    <tr>\n",
              "      <th>25%</th>\n",
              "      <td>-121.790000</td>\n",
              "      <td>33.930000</td>\n",
              "      <td>18.000000</td>\n",
              "      <td>1462.000000</td>\n",
              "      <td>297.000000</td>\n",
              "      <td>790.000000</td>\n",
              "      <td>282.000000</td>\n",
              "      <td>2.566375</td>\n",
              "      <td>119400.000000</td>\n",
              "    </tr>\n",
              "    <tr>\n",
              "      <th>50%</th>\n",
              "      <td>-118.490000</td>\n",
              "      <td>34.250000</td>\n",
              "      <td>29.000000</td>\n",
              "      <td>2127.000000</td>\n",
              "      <td>434.000000</td>\n",
              "      <td>1167.000000</td>\n",
              "      <td>409.000000</td>\n",
              "      <td>3.544600</td>\n",
              "      <td>180400.000000</td>\n",
              "    </tr>\n",
              "    <tr>\n",
              "      <th>75%</th>\n",
              "      <td>-118.000000</td>\n",
              "      <td>37.720000</td>\n",
              "      <td>37.000000</td>\n",
              "      <td>3151.250000</td>\n",
              "      <td>648.250000</td>\n",
              "      <td>1721.000000</td>\n",
              "      <td>605.250000</td>\n",
              "      <td>4.767000</td>\n",
              "      <td>265000.000000</td>\n",
              "    </tr>\n",
              "    <tr>\n",
              "      <th>max</th>\n",
              "      <td>-114.310000</td>\n",
              "      <td>41.950000</td>\n",
              "      <td>52.000000</td>\n",
              "      <td>37937.000000</td>\n",
              "      <td>6445.000000</td>\n",
              "      <td>35682.000000</td>\n",
              "      <td>6082.000000</td>\n",
              "      <td>15.000100</td>\n",
              "      <td>500001.000000</td>\n",
              "    </tr>\n",
              "  </tbody>\n",
              "</table>\n",
              "</div>"
            ],
            "text/plain": [
              "          longitude      latitude  ...  median_income  median_house_value\n",
              "count  17000.000000  17000.000000  ...   17000.000000        17000.000000\n",
              "mean    -119.562108     35.625225  ...       3.883578       207300.912353\n",
              "std        2.005166      2.137340  ...       1.908157       115983.764387\n",
              "min     -124.350000     32.540000  ...       0.499900        14999.000000\n",
              "25%     -121.790000     33.930000  ...       2.566375       119400.000000\n",
              "50%     -118.490000     34.250000  ...       3.544600       180400.000000\n",
              "75%     -118.000000     37.720000  ...       4.767000       265000.000000\n",
              "max     -114.310000     41.950000  ...      15.000100       500001.000000\n",
              "\n",
              "[8 rows x 9 columns]"
            ]
          },
          "metadata": {
            "tags": []
          },
          "execution_count": 71
        }
      ]
    },
    {
      "cell_type": "code",
      "metadata": {
        "colab": {
          "base_uri": "https://localhost:8080/",
          "height": 317
        },
        "id": "0Jv5IixYvsju",
        "outputId": "7c5b79db-0f66-4c13-c502-571145c375af"
      },
      "source": [
        "stats.hist(\"median_house_value\") #plotting a histogram for a coloumn record"
      ],
      "execution_count": null,
      "outputs": [
        {
          "output_type": "execute_result",
          "data": {
            "text/plain": [
              "array([[<matplotlib.axes._subplots.AxesSubplot object at 0x7fe11ccbc978>]],\n",
              "      dtype=object)"
            ]
          },
          "metadata": {
            "tags": []
          },
          "execution_count": 72
        },
        {
          "output_type": "display_data",
          "data": {
            "image/png": "[encoded data removed]",
            "text/plain": [
              "<Figure size 432x288 with 1 Axes>"
            ]
          },
          "metadata": {
            "tags": [],
            "needs_background": "light"
          }
        }
      ]
    },
    {
      "cell_type": "code",
      "metadata": {
        "colab": {
          "base_uri": "https://localhost:8080/",
          "height": 245
        },
        "id": "TeizJA6aYP-p",
        "outputId": "cd4183b1-d1b2-4550-9a79-3e59560e4622"
      },
      "source": [
        "stats.plot.scatter(x=\"median_income\",y=\"median_house_value\", figsize=(9, 3))"
      ],
      "execution_count": null,
      "outputs": [
        {
          "output_type": "execute_result",
          "data": {
            "text/plain": [
              "<matplotlib.axes._subplots.AxesSubplot at 0x7fe11c2d1748>"
            ]
          },
          "metadata": {
            "tags": []
          },
          "execution_count": 75
        },
        {
          "output_type": "display_data",
          "data": {
            "image/png": "[encoded data removed]",
            "text/plain": [
              "<Figure size 648x216 with 1 Axes>"
            ]
          },
          "metadata": {
            "tags": [],
            "needs_background": "light"
          }
        }
      ]
    },
    {
      "cell_type": "markdown",
      "metadata": {
        "id": "SGIR72OqwMmO"
      },
      "source": [
        "Creating a Data Frame and retriving specific data"
      ]
    },
    {
      "cell_type": "code",
      "metadata": {
        "colab": {
          "base_uri": "https://localhost:8080/"
        },
        "id": "GPtV9e71MiXR",
        "outputId": "074e7d70-5987-48d8-c336-9fa2f4f2790a"
      },
      "source": [
        "pip install Pandas"
      ],
      "execution_count": null,
      "outputs": [
        {
          "output_type": "stream",
          "text": [
            "Requirement already satisfied: Pandas in /usr/local/lib/python3.6/dist-packages (1.1.4)\n",
            "Requirement already satisfied: python-dateutil>=2.7.3 in /usr/local/lib/python3.6/dist-packages (from Pandas) (2.8.1)\n",
            "Requirement already satisfied: pytz>=2017.2 in /usr/local/lib/python3.6/dist-packages (from Pandas) (2018.9)\n",
            "Requirement already satisfied: numpy>=1.15.4 in /usr/local/lib/python3.6/dist-packages (from Pandas) (1.18.5)\n",
            "Requirement already satisfied: six>=1.5 in /usr/local/lib/python3.6/dist-packages (from python-dateutil>=2.7.3->Pandas) (1.15.0)\n"
          ],
          "name": "stdout"
        }
      ]
    },
    {
      "cell_type": "code",
      "metadata": {
        "id": "2A4I8McUM9Mh"
      },
      "source": [
        "import pandas as pd"
      ],
      "execution_count": null,
      "outputs": []
    },
    {
      "cell_type": "code",
      "metadata": {
        "id": "RVM35jJAwftW"
      },
      "source": [
        "family=pd.DataFrame(\n",
        "    {\n",
        "        \"name\":[\"austine\",\"naman\",\"johan\",\"nisha\",\"saji\",\"peter\",\"thressy\"],\n",
        "        \"age\":[\"18\",\"11\",\"10\",\"43\",\"48\",\"75\",\"72\"],\n",
        "        \"job\":[\"graduating\",\"schooling\",\"schooling\",\"lecturer\",\"lecturer\",\"retiered\",\"retiered\"]\n",
        "    }\n",
        ")"
      ],
      "execution_count": null,
      "outputs": []
    },
    {
      "cell_type": "code",
      "metadata": {
        "colab": {
          "base_uri": "https://localhost:8080/",
          "height": 258
        },
        "id": "RDquGTL1MRcK",
        "outputId": "e331d3f2-cba6-42e1-e9b3-1f5d9639f266"
      },
      "source": [
        "family #printing the whole data frame"
      ],
      "execution_count": null,
      "outputs": [
        {
          "output_type": "execute_result",
          "data": {
            "text/html": [
              "<div>\n",
              "<style scoped>\n",
              "    .dataframe tbody tr th:only-of-type {\n",
              "        vertical-align: middle;\n",
              "    }\n",
              "\n",
              "    .dataframe tbody tr th {\n",
              "        vertical-align: top;\n",
              "    }\n",
              "\n",
              "    .dataframe thead th {\n",
              "        text-align: right;\n",
              "    }\n",
              "</style>\n",
              "<table border=\"1\" class=\"dataframe\">\n",
              "  <thead>\n",
              "    <tr style=\"text-align: right;\">\n",
              "      <th></th>\n",
              "      <th>name</th>\n",
              "      <th>age</th>\n",
              "      <th>job</th>\n",
              "    </tr>\n",
              "  </thead>\n",
              "  <tbody>\n",
              "    <tr>\n",
              "      <th>0</th>\n",
              "      <td>austine</td>\n",
              "      <td>18</td>\n",
              "      <td>graduating</td>\n",
              "    </tr>\n",
              "    <tr>\n",
              "      <th>1</th>\n",
              "      <td>naman</td>\n",
              "      <td>11</td>\n",
              "      <td>schooling</td>\n",
              "    </tr>\n",
              "    <tr>\n",
              "      <th>2</th>\n",
              "      <td>johan</td>\n",
              "      <td>10</td>\n",
              "      <td>schooling</td>\n",
              "    </tr>\n",
              "    <tr>\n",
              "      <th>3</th>\n",
              "      <td>nisha</td>\n",
              "      <td>43</td>\n",
              "      <td>lecturer</td>\n",
              "    </tr>\n",
              "    <tr>\n",
              "      <th>4</th>\n",
              "      <td>saji</td>\n",
              "      <td>48</td>\n",
              "      <td>lecturer</td>\n",
              "    </tr>\n",
              "    <tr>\n",
              "      <th>5</th>\n",
              "      <td>peter</td>\n",
              "      <td>75</td>\n",
              "      <td>retiered</td>\n",
              "    </tr>\n",
              "    <tr>\n",
              "      <th>6</th>\n",
              "      <td>thressy</td>\n",
              "      <td>72</td>\n",
              "      <td>retiered</td>\n",
              "    </tr>\n",
              "  </tbody>\n",
              "</table>\n",
              "</div>"
            ],
            "text/plain": [
              "      name age         job\n",
              "0  austine  18  graduating\n",
              "1    naman  11   schooling\n",
              "2    johan  10   schooling\n",
              "3    nisha  43    lecturer\n",
              "4     saji  48    lecturer\n",
              "5    peter  75    retiered\n",
              "6  thressy  72    retiered"
            ]
          },
          "metadata": {
            "tags": []
          },
          "execution_count": 57
        }
      ]
    },
    {
      "cell_type": "code",
      "metadata": {
        "colab": {
          "base_uri": "https://localhost:8080/"
        },
        "id": "_Fv1hYe4OFme",
        "outputId": "fd2f9701-f170-4e33-d9f6-ddc1b310ec13"
      },
      "source": [
        "family['age'] #printing specificed column"
      ],
      "execution_count": null,
      "outputs": [
        {
          "output_type": "execute_result",
          "data": {
            "text/plain": [
              "0    18\n",
              "1    11\n",
              "2    10\n",
              "3    43\n",
              "4    48\n",
              "5    75\n",
              "6    72\n",
              "Name: age, dtype: object"
            ]
          },
          "metadata": {
            "tags": []
          },
          "execution_count": 58
        }
      ]
    },
    {
      "cell_type": "code",
      "metadata": {
        "colab": {
          "base_uri": "https://localhost:8080/",
          "height": 198
        },
        "id": "Qw4GazrLNMHF",
        "outputId": "834baabe-c7a7-4096-917c-6e4f2d158afa"
      },
      "source": [
        "family.iloc[0:5] #printing specificed number of rows"
      ],
      "execution_count": null,
      "outputs": [
        {
          "output_type": "execute_result",
          "data": {
            "text/html": [
              "<div>\n",
              "<style scoped>\n",
              "    .dataframe tbody tr th:only-of-type {\n",
              "        vertical-align: middle;\n",
              "    }\n",
              "\n",
              "    .dataframe tbody tr th {\n",
              "        vertical-align: top;\n",
              "    }\n",
              "\n",
              "    .dataframe thead th {\n",
              "        text-align: right;\n",
              "    }\n",
              "</style>\n",
              "<table border=\"1\" class=\"dataframe\">\n",
              "  <thead>\n",
              "    <tr style=\"text-align: right;\">\n",
              "      <th></th>\n",
              "      <th>name</th>\n",
              "      <th>age</th>\n",
              "      <th>job</th>\n",
              "    </tr>\n",
              "  </thead>\n",
              "  <tbody>\n",
              "    <tr>\n",
              "      <th>0</th>\n",
              "      <td>austine</td>\n",
              "      <td>18</td>\n",
              "      <td>graduating</td>\n",
              "    </tr>\n",
              "    <tr>\n",
              "      <th>1</th>\n",
              "      <td>naman</td>\n",
              "      <td>11</td>\n",
              "      <td>schooling</td>\n",
              "    </tr>\n",
              "    <tr>\n",
              "      <th>2</th>\n",
              "      <td>johan</td>\n",
              "      <td>10</td>\n",
              "      <td>schooling</td>\n",
              "    </tr>\n",
              "    <tr>\n",
              "      <th>3</th>\n",
              "      <td>nisha</td>\n",
              "      <td>43</td>\n",
              "      <td>lecturer</td>\n",
              "    </tr>\n",
              "    <tr>\n",
              "      <th>4</th>\n",
              "      <td>saji</td>\n",
              "      <td>48</td>\n",
              "      <td>lecturer</td>\n",
              "    </tr>\n",
              "  </tbody>\n",
              "</table>\n",
              "</div>"
            ],
            "text/plain": [
              "      name age         job\n",
              "0  austine  18  graduating\n",
              "1    naman  11   schooling\n",
              "2    johan  10   schooling\n",
              "3    nisha  43    lecturer\n",
              "4     saji  48    lecturer"
            ]
          },
          "metadata": {
            "tags": []
          },
          "execution_count": 59
        }
      ]
    },
    {
      "cell_type": "code",
      "metadata": {
        "colab": {
          "base_uri": "https://localhost:8080/",
          "height": 138
        },
        "id": "7HaYMnOgNq6g",
        "outputId": "06011550-3c55-4fd0-f93b-dce32f88cb2b"
      },
      "source": [
        "family.iloc[0:3,1:3] #printing specificed number of rows as well as columns"
      ],
      "execution_count": null,
      "outputs": [
        {
          "output_type": "execute_result",
          "data": {
            "text/html": [
              "<div>\n",
              "<style scoped>\n",
              "    .dataframe tbody tr th:only-of-type {\n",
              "        vertical-align: middle;\n",
              "    }\n",
              "\n",
              "    .dataframe tbody tr th {\n",
              "        vertical-align: top;\n",
              "    }\n",
              "\n",
              "    .dataframe thead th {\n",
              "        text-align: right;\n",
              "    }\n",
              "</style>\n",
              "<table border=\"1\" class=\"dataframe\">\n",
              "  <thead>\n",
              "    <tr style=\"text-align: right;\">\n",
              "      <th></th>\n",
              "      <th>age</th>\n",
              "      <th>job</th>\n",
              "    </tr>\n",
              "  </thead>\n",
              "  <tbody>\n",
              "    <tr>\n",
              "      <th>0</th>\n",
              "      <td>18</td>\n",
              "      <td>graduating</td>\n",
              "    </tr>\n",
              "    <tr>\n",
              "      <th>1</th>\n",
              "      <td>11</td>\n",
              "      <td>schooling</td>\n",
              "    </tr>\n",
              "    <tr>\n",
              "      <th>2</th>\n",
              "      <td>10</td>\n",
              "      <td>schooling</td>\n",
              "    </tr>\n",
              "  </tbody>\n",
              "</table>\n",
              "</div>"
            ],
            "text/plain": [
              "  age         job\n",
              "0  18  graduating\n",
              "1  11   schooling\n",
              "2  10   schooling"
            ]
          },
          "metadata": {
            "tags": []
          },
          "execution_count": 60
        }
      ]
    },
    {
      "cell_type": "code",
      "metadata": {
        "colab": {
          "base_uri": "https://localhost:8080/",
          "height": 108
        },
        "id": "kdojE9GEP5Vt",
        "outputId": "8883eb81-b542-43d8-aaed-28f6732c7c75"
      },
      "source": [
        "family.loc[family ['age'] > '50'] #printing the data over a specific criteria"
      ],
      "execution_count": null,
      "outputs": [
        {
          "output_type": "execute_result",
          "data": {
            "text/html": [
              "<div>\n",
              "<style scoped>\n",
              "    .dataframe tbody tr th:only-of-type {\n",
              "        vertical-align: middle;\n",
              "    }\n",
              "\n",
              "    .dataframe tbody tr th {\n",
              "        vertical-align: top;\n",
              "    }\n",
              "\n",
              "    .dataframe thead th {\n",
              "        text-align: right;\n",
              "    }\n",
              "</style>\n",
              "<table border=\"1\" class=\"dataframe\">\n",
              "  <thead>\n",
              "    <tr style=\"text-align: right;\">\n",
              "      <th></th>\n",
              "      <th>name</th>\n",
              "      <th>age</th>\n",
              "      <th>job</th>\n",
              "    </tr>\n",
              "  </thead>\n",
              "  <tbody>\n",
              "    <tr>\n",
              "      <th>5</th>\n",
              "      <td>peter</td>\n",
              "      <td>75</td>\n",
              "      <td>retiered</td>\n",
              "    </tr>\n",
              "    <tr>\n",
              "      <th>6</th>\n",
              "      <td>thressy</td>\n",
              "      <td>72</td>\n",
              "      <td>retiered</td>\n",
              "    </tr>\n",
              "  </tbody>\n",
              "</table>\n",
              "</div>"
            ],
            "text/plain": [
              "      name age       job\n",
              "5    peter  75  retiered\n",
              "6  thressy  72  retiered"
            ]
          },
          "metadata": {
            "tags": []
          },
          "execution_count": 61
        }
      ]
    },
    {
      "cell_type": "code",
      "metadata": {
        "colab": {
          "base_uri": "https://localhost:8080/"
        },
        "id": "vlS7Ff9WeN8U",
        "outputId": "d56ad9f6-7270-4442-ccc7-24e6409956b2"
      },
      "source": [
        "family.info() #collecting the structure and info on the dataF\\rame"
      ],
      "execution_count": null,
      "outputs": [
        {
          "output_type": "stream",
          "text": [
            "<class 'pandas.core.frame.DataFrame'>\n",
            "RangeIndex: 7 entries, 0 to 6\n",
            "Data columns (total 3 columns):\n",
            " #   Column  Non-Null Count  Dtype \n",
            "---  ------  --------------  ----- \n",
            " 0   name    7 non-null      object\n",
            " 1   age     7 non-null      object\n",
            " 2   job     7 non-null      object\n",
            "dtypes: object(3)\n",
            "memory usage: 296.0+ bytes\n"
          ],
          "name": "stdout"
        }
      ]
    },
    {
      "cell_type": "markdown",
      "metadata": {
        "id": "Oom9-1nwecwe"
      },
      "source": [
        "***DAY 5***"
      ]
    },
    {
      "cell_type": "markdown",
      "metadata": {
        "id": "D5tgu6CFdVuh"
      },
      "source": [
        "Uploading a CSV file and working on it"
      ]
    },
    {
      "cell_type": "code",
      "metadata": {
        "colab": {
          "base_uri": "https://localhost:8080/",
          "height": 35
        },
        "id": "T3u0U2At_f7L",
        "outputId": "b491e306-4f03-4e47-d62b-57f0f4ec4ff3"
      },
      "source": [
        "#question 1\n",
        "\"Q1:Load the studentdata to colab Q1:show the described of it\""
      ],
      "execution_count": null,
      "outputs": [
        {
          "output_type": "execute_result",
          "data": {
            "application/vnd.google.colaboratory.intrinsic+json": {
              "type": "string"
            },
            "text/plain": [
              "'Q1:Load the studentdata to colab Q1:show the described of it'"
            ]
          },
          "metadata": {
            "tags": []
          },
          "execution_count": 159
        }
      ]
    },
    {
      "cell_type": "code",
      "metadata": {
        "colab": {
          "resources": {
            "http://localhost:8080/nbextensions/google.colab/files.js": {
              "data": "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",
              "ok": true,
              "headers": [
                [
                  "content-type",
                  "application/javascript"
                ]
              ],
              "status": 200,
              "status_text": ""
            }
          },
          "base_uri": "https://localhost:8080/",
          "height": 111
        },
        "id": "1uPcECdDbGwi",
        "outputId": "b26b063b-3a53-4e5e-dcf5-7fc42da4929b"
      },
      "source": [
        "\"uploding a CSV from the system to Collab\"\n",
        "from google.colab import files\n",
        "uploaded=files.upload()\n",
        "print(uploaded)"
      ],
      "execution_count": null,
      "outputs": [
        {
          "output_type": "display_data",
          "data": {
            "text/html": [
              "\n",
              "     <input type=\"file\" id=\"files-7d96a8c6-f969-4866-b314-f0bcaebfb44f\" name=\"files[]\" multiple disabled\n",
              "        style=\"border:none\" />\n",
              "     <output id=\"result-7d96a8c6-f969-4866-b314-f0bcaebfb44f\">\n",
              "      Upload widget is only available when the cell has been executed in the\n",
              "      current browser session. Please rerun this cell to enable.\n",
              "      </output>\n",
              "      <script src=\"/nbextensions/google.colab/files.js\"></script> "
            ],
            "text/plain": [
              "<IPython.core.display.HTML object>"
            ]
          },
          "metadata": {
            "tags": []
          }
        },
        {
          "output_type": "stream",
          "text": [
            "Saving StudentsPerformance.csv to StudentsPerformance.csv\n",
            "{'StudentsPerformance.csv': b'\"gender\",\"race/ethnicity\",\"parental level of education\",\"lunch\",\"test preparation course\",\"math score\",\"reading score\",\"writing score\"\\n\"female\",\"group B\",\"bachelor\\'s degree\",\"standard\",\"none\",\"72\",\"72\",\"74\"\\n\"female\",\"group C\",\"some college\",\"standard\",\"completed\",\"69\",\"90\",\"88\"\\n\"female\",\"group B\",\"master\\'s degree\",\"standard\",\"none\",\"90\",\"95\",\"93\"\\n\"male\",\"group A\",\"associate\\'s degree\",\"free/reduced\",\"none\",\"47\",\"57\",\"44\"\\n\"male\",\"group C\",\"some college\",\"standard\",\"none\",\"76\",\"78\",\"75\"\\n\"female\",\"group B\",\"associate\\'s degree\",\"standard\",\"none\",\"71\",\"83\",\"78\"\\n\"female\",\"group B\",\"some college\",\"standard\",\"completed\",\"88\",\"95\",\"92\"\\n\"male\",\"group B\",\"some college\",\"free/reduced\",\"none\",\"40\",\"43\",\"39\"\\n\"male\",\"group D\",\"high school\",\"free/reduced\",\"completed\",\"64\",\"64\",\"67\"\\n\"female\",\"group B\",\"high school\",\"free/reduced\",\"none\",\"38\",\"60\",\"50\"\\n\"male\",\"group C\",\"associate\\'s degree\",\"standard\",\"none\",\"58\",\"54\",\"52\"\\n\"male\",\"group D\",\"associate\\'s degree\",\"standard\",\"none\",\"40\",\"52\",\"43\"\\n\"female\",\"group B\",\"high school\",\"standard\",\"none\",\"65\",\"81\",\"73\"\\n\"male\",\"group A\",\"some college\",\"standard\",\"completed\",\"78\",\"72\",\"70\"\\n\"female\",\"group A\",\"master\\'s degree\",\"standard\",\"none\",\"50\",\"53\",\"58\"\\n\"female\",\"group C\",\"some high school\",\"standard\",\"none\",\"69\",\"75\",\"78\"\\n\"male\",\"group C\",\"high school\",\"standard\",\"none\",\"88\",\"89\",\"86\"\\n\"female\",\"group B\",\"some high school\",\"free/reduced\",\"none\",\"18\",\"32\",\"28\"\\n\"male\",\"group C\",\"master\\'s degree\",\"free/reduced\",\"completed\",\"46\",\"42\",\"46\"\\n\"female\",\"group C\",\"associate\\'s degree\",\"free/reduced\",\"none\",\"54\",\"58\",\"61\"\\n\"male\",\"group D\",\"high school\",\"standard\",\"none\",\"66\",\"69\",\"63\"\\n\"female\",\"group B\",\"some college\",\"free/reduced\",\"completed\",\"65\",\"75\",\"70\"\\n\"male\",\"group D\",\"some college\",\"standard\",\"none\",\"44\",\"54\",\"53\"\\n\"female\",\"group C\",\"some high school\",\"standard\",\"none\",\"69\",\"73\",\"73\"\\n\"male\",\"group D\",\"bachelor\\'s degree\",\"free/reduced\",\"completed\",\"74\",\"71\",\"80\"\\n\"male\",\"group A\",\"master\\'s degree\",\"free/reduced\",\"none\",\"73\",\"74\",\"72\"\\n\"male\",\"group B\",\"some college\",\"standard\",\"none\",\"69\",\"54\",\"55\"\\n\"female\",\"group C\",\"bachelor\\'s degree\",\"standard\",\"none\",\"67\",\"69\",\"75\"\\n\"male\",\"group C\",\"high school\",\"standard\",\"none\",\"70\",\"70\",\"65\"\\n\"female\",\"group D\",\"master\\'s degree\",\"standard\",\"none\",\"62\",\"70\",\"75\"\\n\"female\",\"group D\",\"some college\",\"standard\",\"none\",\"69\",\"74\",\"74\"\\n\"female\",\"group B\",\"some college\",\"standard\",\"none\",\"63\",\"65\",\"61\"\\n\"female\",\"group E\",\"master\\'s degree\",\"free/reduced\",\"none\",\"56\",\"72\",\"65\"\\n\"male\",\"group D\",\"some college\",\"standard\",\"none\",\"40\",\"42\",\"38\"\\n\"male\",\"group E\",\"some college\",\"standard\",\"none\",\"97\",\"87\",\"82\"\\n\"male\",\"group E\",\"associate\\'s degree\",\"standard\",\"completed\",\"81\",\"81\",\"79\"\\n\"female\",\"group D\",\"associate\\'s degree\",\"standard\",\"none\",\"74\",\"81\",\"83\"\\n\"female\",\"group D\",\"some high school\",\"free/reduced\",\"none\",\"50\",\"64\",\"59\"\\n\"female\",\"group D\",\"associate\\'s degree\",\"free/reduced\",\"completed\",\"75\",\"90\",\"88\"\\n\"male\",\"group B\",\"associate\\'s degree\",\"free/reduced\",\"none\",\"57\",\"56\",\"57\"\\n\"male\",\"group C\",\"associate\\'s degree\",\"free/reduced\",\"none\",\"55\",\"61\",\"54\"\\n\"female\",\"group C\",\"associate\\'s degree\",\"standard\",\"none\",\"58\",\"73\",\"68\"\\n\"female\",\"group B\",\"associate\\'s degree\",\"standard\",\"none\",\"53\",\"58\",\"65\"\\n\"male\",\"group B\",\"some college\",\"free/reduced\",\"completed\",\"59\",\"65\",\"66\"\\n\"female\",\"group E\",\"associate\\'s degree\",\"free/reduced\",\"none\",\"50\",\"56\",\"54\"\\n\"male\",\"group B\",\"associate\\'s degree\",\"standard\",\"none\",\"65\",\"54\",\"57\"\\n\"female\",\"group A\",\"associate\\'s degree\",\"standard\",\"completed\",\"55\",\"65\",\"62\"\\n\"female\",\"group C\",\"high school\",\"standard\",\"none\",\"66\",\"71\",\"76\"\\n\"female\",\"group D\",\"associate\\'s degree\",\"free/reduced\",\"completed\",\"57\",\"74\",\"76\"\\n\"male\",\"group C\",\"high school\",\"standard\",\"completed\",\"82\",\"84\",\"82\"\\n\"male\",\"group E\",\"some college\",\"standard\",\"none\",\"53\",\"55\",\"48\"\\n\"male\",\"group E\",\"associate\\'s degree\",\"free/reduced\",\"completed\",\"77\",\"69\",\"68\"\\n\"male\",\"group C\",\"some college\",\"standard\",\"none\",\"53\",\"44\",\"42\"\\n\"male\",\"group D\",\"high school\",\"standard\",\"none\",\"88\",\"78\",\"75\"\\n\"female\",\"group C\",\"some high school\",\"free/reduced\",\"completed\",\"71\",\"84\",\"87\"\\n\"female\",\"group C\",\"high school\",\"free/reduced\",\"none\",\"33\",\"41\",\"43\"\\n\"female\",\"group E\",\"associate\\'s degree\",\"standard\",\"completed\",\"82\",\"85\",\"86\"\\n\"male\",\"group D\",\"associate\\'s degree\",\"standard\",\"none\",\"52\",\"55\",\"49\"\\n\"male\",\"group D\",\"some college\",\"standard\",\"completed\",\"58\",\"59\",\"58\"\\n\"female\",\"group C\",\"some high school\",\"free/reduced\",\"none\",\"0\",\"17\",\"10\"\\n\"male\",\"group E\",\"bachelor\\'s degree\",\"free/reduced\",\"completed\",\"79\",\"74\",\"72\"\\n\"male\",\"group A\",\"some high school\",\"free/reduced\",\"none\",\"39\",\"39\",\"34\"\\n\"male\",\"group A\",\"associate\\'s degree\",\"free/reduced\",\"none\",\"62\",\"61\",\"55\"\\n\"female\",\"group C\",\"associate\\'s degree\",\"standard\",\"none\",\"69\",\"80\",\"71\"\\n\"female\",\"group D\",\"some high school\",\"standard\",\"none\",\"59\",\"58\",\"59\"\\n\"male\",\"group B\",\"some high school\",\"standard\",\"none\",\"67\",\"64\",\"61\"\\n\"male\",\"group D\",\"some high school\",\"free/reduced\",\"none\",\"45\",\"37\",\"37\"\\n\"female\",\"group C\",\"some college\",\"standard\",\"none\",\"60\",\"72\",\"74\"\\n\"male\",\"group B\",\"associate\\'s degree\",\"free/reduced\",\"none\",\"61\",\"58\",\"56\"\\n\"female\",\"group C\",\"associate\\'s degree\",\"standard\",\"none\",\"39\",\"64\",\"57\"\\n\"female\",\"group D\",\"some college\",\"free/reduced\",\"completed\",\"58\",\"63\",\"73\"\\n\"male\",\"group D\",\"some college\",\"standard\",\"completed\",\"63\",\"55\",\"63\"\\n\"female\",\"group A\",\"associate\\'s degree\",\"free/reduced\",\"none\",\"41\",\"51\",\"48\"\\n\"male\",\"group C\",\"some high school\",\"free/reduced\",\"none\",\"61\",\"57\",\"56\"\\n\"male\",\"group C\",\"some high school\",\"standard\",\"none\",\"49\",\"49\",\"41\"\\n\"male\",\"group B\",\"associate\\'s degree\",\"free/reduced\",\"none\",\"44\",\"41\",\"38\"\\n\"male\",\"group E\",\"some high school\",\"standard\",\"none\",\"30\",\"26\",\"22\"\\n\"male\",\"group A\",\"bachelor\\'s degree\",\"standard\",\"completed\",\"80\",\"78\",\"81\"\\n\"female\",\"group D\",\"some high school\",\"standard\",\"completed\",\"61\",\"74\",\"72\"\\n\"female\",\"group E\",\"master\\'s degree\",\"standard\",\"none\",\"62\",\"68\",\"68\"\\n\"female\",\"group B\",\"associate\\'s degree\",\"standard\",\"none\",\"47\",\"49\",\"50\"\\n\"male\",\"group B\",\"high school\",\"free/reduced\",\"none\",\"49\",\"45\",\"45\"\\n\"male\",\"group A\",\"some college\",\"free/reduced\",\"completed\",\"50\",\"47\",\"54\"\\n\"male\",\"group E\",\"associate\\'s degree\",\"standard\",\"none\",\"72\",\"64\",\"63\"\\n\"male\",\"group D\",\"high school\",\"free/reduced\",\"none\",\"42\",\"39\",\"34\"\\n\"female\",\"group C\",\"some college\",\"standard\",\"none\",\"73\",\"80\",\"82\"\\n\"female\",\"group C\",\"some college\",\"free/reduced\",\"none\",\"76\",\"83\",\"88\"\\n\"female\",\"group D\",\"associate\\'s degree\",\"standard\",\"none\",\"71\",\"71\",\"74\"\\n\"female\",\"group A\",\"some college\",\"standard\",\"none\",\"58\",\"70\",\"67\"\\n\"female\",\"group D\",\"some high school\",\"standard\",\"none\",\"73\",\"86\",\"82\"\\n\"female\",\"group C\",\"bachelor\\'s degree\",\"standard\",\"none\",\"65\",\"72\",\"74\"\\n\"male\",\"group C\",\"high school\",\"free/reduced\",\"none\",\"27\",\"34\",\"36\"\\n\"male\",\"group C\",\"high school\",\"standard\",\"none\",\"71\",\"79\",\"71\"\\n\"male\",\"group C\",\"associate\\'s degree\",\"free/reduced\",\"completed\",\"43\",\"45\",\"50\"\\n\"female\",\"group B\",\"some college\",\"standard\",\"none\",\"79\",\"86\",\"92\"\\n\"male\",\"group C\",\"associate\\'s degree\",\"free/reduced\",\"completed\",\"78\",\"81\",\"82\"\\n\"male\",\"group B\",\"some high school\",\"standard\",\"completed\",\"65\",\"66\",\"62\"\\n\"female\",\"group E\",\"some college\",\"standard\",\"completed\",\"63\",\"72\",\"70\"\\n\"female\",\"group D\",\"some college\",\"free/reduced\",\"none\",\"58\",\"67\",\"62\"\\n\"female\",\"group D\",\"bachelor\\'s degree\",\"standard\",\"none\",\"65\",\"67\",\"62\"\\n\"male\",\"group B\",\"some college\",\"standard\",\"none\",\"79\",\"67\",\"67\"\\n\"male\",\"group D\",\"bachelor\\'s degree\",\"standard\",\"completed\",\"68\",\"74\",\"74\"\\n\"female\",\"group D\",\"associate\\'s degree\",\"standard\",\"none\",\"85\",\"91\",\"89\"\\n\"male\",\"group B\",\"high school\",\"standard\",\"completed\",\"60\",\"44\",\"47\"\\n\"male\",\"group C\",\"some college\",\"standard\",\"completed\",\"98\",\"86\",\"90\"\\n\"female\",\"group C\",\"some college\",\"standard\",\"none\",\"58\",\"67\",\"72\"\\n\"female\",\"group D\",\"master\\'s degree\",\"standard\",\"none\",\"87\",\"100\",\"100\"\\n\"male\",\"group E\",\"associate\\'s degree\",\"standard\",\"completed\",\"66\",\"63\",\"64\"\\n\"female\",\"group B\",\"associate\\'s degree\",\"free/reduced\",\"none\",\"52\",\"76\",\"70\"\\n\"female\",\"group B\",\"some high school\",\"standard\",\"none\",\"70\",\"64\",\"72\"\\n\"female\",\"group D\",\"associate\\'s degree\",\"free/reduced\",\"completed\",\"77\",\"89\",\"98\"\\n\"male\",\"group C\",\"high school\",\"standard\",\"none\",\"62\",\"55\",\"49\"\\n\"male\",\"group A\",\"associate\\'s degree\",\"standard\",\"none\",\"54\",\"53\",\"47\"\\n\"female\",\"group D\",\"some college\",\"standard\",\"none\",\"51\",\"58\",\"54\"\\n\"female\",\"group E\",\"bachelor\\'s degree\",\"standard\",\"completed\",\"99\",\"100\",\"100\"\\n\"male\",\"group C\",\"high school\",\"standard\",\"none\",\"84\",\"77\",\"74\"\\n\"female\",\"group B\",\"bachelor\\'s degree\",\"free/reduced\",\"none\",\"75\",\"85\",\"82\"\\n\"female\",\"group D\",\"bachelor\\'s degree\",\"standard\",\"none\",\"78\",\"82\",\"79\"\\n\"female\",\"group D\",\"some high school\",\"standard\",\"none\",\"51\",\"63\",\"61\"\\n\"female\",\"group C\",\"some college\",\"standard\",\"none\",\"55\",\"69\",\"65\"\\n\"female\",\"group C\",\"bachelor\\'s degree\",\"standard\",\"completed\",\"79\",\"92\",\"89\"\\n\"male\",\"group B\",\"associate\\'s degree\",\"standard\",\"completed\",\"91\",\"89\",\"92\"\\n\"female\",\"group C\",\"some college\",\"standard\",\"completed\",\"88\",\"93\",\"93\"\\n\"male\",\"group D\",\"high school\",\"free/reduced\",\"none\",\"63\",\"57\",\"56\"\\n\"male\",\"group E\",\"some college\",\"standard\",\"none\",\"83\",\"80\",\"73\"\\n\"female\",\"group B\",\"high school\",\"standard\",\"none\",\"87\",\"95\",\"86\"\\n\"male\",\"group B\",\"some high school\",\"standard\",\"none\",\"72\",\"68\",\"67\"\\n\"male\",\"group D\",\"some college\",\"standard\",\"completed\",\"65\",\"77\",\"74\"\\n\"male\",\"group D\",\"master\\'s degree\",\"standard\",\"none\",\"82\",\"82\",\"74\"\\n\"female\",\"group A\",\"bachelor\\'s degree\",\"standard\",\"none\",\"51\",\"49\",\"51\"\\n\"male\",\"group D\",\"master\\'s degree\",\"standard\",\"none\",\"89\",\"84\",\"82\"\\n\"male\",\"group C\",\"some high school\",\"free/reduced\",\"completed\",\"53\",\"37\",\"40\"\\n\"male\",\"group E\",\"some college\",\"free/reduced\",\"completed\",\"87\",\"74\",\"70\"\\n\"female\",\"group C\",\"some college\",\"standard\",\"completed\",\"75\",\"81\",\"84\"\\n\"male\",\"group D\",\"bachelor\\'s degree\",\"free/reduced\",\"completed\",\"74\",\"79\",\"75\"\\n\"male\",\"group C\",\"bachelor\\'s degree\",\"standard\",\"none\",\"58\",\"55\",\"48\"\\n\"male\",\"group B\",\"some high school\",\"standard\",\"completed\",\"51\",\"54\",\"41\"\\n\"male\",\"group E\",\"high school\",\"standard\",\"none\",\"70\",\"55\",\"56\"\\n\"female\",\"group C\",\"associate\\'s degree\",\"standard\",\"none\",\"59\",\"66\",\"67\"\\n\"male\",\"group D\",\"some college\",\"standard\",\"completed\",\"71\",\"61\",\"69\"\\n\"female\",\"group D\",\"some high school\",\"standard\",\"none\",\"76\",\"72\",\"71\"\\n\"female\",\"group C\",\"some college\",\"free/reduced\",\"none\",\"59\",\"62\",\"64\"\\n\"female\",\"group E\",\"some college\",\"free/reduced\",\"completed\",\"42\",\"55\",\"54\"\\n\"male\",\"group A\",\"high school\",\"standard\",\"none\",\"57\",\"43\",\"47\"\\n\"male\",\"group D\",\"some college\",\"standard\",\"none\",\"88\",\"73\",\"78\"\\n\"female\",\"group C\",\"some college\",\"free/reduced\",\"none\",\"22\",\"39\",\"33\"\\n\"male\",\"group B\",\"some high school\",\"standard\",\"none\",\"88\",\"84\",\"75\"\\n\"male\",\"group C\",\"associate\\'s degree\",\"free/reduced\",\"none\",\"73\",\"68\",\"66\"\\n\"female\",\"group D\",\"bachelor\\'s degree\",\"standard\",\"completed\",\"68\",\"75\",\"81\"\\n\"male\",\"group E\",\"associate\\'s degree\",\"free/reduced\",\"completed\",\"100\",\"100\",\"93\"\\n\"male\",\"group A\",\"some high school\",\"standard\",\"completed\",\"62\",\"67\",\"69\"\\n\"male\",\"group A\",\"bachelor\\'s degree\",\"standard\",\"none\",\"77\",\"67\",\"68\"\\n\"female\",\"group B\",\"associate\\'s degree\",\"standard\",\"completed\",\"59\",\"70\",\"66\"\\n\"male\",\"group D\",\"bachelor\\'s degree\",\"standard\",\"none\",\"54\",\"49\",\"47\"\\n\"male\",\"group D\",\"some high school\",\"standard\",\"none\",\"62\",\"67\",\"61\"\\n\"female\",\"group C\",\"some college\",\"standard\",\"completed\",\"70\",\"89\",\"88\"\\n\"female\",\"group E\",\"high school\",\"free/reduced\",\"completed\",\"66\",\"74\",\"78\"\\n\"male\",\"group B\",\"some college\",\"free/reduced\",\"none\",\"60\",\"60\",\"60\"\\n\"female\",\"group B\",\"associate\\'s degree\",\"standard\",\"completed\",\"61\",\"86\",\"87\"\\n\"male\",\"group D\",\"associate\\'s degree\",\"free/reduced\",\"none\",\"66\",\"62\",\"64\"\\n\"male\",\"group B\",\"associate\\'s degree\",\"free/reduced\",\"completed\",\"82\",\"78\",\"74\"\\n\"female\",\"group E\",\"some college\",\"free/reduced\",\"completed\",\"75\",\"88\",\"85\"\\n\"male\",\"group B\",\"master\\'s degree\",\"free/reduced\",\"none\",\"49\",\"53\",\"52\"\\n\"male\",\"group C\",\"high school\",\"standard\",\"none\",\"52\",\"53\",\"49\"\\n\"female\",\"group E\",\"master\\'s degree\",\"standard\",\"none\",\"81\",\"92\",\"91\"\\n\"female\",\"group C\",\"bachelor\\'s degree\",\"standard\",\"completed\",\"96\",\"100\",\"100\"\\n\"male\",\"group C\",\"high school\",\"free/reduced\",\"completed\",\"53\",\"51\",\"51\"\\n\"female\",\"group B\",\"master\\'s degree\",\"free/reduced\",\"completed\",\"58\",\"76\",\"78\"\\n\"female\",\"group B\",\"high school\",\"standard\",\"completed\",\"68\",\"83\",\"78\"\\n\"female\",\"group C\",\"some college\",\"free/reduced\",\"completed\",\"67\",\"75\",\"70\"\\n\"male\",\"group A\",\"high school\",\"standard\",\"completed\",\"72\",\"73\",\"74\"\\n\"male\",\"group E\",\"some high school\",\"standard\",\"none\",\"94\",\"88\",\"78\"\\n\"female\",\"group D\",\"some college\",\"standard\",\"none\",\"79\",\"86\",\"81\"\\n\"female\",\"group C\",\"associate\\'s degree\",\"standard\",\"none\",\"63\",\"67\",\"70\"\\n\"female\",\"group C\",\"bachelor\\'s degree\",\"free/reduced\",\"completed\",\"43\",\"51\",\"54\"\\n\"female\",\"group C\",\"master\\'s degree\",\"standard\",\"completed\",\"81\",\"91\",\"87\"\\n\"female\",\"group B\",\"high school\",\"free/reduced\",\"completed\",\"46\",\"54\",\"58\"\\n\"female\",\"group C\",\"associate\\'s degree\",\"standard\",\"completed\",\"71\",\"77\",\"77\"\\n\"female\",\"group B\",\"master\\'s degree\",\"free/reduced\",\"completed\",\"52\",\"70\",\"62\"\\n\"female\",\"group D\",\"some high school\",\"standard\",\"completed\",\"97\",\"100\",\"100\"\\n\"male\",\"group C\",\"master\\'s degree\",\"free/reduced\",\"completed\",\"62\",\"68\",\"75\"\\n\"female\",\"group C\",\"some college\",\"free/reduced\",\"none\",\"46\",\"64\",\"66\"\\n\"female\",\"group E\",\"high school\",\"standard\",\"none\",\"50\",\"50\",\"47\"\\n\"female\",\"group D\",\"associate\\'s degree\",\"standard\",\"none\",\"65\",\"69\",\"70\"\\n\"male\",\"group C\",\"some high school\",\"free/reduced\",\"completed\",\"45\",\"52\",\"49\"\\n\"male\",\"group C\",\"associate\\'s degree\",\"free/reduced\",\"completed\",\"65\",\"67\",\"65\"\\n\"male\",\"group E\",\"high school\",\"standard\",\"none\",\"80\",\"76\",\"65\"\\n\"male\",\"group D\",\"some high school\",\"standard\",\"completed\",\"62\",\"66\",\"68\"\\n\"male\",\"group B\",\"some high school\",\"free/reduced\",\"none\",\"48\",\"52\",\"45\"\\n\"female\",\"group C\",\"bachelor\\'s degree\",\"standard\",\"none\",\"77\",\"88\",\"87\"\\n\"female\",\"group E\",\"associate\\'s degree\",\"standard\",\"none\",\"66\",\"65\",\"69\"\\n\"male\",\"group D\",\"some college\",\"standard\",\"completed\",\"76\",\"83\",\"79\"\\n\"female\",\"group B\",\"some high school\",\"standard\",\"none\",\"62\",\"64\",\"66\"\\n\"male\",\"group D\",\"some college\",\"standard\",\"completed\",\"77\",\"62\",\"62\"\\n\"female\",\"group C\",\"master\\'s degree\",\"standard\",\"completed\",\"69\",\"84\",\"85\"\\n\"male\",\"group D\",\"associate\\'s degree\",\"standard\",\"none\",\"61\",\"55\",\"52\"\\n\"male\",\"group C\",\"some high school\",\"free/reduced\",\"completed\",\"59\",\"69\",\"65\"\\n\"male\",\"group E\",\"high school\",\"free/reduced\",\"none\",\"55\",\"56\",\"51\"\\n\"female\",\"group B\",\"some college\",\"free/reduced\",\"none\",\"45\",\"53\",\"55\"\\n\"female\",\"group B\",\"bachelor\\'s degree\",\"free/reduced\",\"none\",\"78\",\"79\",\"76\"\\n\"female\",\"group C\",\"associate\\'s degree\",\"standard\",\"completed\",\"67\",\"84\",\"86\"\\n\"female\",\"group D\",\"some college\",\"free/reduced\",\"none\",\"65\",\"81\",\"77\"\\n\"male\",\"group C\",\"associate\\'s degree\",\"standard\",\"none\",\"69\",\"77\",\"69\"\\n\"female\",\"group B\",\"associate\\'s degree\",\"standard\",\"none\",\"57\",\"69\",\"68\"\\n\"male\",\"group C\",\"some college\",\"standard\",\"none\",\"59\",\"41\",\"42\"\\n\"male\",\"group D\",\"some high school\",\"standard\",\"completed\",\"74\",\"71\",\"78\"\\n\"male\",\"group E\",\"bachelor\\'s degree\",\"standard\",\"none\",\"82\",\"62\",\"62\"\\n\"male\",\"group E\",\"high school\",\"standard\",\"completed\",\"81\",\"80\",\"76\"\\n\"female\",\"group B\",\"some college\",\"free/reduced\",\"none\",\"74\",\"81\",\"76\"\\n\"female\",\"group B\",\"some college\",\"free/reduced\",\"none\",\"58\",\"61\",\"66\"\\n\"male\",\"group D\",\"some high school\",\"free/reduced\",\"completed\",\"80\",\"79\",\"79\"\\n\"male\",\"group C\",\"some college\",\"free/reduced\",\"none\",\"35\",\"28\",\"27\"\\n\"female\",\"group C\",\"high school\",\"free/reduced\",\"none\",\"42\",\"62\",\"60\"\\n\"male\",\"group C\",\"associate\\'s degree\",\"free/reduced\",\"completed\",\"60\",\"51\",\"56\"\\n\"male\",\"group E\",\"high school\",\"standard\",\"completed\",\"87\",\"91\",\"81\"\\n\"male\",\"group B\",\"some high school\",\"standard\",\"completed\",\"84\",\"83\",\"75\"\\n\"female\",\"group E\",\"associate\\'s degree\",\"free/reduced\",\"completed\",\"83\",\"86\",\"88\"\\n\"female\",\"group C\",\"high school\",\"free/reduced\",\"none\",\"34\",\"42\",\"39\"\\n\"male\",\"group B\",\"high school\",\"free/reduced\",\"none\",\"66\",\"77\",\"70\"\\n\"male\",\"group B\",\"some high school\",\"standard\",\"completed\",\"61\",\"56\",\"56\"\\n\"female\",\"group D\",\"high school\",\"standard\",\"completed\",\"56\",\"68\",\"74\"\\n\"male\",\"group B\",\"associate\\'s degree\",\"standard\",\"none\",\"87\",\"85\",\"73\"\\n\"female\",\"group C\",\"some high school\",\"free/reduced\",\"none\",\"55\",\"65\",\"62\"\\n\"male\",\"group D\",\"some high school\",\"standard\",\"none\",\"86\",\"80\",\"75\"\\n\"female\",\"group B\",\"associate\\'s degree\",\"standard\",\"completed\",\"52\",\"66\",\"73\"\\n\"female\",\"group E\",\"master\\'s degree\",\"free/reduced\",\"none\",\"45\",\"56\",\"54\"\\n\"female\",\"group C\",\"some college\",\"standard\",\"none\",\"72\",\"72\",\"71\"\\n\"male\",\"group D\",\"high school\",\"standard\",\"none\",\"57\",\"50\",\"54\"\\n\"male\",\"group A\",\"some high school\",\"free/reduced\",\"none\",\"68\",\"72\",\"64\"\\n\"female\",\"group C\",\"some college\",\"standard\",\"completed\",\"88\",\"95\",\"94\"\\n\"male\",\"group D\",\"some college\",\"standard\",\"none\",\"76\",\"64\",\"66\"\\n\"male\",\"group C\",\"associate\\'s degree\",\"standard\",\"none\",\"46\",\"43\",\"42\"\\n\"female\",\"group B\",\"bachelor\\'s degree\",\"standard\",\"none\",\"67\",\"86\",\"83\"\\n\"male\",\"group E\",\"some high school\",\"standard\",\"none\",\"92\",\"87\",\"78\"\\n\"male\",\"group C\",\"bachelor\\'s degree\",\"standard\",\"completed\",\"83\",\"82\",\"84\"\\n\"male\",\"group D\",\"associate\\'s degree\",\"standard\",\"none\",\"80\",\"75\",\"77\"\\n\"male\",\"group D\",\"bachelor\\'s degree\",\"free/reduced\",\"none\",\"63\",\"66\",\"67\"\\n\"female\",\"group D\",\"some high school\",\"standard\",\"completed\",\"64\",\"60\",\"74\"\\n\"male\",\"group B\",\"some college\",\"standard\",\"none\",\"54\",\"52\",\"51\"\\n\"male\",\"group C\",\"associate\\'s degree\",\"standard\",\"none\",\"84\",\"80\",\"80\"\\n\"male\",\"group D\",\"high school\",\"free/reduced\",\"completed\",\"73\",\"68\",\"66\"\\n\"female\",\"group E\",\"bachelor\\'s degree\",\"standard\",\"none\",\"80\",\"83\",\"83\"\\n\"female\",\"group D\",\"high school\",\"standard\",\"none\",\"56\",\"52\",\"55\"\\n\"male\",\"group E\",\"some college\",\"standard\",\"none\",\"59\",\"51\",\"43\"\\n\"male\",\"group D\",\"some high school\",\"standard\",\"none\",\"75\",\"74\",\"69\"\\n\"male\",\"group C\",\"associate\\'s degree\",\"standard\",\"none\",\"85\",\"76\",\"71\"\\n\"male\",\"group E\",\"associate\\'s degree\",\"standard\",\"none\",\"89\",\"76\",\"74\"\\n\"female\",\"group B\",\"high school\",\"standard\",\"completed\",\"58\",\"70\",\"68\"\\n\"female\",\"group B\",\"high school\",\"standard\",\"none\",\"65\",\"64\",\"62\"\\n\"male\",\"group C\",\"high school\",\"standard\",\"none\",\"68\",\"60\",\"53\"\\n\"male\",\"group A\",\"some high school\",\"standard\",\"completed\",\"47\",\"49\",\"49\"\\n\"female\",\"group D\",\"some college\",\"free/reduced\",\"none\",\"71\",\"83\",\"83\"\\n\"female\",\"group B\",\"some high school\",\"standard\",\"completed\",\"60\",\"70\",\"70\"\\n\"male\",\"group D\",\"master\\'s degree\",\"standard\",\"none\",\"80\",\"80\",\"72\"\\n\"male\",\"group D\",\"high school\",\"standard\",\"none\",\"54\",\"52\",\"52\"\\n\"female\",\"group E\",\"some college\",\"standard\",\"none\",\"62\",\"73\",\"70\"\\n\"female\",\"group C\",\"associate\\'s degree\",\"free/reduced\",\"none\",\"64\",\"73\",\"68\"\\n\"male\",\"group C\",\"associate\\'s degree\",\"standard\",\"completed\",\"78\",\"77\",\"77\"\\n\"female\",\"group B\",\"some college\",\"standard\",\"none\",\"70\",\"75\",\"78\"\\n\"female\",\"group C\",\"master\\'s degree\",\"free/reduced\",\"completed\",\"65\",\"81\",\"81\"\\n\"female\",\"group C\",\"some high school\",\"free/reduced\",\"completed\",\"64\",\"79\",\"77\"\\n\"male\",\"group C\",\"some college\",\"standard\",\"completed\",\"79\",\"79\",\"78\"\\n\"female\",\"group C\",\"some high school\",\"free/reduced\",\"none\",\"44\",\"50\",\"51\"\\n\"female\",\"group E\",\"high school\",\"standard\",\"none\",\"99\",\"93\",\"90\"\\n\"male\",\"group D\",\"high school\",\"standard\",\"none\",\"76\",\"73\",\"68\"\\n\"male\",\"group D\",\"some high school\",\"free/reduced\",\"none\",\"59\",\"42\",\"41\"\\n\"female\",\"group C\",\"bachelor\\'s degree\",\"standard\",\"none\",\"63\",\"75\",\"81\"\\n\"female\",\"group D\",\"high school\",\"standard\",\"none\",\"69\",\"72\",\"77\"\\n\"female\",\"group D\",\"associate\\'s degree\",\"standard\",\"completed\",\"88\",\"92\",\"95\"\\n\"female\",\"group E\",\"some college\",\"free/reduced\",\"none\",\"71\",\"76\",\"70\"\\n\"male\",\"group C\",\"bachelor\\'s degree\",\"standard\",\"none\",\"69\",\"63\",\"61\"\\n\"male\",\"group C\",\"some college\",\"standard\",\"none\",\"58\",\"49\",\"42\"\\n\"female\",\"group D\",\"associate\\'s degree\",\"free/reduced\",\"none\",\"47\",\"53\",\"58\"\\n\"female\",\"group D\",\"some college\",\"standard\",\"none\",\"65\",\"70\",\"71\"\\n\"male\",\"group B\",\"some college\",\"standard\",\"completed\",\"88\",\"85\",\"76\"\\n\"male\",\"group C\",\"bachelor\\'s degree\",\"standard\",\"none\",\"83\",\"78\",\"73\"\\n\"female\",\"group C\",\"some high school\",\"standard\",\"completed\",\"85\",\"92\",\"93\"\\n\"female\",\"group E\",\"high school\",\"standard\",\"completed\",\"59\",\"63\",\"75\"\\n\"female\",\"group C\",\"some high school\",\"free/reduced\",\"none\",\"65\",\"86\",\"80\"\\n\"male\",\"group B\",\"bachelor\\'s degree\",\"free/reduced\",\"none\",\"73\",\"56\",\"57\"\\n\"male\",\"group D\",\"high school\",\"standard\",\"none\",\"53\",\"52\",\"42\"\\n\"male\",\"group D\",\"high school\",\"standard\",\"none\",\"45\",\"48\",\"46\"\\n\"female\",\"group D\",\"bachelor\\'s degree\",\"free/reduced\",\"none\",\"73\",\"79\",\"84\"\\n\"female\",\"group D\",\"some college\",\"free/reduced\",\"completed\",\"70\",\"78\",\"78\"\\n\"female\",\"group B\",\"some high school\",\"standard\",\"none\",\"37\",\"46\",\"46\"\\n\"male\",\"group B\",\"associate\\'s degree\",\"standard\",\"completed\",\"81\",\"82\",\"82\"\\n\"male\",\"group E\",\"associate\\'s degree\",\"standard\",\"completed\",\"97\",\"82\",\"88\"\\n\"female\",\"group B\",\"some high school\",\"standard\",\"none\",\"67\",\"89\",\"82\"\\n\"male\",\"group B\",\"bachelor\\'s degree\",\"free/reduced\",\"none\",\"88\",\"75\",\"76\"\\n\"male\",\"group E\",\"some high school\",\"standard\",\"completed\",\"77\",\"76\",\"77\"\\n\"male\",\"group C\",\"associate\\'s degree\",\"standard\",\"none\",\"76\",\"70\",\"68\"\\n\"male\",\"group D\",\"some high school\",\"standard\",\"none\",\"86\",\"73\",\"70\"\\n\"male\",\"group C\",\"some high school\",\"standard\",\"completed\",\"63\",\"60\",\"57\"\\n\"female\",\"group E\",\"bachelor\\'s degree\",\"standard\",\"none\",\"65\",\"73\",\"75\"\\n\"male\",\"group D\",\"high school\",\"free/reduced\",\"completed\",\"78\",\"77\",\"80\"\\n\"male\",\"group B\",\"associate\\'s degree\",\"free/reduced\",\"none\",\"67\",\"62\",\"60\"\\n\"male\",\"group A\",\"some high school\",\"standard\",\"completed\",\"46\",\"41\",\"43\"\\n\"male\",\"group E\",\"associate\\'s degree\",\"standard\",\"completed\",\"71\",\"74\",\"68\"\\n\"male\",\"group C\",\"high school\",\"free/reduced\",\"completed\",\"40\",\"46\",\"50\"\\n\"male\",\"group D\",\"associate\\'s degree\",\"free/reduced\",\"none\",\"90\",\"87\",\"75\"\\n\"male\",\"group A\",\"some college\",\"free/reduced\",\"completed\",\"81\",\"78\",\"81\"\\n\"male\",\"group D\",\"some high school\",\"free/reduced\",\"none\",\"56\",\"54\",\"52\"\\n\"female\",\"group C\",\"associate\\'s degree\",\"standard\",\"completed\",\"67\",\"84\",\"81\"\\n\"male\",\"group B\",\"associate\\'s degree\",\"standard\",\"none\",\"80\",\"76\",\"64\"\\n\"female\",\"group C\",\"associate\\'s degree\",\"standard\",\"completed\",\"74\",\"75\",\"83\"\\n\"male\",\"group A\",\"some college\",\"standard\",\"none\",\"69\",\"67\",\"69\"\\n\"male\",\"group E\",\"some college\",\"standard\",\"completed\",\"99\",\"87\",\"81\"\\n\"male\",\"group C\",\"some high school\",\"standard\",\"none\",\"51\",\"52\",\"44\"\\n\"female\",\"group B\",\"associate\\'s degree\",\"free/reduced\",\"none\",\"53\",\"71\",\"67\"\\n\"female\",\"group D\",\"high school\",\"free/reduced\",\"none\",\"49\",\"57\",\"52\"\\n\"female\",\"group B\",\"associate\\'s degree\",\"standard\",\"none\",\"73\",\"76\",\"80\"\\n\"male\",\"group B\",\"bachelor\\'s degree\",\"standard\",\"none\",\"66\",\"60\",\"57\"\\n\"male\",\"group D\",\"bachelor\\'s degree\",\"standard\",\"completed\",\"67\",\"61\",\"68\"\\n\"female\",\"group C\",\"associate\\'s degree\",\"free/reduced\",\"completed\",\"68\",\"67\",\"69\"\\n\"female\",\"group C\",\"bachelor\\'s degree\",\"standard\",\"completed\",\"59\",\"64\",\"75\"\\n\"male\",\"group C\",\"high school\",\"standard\",\"none\",\"71\",\"66\",\"65\"\\n\"female\",\"group D\",\"master\\'s degree\",\"standard\",\"completed\",\"77\",\"82\",\"91\"\\n\"male\",\"group C\",\"associate\\'s degree\",\"standard\",\"none\",\"83\",\"72\",\"78\"\\n\"male\",\"group B\",\"bachelor\\'s degree\",\"standard\",\"none\",\"63\",\"71\",\"69\"\\n\"female\",\"group D\",\"associate\\'s degree\",\"free/reduced\",\"none\",\"56\",\"65\",\"63\"\\n\"female\",\"group C\",\"high school\",\"free/reduced\",\"completed\",\"67\",\"79\",\"84\"\\n\"female\",\"group E\",\"high school\",\"standard\",\"none\",\"75\",\"86\",\"79\"\\n\"female\",\"group C\",\"some college\",\"standard\",\"none\",\"71\",\"81\",\"80\"\\n\"female\",\"group C\",\"some high school\",\"free/reduced\",\"none\",\"43\",\"53\",\"53\"\\n\"female\",\"group C\",\"high school\",\"free/reduced\",\"none\",\"41\",\"46\",\"43\"\\n\"female\",\"group C\",\"some college\",\"standard\",\"none\",\"82\",\"90\",\"94\"\\n\"male\",\"group C\",\"some college\",\"standard\",\"none\",\"61\",\"61\",\"62\"\\n\"male\",\"group A\",\"some college\",\"free/reduced\",\"none\",\"28\",\"23\",\"19\"\\n\"male\",\"group C\",\"associate\\'s degree\",\"standard\",\"completed\",\"82\",\"75\",\"77\"\\n\"female\",\"group B\",\"some high school\",\"standard\",\"none\",\"41\",\"55\",\"51\"\\n\"male\",\"group C\",\"high school\",\"standard\",\"none\",\"71\",\"60\",\"61\"\\n\"male\",\"group C\",\"associate\\'s degree\",\"standard\",\"none\",\"47\",\"37\",\"35\"\\n\"male\",\"group E\",\"associate\\'s degree\",\"standard\",\"completed\",\"62\",\"56\",\"53\"\\n\"male\",\"group B\",\"associate\\'s degree\",\"standard\",\"none\",\"90\",\"78\",\"81\"\\n\"female\",\"group C\",\"bachelor\\'s degree\",\"standard\",\"none\",\"83\",\"93\",\"95\"\\n\"female\",\"group B\",\"some college\",\"free/reduced\",\"none\",\"61\",\"68\",\"66\"\\n\"male\",\"group D\",\"some high school\",\"standard\",\"completed\",\"76\",\"70\",\"69\"\\n\"male\",\"group C\",\"associate\\'s degree\",\"standard\",\"none\",\"49\",\"51\",\"43\"\\n\"female\",\"group B\",\"some high school\",\"free/reduced\",\"none\",\"24\",\"38\",\"27\"\\n\"female\",\"group D\",\"some high school\",\"free/reduced\",\"completed\",\"35\",\"55\",\"60\"\\n\"male\",\"group C\",\"high school\",\"free/reduced\",\"none\",\"58\",\"61\",\"52\"\\n\"female\",\"group C\",\"high school\",\"standard\",\"none\",\"61\",\"73\",\"63\"\\n\"female\",\"group B\",\"high school\",\"standard\",\"completed\",\"69\",\"76\",\"74\"\\n\"male\",\"group D\",\"associate\\'s degree\",\"standard\",\"completed\",\"67\",\"72\",\"67\"\\n\"male\",\"group D\",\"some college\",\"standard\",\"none\",\"79\",\"73\",\"67\"\\n\"female\",\"group C\",\"high school\",\"standard\",\"none\",\"72\",\"80\",\"75\"\\n\"male\",\"group B\",\"some college\",\"standard\",\"none\",\"62\",\"61\",\"57\"\\n\"female\",\"group C\",\"bachelor\\'s degree\",\"standard\",\"completed\",\"77\",\"94\",\"95\"\\n\"male\",\"group D\",\"high school\",\"free/reduced\",\"none\",\"75\",\"74\",\"66\"\\n\"male\",\"group E\",\"associate\\'s degree\",\"standard\",\"none\",\"87\",\"74\",\"76\"\\n\"female\",\"group B\",\"bachelor\\'s degree\",\"standard\",\"none\",\"52\",\"65\",\"69\"\\n\"male\",\"group E\",\"some college\",\"standard\",\"none\",\"66\",\"57\",\"52\"\\n\"female\",\"group C\",\"some college\",\"standard\",\"completed\",\"63\",\"78\",\"80\"\\n\"female\",\"group C\",\"associate\\'s degree\",\"standard\",\"none\",\"46\",\"58\",\"57\"\\n\"female\",\"group C\",\"some college\",\"standard\",\"none\",\"59\",\"71\",\"70\"\\n\"female\",\"group B\",\"bachelor\\'s degree\",\"standard\",\"none\",\"61\",\"72\",\"70\"\\n\"male\",\"group A\",\"associate\\'s degree\",\"standard\",\"none\",\"63\",\"61\",\"61\"\\n\"female\",\"group C\",\"some college\",\"free/reduced\",\"completed\",\"42\",\"66\",\"69\"\\n\"male\",\"group D\",\"some college\",\"free/reduced\",\"none\",\"59\",\"62\",\"61\"\\n\"female\",\"group D\",\"some college\",\"standard\",\"none\",\"80\",\"90\",\"89\"\\n\"female\",\"group B\",\"high school\",\"standard\",\"none\",\"58\",\"62\",\"59\"\\n\"male\",\"group B\",\"some high school\",\"standard\",\"completed\",\"85\",\"84\",\"78\"\\n\"female\",\"group C\",\"some college\",\"standard\",\"none\",\"52\",\"58\",\"58\"\\n\"female\",\"group D\",\"some high school\",\"free/reduced\",\"none\",\"27\",\"34\",\"32\"\\n\"male\",\"group C\",\"some college\",\"standard\",\"none\",\"59\",\"60\",\"58\"\\n\"male\",\"group A\",\"bachelor\\'s degree\",\"free/reduced\",\"completed\",\"49\",\"58\",\"60\"\\n\"male\",\"group C\",\"high school\",\"standard\",\"completed\",\"69\",\"58\",\"53\"\\n\"male\",\"group C\",\"bachelor\\'s degree\",\"free/reduced\",\"none\",\"61\",\"66\",\"61\"\\n\"female\",\"group A\",\"some high school\",\"free/reduced\",\"none\",\"44\",\"64\",\"58\"\\n\"female\",\"group D\",\"some high school\",\"standard\",\"none\",\"73\",\"84\",\"85\"\\n\"male\",\"group E\",\"some college\",\"standard\",\"none\",\"84\",\"77\",\"71\"\\n\"female\",\"group C\",\"some college\",\"free/reduced\",\"completed\",\"45\",\"73\",\"70\"\\n\"male\",\"group D\",\"some high school\",\"standard\",\"none\",\"74\",\"74\",\"72\"\\n\"female\",\"group D\",\"some college\",\"standard\",\"completed\",\"82\",\"97\",\"96\"\\n\"female\",\"group D\",\"bachelor\\'s degree\",\"standard\",\"none\",\"59\",\"70\",\"73\"\\n\"male\",\"group E\",\"associate\\'s degree\",\"free/reduced\",\"none\",\"46\",\"43\",\"41\"\\n\"female\",\"group D\",\"some high school\",\"standard\",\"none\",\"80\",\"90\",\"82\"\\n\"female\",\"group D\",\"master\\'s degree\",\"free/reduced\",\"completed\",\"85\",\"95\",\"100\"\\n\"female\",\"group A\",\"some high school\",\"standard\",\"none\",\"71\",\"83\",\"77\"\\n\"male\",\"group A\",\"bachelor\\'s degree\",\"standard\",\"none\",\"66\",\"64\",\"62\"\\n\"female\",\"group B\",\"associate\\'s degree\",\"standard\",\"none\",\"80\",\"86\",\"83\"\\n\"male\",\"group C\",\"associate\\'s degree\",\"standard\",\"completed\",\"87\",\"100\",\"95\"\\n\"male\",\"group C\",\"master\\'s degree\",\"free/reduced\",\"none\",\"79\",\"81\",\"71\"\\n\"female\",\"group E\",\"some high school\",\"free/reduced\",\"none\",\"38\",\"49\",\"45\"\\n\"female\",\"group A\",\"some high school\",\"free/reduced\",\"none\",\"38\",\"43\",\"43\"\\n\"female\",\"group E\",\"some college\",\"standard\",\"none\",\"67\",\"76\",\"75\"\\n\"female\",\"group E\",\"bachelor\\'s degree\",\"standard\",\"none\",\"64\",\"73\",\"70\"\\n\"female\",\"group C\",\"associate\\'s degree\",\"free/reduced\",\"none\",\"57\",\"78\",\"67\"\\n\"female\",\"group D\",\"high school\",\"standard\",\"none\",\"62\",\"64\",\"64\"\\n\"male\",\"group D\",\"master\\'s degree\",\"standard\",\"none\",\"73\",\"70\",\"75\"\\n\"male\",\"group E\",\"some high school\",\"free/reduced\",\"completed\",\"73\",\"67\",\"59\"\\n\"female\",\"group D\",\"some college\",\"standard\",\"none\",\"77\",\"68\",\"77\"\\n\"male\",\"group E\",\"some college\",\"standard\",\"none\",\"76\",\"67\",\"67\"\\n\"male\",\"group C\",\"associate\\'s degree\",\"standard\",\"completed\",\"57\",\"54\",\"56\"\\n\"female\",\"group C\",\"some high school\",\"standard\",\"completed\",\"65\",\"74\",\"77\"\\n\"male\",\"group A\",\"high school\",\"free/reduced\",\"none\",\"48\",\"45\",\"41\"\\n\"female\",\"group B\",\"high school\",\"free/reduced\",\"none\",\"50\",\"67\",\"63\"\\n\"female\",\"group C\",\"associate\\'s degree\",\"standard\",\"none\",\"85\",\"89\",\"95\"\\n\"male\",\"group B\",\"some high school\",\"standard\",\"none\",\"74\",\"63\",\"57\"\\n\"male\",\"group D\",\"some high school\",\"standard\",\"none\",\"60\",\"59\",\"54\"\\n\"female\",\"group C\",\"some high school\",\"standard\",\"completed\",\"59\",\"54\",\"67\"\\n\"male\",\"group A\",\"some college\",\"standard\",\"none\",\"53\",\"43\",\"43\"\\n\"female\",\"group A\",\"some college\",\"free/reduced\",\"none\",\"49\",\"65\",\"55\"\\n\"female\",\"group D\",\"high school\",\"standard\",\"completed\",\"88\",\"99\",\"100\"\\n\"female\",\"group C\",\"high school\",\"standard\",\"none\",\"54\",\"59\",\"62\"\\n\"female\",\"group C\",\"some high school\",\"standard\",\"none\",\"63\",\"73\",\"68\"\\n\"male\",\"group B\",\"associate\\'s degree\",\"standard\",\"completed\",\"65\",\"65\",\"63\"\\n\"female\",\"group B\",\"associate\\'s degree\",\"standard\",\"none\",\"82\",\"80\",\"77\"\\n\"female\",\"group D\",\"high school\",\"free/reduced\",\"completed\",\"52\",\"57\",\"56\"\\n\"male\",\"group D\",\"associate\\'s degree\",\"standard\",\"completed\",\"87\",\"84\",\"85\"\\n\"female\",\"group D\",\"master\\'s degree\",\"standard\",\"completed\",\"70\",\"71\",\"74\"\\n\"male\",\"group E\",\"some college\",\"standard\",\"completed\",\"84\",\"83\",\"78\"\\n\"male\",\"group D\",\"associate\\'s degree\",\"standard\",\"none\",\"71\",\"66\",\"60\"\\n\"male\",\"group B\",\"some high school\",\"standard\",\"completed\",\"63\",\"67\",\"67\"\\n\"female\",\"group C\",\"bachelor\\'s degree\",\"free/reduced\",\"completed\",\"51\",\"72\",\"79\"\\n\"male\",\"group E\",\"high school\",\"standard\",\"none\",\"84\",\"73\",\"69\"\\n\"male\",\"group C\",\"bachelor\\'s degree\",\"standard\",\"completed\",\"71\",\"74\",\"68\"\\n\"male\",\"group C\",\"associate\\'s degree\",\"standard\",\"none\",\"74\",\"73\",\"67\"\\n\"male\",\"group D\",\"some college\",\"standard\",\"none\",\"68\",\"59\",\"62\"\\n\"male\",\"group E\",\"high school\",\"free/reduced\",\"completed\",\"57\",\"56\",\"54\"\\n\"female\",\"group C\",\"associate\\'s degree\",\"free/reduced\",\"completed\",\"82\",\"93\",\"93\"\\n\"female\",\"group D\",\"high school\",\"standard\",\"completed\",\"57\",\"58\",\"64\"\\n\"female\",\"group D\",\"master\\'s degree\",\"free/reduced\",\"completed\",\"47\",\"58\",\"67\"\\n\"female\",\"group A\",\"some high school\",\"standard\",\"completed\",\"59\",\"85\",\"80\"\\n\"male\",\"group B\",\"some college\",\"free/reduced\",\"none\",\"41\",\"39\",\"34\"\\n\"female\",\"group C\",\"some college\",\"free/reduced\",\"none\",\"62\",\"67\",\"62\"\\n\"male\",\"group C\",\"bachelor\\'s degree\",\"standard\",\"none\",\"86\",\"83\",\"86\"\\n\"male\",\"group C\",\"some high school\",\"free/reduced\",\"none\",\"69\",\"71\",\"65\"\\n\"male\",\"group A\",\"some high school\",\"free/reduced\",\"none\",\"65\",\"59\",\"53\"\\n\"male\",\"group C\",\"some high school\",\"free/reduced\",\"none\",\"68\",\"63\",\"54\"\\n\"male\",\"group C\",\"associate\\'s degree\",\"free/reduced\",\"none\",\"64\",\"66\",\"59\"\\n\"female\",\"group C\",\"high school\",\"standard\",\"none\",\"61\",\"72\",\"70\"\\n\"male\",\"group C\",\"high school\",\"standard\",\"none\",\"61\",\"56\",\"55\"\\n\"female\",\"group A\",\"some high school\",\"free/reduced\",\"none\",\"47\",\"59\",\"50\"\\n\"male\",\"group C\",\"some high school\",\"standard\",\"none\",\"73\",\"66\",\"66\"\\n\"male\",\"group C\",\"some college\",\"free/reduced\",\"completed\",\"50\",\"48\",\"53\"\\n\"male\",\"group D\",\"associate\\'s degree\",\"standard\",\"none\",\"75\",\"68\",\"64\"\\n\"male\",\"group D\",\"associate\\'s degree\",\"free/reduced\",\"none\",\"75\",\"66\",\"73\"\\n\"male\",\"group C\",\"high school\",\"standard\",\"none\",\"70\",\"56\",\"51\"\\n\"male\",\"group D\",\"some high school\",\"standard\",\"completed\",\"89\",\"88\",\"82\"\\n\"female\",\"group C\",\"some college\",\"standard\",\"completed\",\"67\",\"81\",\"79\"\\n\"female\",\"group D\",\"high school\",\"standard\",\"none\",\"78\",\"81\",\"80\"\\n\"female\",\"group A\",\"some high school\",\"free/reduced\",\"none\",\"59\",\"73\",\"69\"\\n\"female\",\"group B\",\"associate\\'s degree\",\"standard\",\"none\",\"73\",\"83\",\"76\"\\n\"male\",\"group A\",\"some high school\",\"free/reduced\",\"none\",\"79\",\"82\",\"73\"\\n\"female\",\"group C\",\"some high school\",\"standard\",\"completed\",\"67\",\"74\",\"77\"\\n\"male\",\"group D\",\"some college\",\"free/reduced\",\"none\",\"69\",\"66\",\"60\"\\n\"male\",\"group C\",\"high school\",\"standard\",\"completed\",\"86\",\"81\",\"80\"\\n\"male\",\"group B\",\"high school\",\"standard\",\"none\",\"47\",\"46\",\"42\"\\n\"male\",\"group B\",\"associate\\'s degree\",\"standard\",\"none\",\"81\",\"73\",\"72\"\\n\"female\",\"group C\",\"some college\",\"free/reduced\",\"completed\",\"64\",\"85\",\"85\"\\n\"female\",\"group E\",\"some college\",\"standard\",\"none\",\"100\",\"92\",\"97\"\\n\"female\",\"group C\",\"associate\\'s degree\",\"free/reduced\",\"none\",\"65\",\"77\",\"74\"\\n\"male\",\"group C\",\"some college\",\"free/reduced\",\"none\",\"65\",\"58\",\"49\"\\n\"female\",\"group C\",\"associate\\'s degree\",\"free/reduced\",\"none\",\"53\",\"61\",\"62\"\\n\"male\",\"group C\",\"bachelor\\'s degree\",\"free/reduced\",\"none\",\"37\",\"56\",\"47\"\\n\"female\",\"group D\",\"bachelor\\'s degree\",\"standard\",\"none\",\"79\",\"89\",\"89\"\\n\"male\",\"group D\",\"associate\\'s degree\",\"free/reduced\",\"none\",\"53\",\"54\",\"48\"\\n\"female\",\"group E\",\"bachelor\\'s degree\",\"standard\",\"none\",\"100\",\"100\",\"100\"\\n\"male\",\"group B\",\"high school\",\"standard\",\"completed\",\"72\",\"65\",\"68\"\\n\"male\",\"group C\",\"bachelor\\'s degree\",\"free/reduced\",\"none\",\"53\",\"58\",\"55\"\\n\"male\",\"group B\",\"some college\",\"free/reduced\",\"none\",\"54\",\"54\",\"45\"\\n\"female\",\"group E\",\"some college\",\"standard\",\"none\",\"71\",\"70\",\"76\"\\n\"female\",\"group C\",\"some college\",\"free/reduced\",\"none\",\"77\",\"90\",\"91\"\\n\"male\",\"group A\",\"bachelor\\'s degree\",\"standard\",\"completed\",\"75\",\"58\",\"62\"\\n\"female\",\"group C\",\"some college\",\"standard\",\"none\",\"84\",\"87\",\"91\"\\n\"female\",\"group D\",\"associate\\'s degree\",\"free/reduced\",\"none\",\"26\",\"31\",\"38\"\\n\"male\",\"group A\",\"high school\",\"free/reduced\",\"completed\",\"72\",\"67\",\"65\"\\n\"female\",\"group A\",\"high school\",\"free/reduced\",\"completed\",\"77\",\"88\",\"85\"\\n\"male\",\"group C\",\"some college\",\"standard\",\"none\",\"91\",\"74\",\"76\"\\n\"female\",\"group C\",\"associate\\'s degree\",\"standard\",\"completed\",\"83\",\"85\",\"90\"\\n\"female\",\"group C\",\"high school\",\"standard\",\"none\",\"63\",\"69\",\"74\"\\n\"female\",\"group C\",\"associate\\'s degree\",\"standard\",\"completed\",\"68\",\"86\",\"84\"\\n\"female\",\"group D\",\"some high school\",\"standard\",\"none\",\"59\",\"67\",\"61\"\\n\"female\",\"group B\",\"associate\\'s degree\",\"standard\",\"completed\",\"90\",\"90\",\"91\"\\n\"female\",\"group D\",\"bachelor\\'s degree\",\"standard\",\"completed\",\"71\",\"76\",\"83\"\\n\"male\",\"group E\",\"bachelor\\'s degree\",\"standard\",\"completed\",\"76\",\"62\",\"66\"\\n\"male\",\"group D\",\"associate\\'s degree\",\"standard\",\"none\",\"80\",\"68\",\"72\"\\n\"female\",\"group D\",\"master\\'s degree\",\"standard\",\"none\",\"55\",\"64\",\"70\"\\n\"male\",\"group E\",\"associate\\'s degree\",\"standard\",\"none\",\"76\",\"71\",\"67\"\\n\"male\",\"group B\",\"high school\",\"standard\",\"completed\",\"73\",\"71\",\"68\"\\n\"female\",\"group D\",\"associate\\'s degree\",\"free/reduced\",\"none\",\"52\",\"59\",\"56\"\\n\"male\",\"group C\",\"some college\",\"free/reduced\",\"none\",\"68\",\"68\",\"61\"\\n\"male\",\"group A\",\"high school\",\"standard\",\"none\",\"59\",\"52\",\"46\"\\n\"female\",\"group B\",\"associate\\'s degree\",\"standard\",\"none\",\"49\",\"52\",\"54\"\\n\"male\",\"group C\",\"high school\",\"standard\",\"none\",\"70\",\"74\",\"71\"\\n\"male\",\"group D\",\"some college\",\"free/reduced\",\"none\",\"61\",\"47\",\"56\"\\n\"female\",\"group C\",\"associate\\'s degree\",\"free/reduced\",\"none\",\"60\",\"75\",\"74\"\\n\"male\",\"group B\",\"some high school\",\"standard\",\"completed\",\"64\",\"53\",\"57\"\\n\"male\",\"group A\",\"associate\\'s degree\",\"free/reduced\",\"completed\",\"79\",\"82\",\"82\"\\n\"female\",\"group A\",\"associate\\'s degree\",\"free/reduced\",\"none\",\"65\",\"85\",\"76\"\\n\"female\",\"group C\",\"associate\\'s degree\",\"standard\",\"none\",\"64\",\"64\",\"70\"\\n\"female\",\"group C\",\"some college\",\"standard\",\"none\",\"83\",\"83\",\"90\"\\n\"female\",\"group C\",\"bachelor\\'s degree\",\"standard\",\"none\",\"81\",\"88\",\"90\"\\n\"female\",\"group B\",\"high school\",\"standard\",\"none\",\"54\",\"64\",\"68\"\\n\"male\",\"group D\",\"high school\",\"standard\",\"completed\",\"68\",\"64\",\"66\"\\n\"female\",\"group C\",\"some college\",\"standard\",\"none\",\"54\",\"48\",\"52\"\\n\"female\",\"group D\",\"some college\",\"free/reduced\",\"completed\",\"59\",\"78\",\"76\"\\n\"female\",\"group B\",\"some high school\",\"standard\",\"none\",\"66\",\"69\",\"68\"\\n\"male\",\"group E\",\"some college\",\"standard\",\"none\",\"76\",\"71\",\"72\"\\n\"female\",\"group D\",\"master\\'s degree\",\"standard\",\"none\",\"74\",\"79\",\"82\"\\n\"female\",\"group B\",\"associate\\'s degree\",\"standard\",\"completed\",\"94\",\"87\",\"92\"\\n\"male\",\"group C\",\"some college\",\"free/reduced\",\"none\",\"63\",\"61\",\"54\"\\n\"female\",\"group E\",\"associate\\'s degree\",\"standard\",\"completed\",\"95\",\"89\",\"92\"\\n\"female\",\"group D\",\"master\\'s degree\",\"free/reduced\",\"none\",\"40\",\"59\",\"54\"\\n\"female\",\"group B\",\"some high school\",\"standard\",\"none\",\"82\",\"82\",\"80\"\\n\"male\",\"group A\",\"high school\",\"standard\",\"none\",\"68\",\"70\",\"66\"\\n\"male\",\"group B\",\"bachelor\\'s degree\",\"free/reduced\",\"none\",\"55\",\"59\",\"54\"\\n\"male\",\"group C\",\"master\\'s degree\",\"standard\",\"none\",\"79\",\"78\",\"77\"\\n\"female\",\"group C\",\"bachelor\\'s degree\",\"standard\",\"none\",\"86\",\"92\",\"87\"\\n\"male\",\"group D\",\"some college\",\"standard\",\"none\",\"76\",\"71\",\"73\"\\n\"male\",\"group A\",\"some high school\",\"standard\",\"none\",\"64\",\"50\",\"43\"\\n\"male\",\"group D\",\"some high school\",\"free/reduced\",\"none\",\"62\",\"49\",\"52\"\\n\"female\",\"group B\",\"some high school\",\"standard\",\"completed\",\"54\",\"61\",\"62\"\\n\"female\",\"group B\",\"master\\'s degree\",\"free/reduced\",\"completed\",\"77\",\"97\",\"94\"\\n\"female\",\"group C\",\"some high school\",\"standard\",\"completed\",\"76\",\"87\",\"85\"\\n\"female\",\"group D\",\"some college\",\"standard\",\"none\",\"74\",\"89\",\"84\"\\n\"female\",\"group E\",\"some college\",\"standard\",\"completed\",\"66\",\"74\",\"73\"\\n\"female\",\"group D\",\"some high school\",\"standard\",\"completed\",\"66\",\"78\",\"78\"\\n\"female\",\"group B\",\"high school\",\"free/reduced\",\"completed\",\"67\",\"78\",\"79\"\\n\"male\",\"group D\",\"some college\",\"standard\",\"none\",\"71\",\"49\",\"52\"\\n\"female\",\"group C\",\"associate\\'s degree\",\"standard\",\"none\",\"91\",\"86\",\"84\"\\n\"male\",\"group D\",\"bachelor\\'s degree\",\"standard\",\"none\",\"69\",\"58\",\"57\"\\n\"male\",\"group C\",\"master\\'s degree\",\"free/reduced\",\"none\",\"54\",\"59\",\"50\"\\n\"male\",\"group C\",\"high school\",\"standard\",\"completed\",\"53\",\"52\",\"49\"\\n\"male\",\"group E\",\"some college\",\"standard\",\"none\",\"68\",\"60\",\"59\"\\n\"male\",\"group C\",\"some high school\",\"free/reduced\",\"completed\",\"56\",\"61\",\"60\"\\n\"female\",\"group C\",\"high school\",\"free/reduced\",\"none\",\"36\",\"53\",\"43\"\\n\"female\",\"group D\",\"bachelor\\'s degree\",\"free/reduced\",\"none\",\"29\",\"41\",\"47\"\\n\"female\",\"group C\",\"associate\\'s degree\",\"standard\",\"none\",\"62\",\"74\",\"70\"\\n\"female\",\"group C\",\"associate\\'s degree\",\"standard\",\"completed\",\"68\",\"67\",\"73\"\\n\"female\",\"group C\",\"some high school\",\"standard\",\"none\",\"47\",\"54\",\"53\"\\n\"male\",\"group E\",\"associate\\'s degree\",\"standard\",\"completed\",\"62\",\"61\",\"58\"\\n\"female\",\"group E\",\"associate\\'s degree\",\"standard\",\"completed\",\"79\",\"88\",\"94\"\\n\"male\",\"group B\",\"high school\",\"standard\",\"completed\",\"73\",\"69\",\"68\"\\n\"female\",\"group C\",\"bachelor\\'s degree\",\"free/reduced\",\"completed\",\"66\",\"83\",\"83\"\\n\"male\",\"group C\",\"associate\\'s degree\",\"standard\",\"completed\",\"51\",\"60\",\"58\"\\n\"female\",\"group D\",\"high school\",\"standard\",\"none\",\"51\",\"66\",\"62\"\\n\"male\",\"group E\",\"bachelor\\'s degree\",\"standard\",\"completed\",\"85\",\"66\",\"71\"\\n\"male\",\"group A\",\"associate\\'s degree\",\"standard\",\"completed\",\"97\",\"92\",\"86\"\\n\"male\",\"group C\",\"high school\",\"standard\",\"completed\",\"75\",\"69\",\"68\"\\n\"male\",\"group D\",\"associate\\'s degree\",\"free/reduced\",\"completed\",\"79\",\"82\",\"80\"\\n\"female\",\"group C\",\"associate\\'s degree\",\"standard\",\"none\",\"81\",\"77\",\"79\"\\n\"female\",\"group D\",\"associate\\'s degree\",\"standard\",\"none\",\"82\",\"95\",\"89\"\\n\"female\",\"group D\",\"master\\'s degree\",\"standard\",\"none\",\"64\",\"63\",\"66\"\\n\"male\",\"group E\",\"some high school\",\"free/reduced\",\"completed\",\"78\",\"83\",\"80\"\\n\"female\",\"group A\",\"some high school\",\"standard\",\"completed\",\"92\",\"100\",\"97\"\\n\"male\",\"group C\",\"high school\",\"standard\",\"completed\",\"72\",\"67\",\"64\"\\n\"female\",\"group C\",\"high school\",\"free/reduced\",\"none\",\"62\",\"67\",\"64\"\\n\"male\",\"group C\",\"master\\'s degree\",\"standard\",\"none\",\"79\",\"72\",\"69\"\\n\"male\",\"group C\",\"some high school\",\"free/reduced\",\"none\",\"79\",\"76\",\"65\"\\n\"male\",\"group B\",\"bachelor\\'s degree\",\"free/reduced\",\"completed\",\"87\",\"90\",\"88\"\\n\"female\",\"group B\",\"associate\\'s degree\",\"standard\",\"none\",\"40\",\"48\",\"50\"\\n\"male\",\"group D\",\"some college\",\"free/reduced\",\"none\",\"77\",\"62\",\"64\"\\n\"male\",\"group E\",\"associate\\'s degree\",\"standard\",\"none\",\"53\",\"45\",\"40\"\\n\"female\",\"group C\",\"some college\",\"free/reduced\",\"none\",\"32\",\"39\",\"33\"\\n\"female\",\"group C\",\"associate\\'s degree\",\"standard\",\"completed\",\"55\",\"72\",\"79\"\\n\"male\",\"group C\",\"master\\'s degree\",\"free/reduced\",\"none\",\"61\",\"67\",\"66\"\\n\"female\",\"group B\",\"associate\\'s degree\",\"free/reduced\",\"none\",\"53\",\"70\",\"70\"\\n\"male\",\"group D\",\"some high school\",\"standard\",\"none\",\"73\",\"66\",\"62\"\\n\"female\",\"group D\",\"some college\",\"standard\",\"completed\",\"74\",\"75\",\"79\"\\n\"female\",\"group C\",\"some college\",\"standard\",\"none\",\"63\",\"74\",\"74\"\\n\"male\",\"group C\",\"bachelor\\'s degree\",\"standard\",\"completed\",\"96\",\"90\",\"92\"\\n\"female\",\"group D\",\"some college\",\"free/reduced\",\"completed\",\"63\",\"80\",\"80\"\\n\"male\",\"group B\",\"bachelor\\'s degree\",\"free/reduced\",\"none\",\"48\",\"51\",\"46\"\\n\"male\",\"group B\",\"associate\\'s degree\",\"standard\",\"none\",\"48\",\"43\",\"45\"\\n\"female\",\"group E\",\"bachelor\\'s degree\",\"free/reduced\",\"completed\",\"92\",\"100\",\"100\"\\n\"female\",\"group D\",\"master\\'s degree\",\"free/reduced\",\"completed\",\"61\",\"71\",\"78\"\\n\"male\",\"group B\",\"high school\",\"free/reduced\",\"none\",\"63\",\"48\",\"47\"\\n\"male\",\"group D\",\"bachelor\\'s degree\",\"free/reduced\",\"none\",\"68\",\"68\",\"67\"\\n\"male\",\"group B\",\"some college\",\"standard\",\"completed\",\"71\",\"75\",\"70\"\\n\"male\",\"group A\",\"bachelor\\'s degree\",\"standard\",\"none\",\"91\",\"96\",\"92\"\\n\"female\",\"group C\",\"some college\",\"standard\",\"none\",\"53\",\"62\",\"56\"\\n\"female\",\"group C\",\"high school\",\"free/reduced\",\"completed\",\"50\",\"66\",\"64\"\\n\"female\",\"group E\",\"high school\",\"standard\",\"none\",\"74\",\"81\",\"71\"\\n\"male\",\"group A\",\"associate\\'s degree\",\"free/reduced\",\"completed\",\"40\",\"55\",\"53\"\\n\"male\",\"group A\",\"some college\",\"standard\",\"completed\",\"61\",\"51\",\"52\"\\n\"female\",\"group B\",\"high school\",\"standard\",\"none\",\"81\",\"91\",\"89\"\\n\"female\",\"group B\",\"some college\",\"free/reduced\",\"completed\",\"48\",\"56\",\"58\"\\n\"female\",\"group D\",\"master\\'s degree\",\"standard\",\"none\",\"53\",\"61\",\"68\"\\n\"female\",\"group D\",\"some high school\",\"standard\",\"none\",\"81\",\"97\",\"96\"\\n\"female\",\"group E\",\"some high school\",\"standard\",\"none\",\"77\",\"79\",\"80\"\\n\"female\",\"group D\",\"bachelor\\'s degree\",\"free/reduced\",\"none\",\"63\",\"73\",\"78\"\\n\"female\",\"group D\",\"associate\\'s degree\",\"standard\",\"completed\",\"73\",\"75\",\"80\"\\n\"female\",\"group D\",\"some college\",\"standard\",\"none\",\"69\",\"77\",\"77\"\\n\"female\",\"group C\",\"associate\\'s degree\",\"standard\",\"none\",\"65\",\"76\",\"76\"\\n\"female\",\"group A\",\"high school\",\"standard\",\"none\",\"55\",\"73\",\"73\"\\n\"female\",\"group C\",\"bachelor\\'s degree\",\"free/reduced\",\"none\",\"44\",\"63\",\"62\"\\n\"female\",\"group C\",\"some college\",\"standard\",\"none\",\"54\",\"64\",\"65\"\\n\"female\",\"group A\",\"some high school\",\"standard\",\"none\",\"48\",\"66\",\"65\"\\n\"male\",\"group C\",\"some college\",\"free/reduced\",\"none\",\"58\",\"57\",\"54\"\\n\"male\",\"group A\",\"some high school\",\"standard\",\"none\",\"71\",\"62\",\"50\"\\n\"male\",\"group E\",\"bachelor\\'s degree\",\"standard\",\"none\",\"68\",\"68\",\"64\"\\n\"female\",\"group E\",\"high school\",\"standard\",\"none\",\"74\",\"76\",\"73\"\\n\"female\",\"group C\",\"bachelor\\'s degree\",\"standard\",\"completed\",\"92\",\"100\",\"99\"\\n\"female\",\"group C\",\"bachelor\\'s degree\",\"standard\",\"completed\",\"56\",\"79\",\"72\"\\n\"male\",\"group B\",\"high school\",\"free/reduced\",\"none\",\"30\",\"24\",\"15\"\\n\"male\",\"group A\",\"some high school\",\"standard\",\"none\",\"53\",\"54\",\"48\"\\n\"female\",\"group D\",\"high school\",\"standard\",\"none\",\"69\",\"77\",\"73\"\\n\"female\",\"group D\",\"some high school\",\"standard\",\"none\",\"65\",\"82\",\"81\"\\n\"female\",\"group D\",\"master\\'s degree\",\"standard\",\"none\",\"54\",\"60\",\"63\"\\n\"female\",\"group C\",\"high school\",\"standard\",\"none\",\"29\",\"29\",\"30\"\\n\"female\",\"group E\",\"some college\",\"standard\",\"none\",\"76\",\"78\",\"80\"\\n\"male\",\"group D\",\"high school\",\"free/reduced\",\"none\",\"60\",\"57\",\"51\"\\n\"male\",\"group D\",\"master\\'s degree\",\"free/reduced\",\"completed\",\"84\",\"89\",\"90\"\\n\"male\",\"group C\",\"some high school\",\"standard\",\"none\",\"75\",\"72\",\"62\"\\n\"female\",\"group C\",\"associate\\'s degree\",\"standard\",\"none\",\"85\",\"84\",\"82\"\\n\"female\",\"group C\",\"master\\'s degree\",\"free/reduced\",\"none\",\"40\",\"58\",\"54\"\\n\"female\",\"group E\",\"some college\",\"standard\",\"none\",\"61\",\"64\",\"62\"\\n\"female\",\"group B\",\"associate\\'s degree\",\"standard\",\"none\",\"58\",\"63\",\"65\"\\n\"male\",\"group D\",\"some college\",\"free/reduced\",\"completed\",\"69\",\"60\",\"63\"\\n\"female\",\"group C\",\"some college\",\"standard\",\"none\",\"58\",\"59\",\"66\"\\n\"male\",\"group C\",\"bachelor\\'s degree\",\"standard\",\"completed\",\"94\",\"90\",\"91\"\\n\"female\",\"group C\",\"associate\\'s degree\",\"standard\",\"none\",\"65\",\"77\",\"74\"\\n\"female\",\"group A\",\"associate\\'s degree\",\"standard\",\"none\",\"82\",\"93\",\"93\"\\n\"female\",\"group C\",\"high school\",\"standard\",\"none\",\"60\",\"68\",\"72\"\\n\"female\",\"group E\",\"bachelor\\'s degree\",\"standard\",\"none\",\"37\",\"45\",\"38\"\\n\"male\",\"group D\",\"bachelor\\'s degree\",\"standard\",\"none\",\"88\",\"78\",\"83\"\\n\"male\",\"group D\",\"master\\'s degree\",\"standard\",\"none\",\"95\",\"81\",\"84\"\\n\"male\",\"group C\",\"associate\\'s degree\",\"free/reduced\",\"completed\",\"65\",\"73\",\"68\"\\n\"female\",\"group C\",\"high school\",\"free/reduced\",\"none\",\"35\",\"61\",\"54\"\\n\"male\",\"group B\",\"bachelor\\'s degree\",\"free/reduced\",\"none\",\"62\",\"63\",\"56\"\\n\"male\",\"group C\",\"high school\",\"free/reduced\",\"completed\",\"58\",\"51\",\"52\"\\n\"male\",\"group A\",\"some college\",\"standard\",\"completed\",\"100\",\"96\",\"86\"\\n\"female\",\"group E\",\"bachelor\\'s degree\",\"free/reduced\",\"none\",\"61\",\"58\",\"62\"\\n\"male\",\"group D\",\"some college\",\"standard\",\"completed\",\"100\",\"97\",\"99\"\\n\"male\",\"group B\",\"associate\\'s degree\",\"free/reduced\",\"completed\",\"69\",\"70\",\"63\"\\n\"male\",\"group D\",\"associate\\'s degree\",\"standard\",\"none\",\"61\",\"48\",\"46\"\\n\"male\",\"group D\",\"some college\",\"free/reduced\",\"none\",\"49\",\"57\",\"46\"\\n\"female\",\"group C\",\"some high school\",\"standard\",\"completed\",\"44\",\"51\",\"55\"\\n\"male\",\"group D\",\"some college\",\"standard\",\"none\",\"67\",\"64\",\"70\"\\n\"male\",\"group B\",\"high school\",\"standard\",\"none\",\"79\",\"60\",\"65\"\\n\"female\",\"group B\",\"bachelor\\'s degree\",\"standard\",\"completed\",\"66\",\"74\",\"81\"\\n\"female\",\"group C\",\"high school\",\"standard\",\"none\",\"75\",\"88\",\"85\"\\n\"male\",\"group D\",\"some high school\",\"standard\",\"none\",\"84\",\"84\",\"80\"\\n\"male\",\"group A\",\"high school\",\"standard\",\"none\",\"71\",\"74\",\"64\"\\n\"female\",\"group B\",\"high school\",\"free/reduced\",\"completed\",\"67\",\"80\",\"81\"\\n\"female\",\"group D\",\"some high school\",\"standard\",\"completed\",\"80\",\"92\",\"88\"\\n\"male\",\"group E\",\"some college\",\"standard\",\"none\",\"86\",\"76\",\"74\"\\n\"female\",\"group D\",\"associate\\'s degree\",\"standard\",\"none\",\"76\",\"74\",\"73\"\\n\"male\",\"group D\",\"high school\",\"standard\",\"none\",\"41\",\"52\",\"51\"\\n\"female\",\"group D\",\"associate\\'s degree\",\"free/reduced\",\"completed\",\"74\",\"88\",\"90\"\\n\"female\",\"group B\",\"some high school\",\"free/reduced\",\"none\",\"72\",\"81\",\"79\"\\n\"female\",\"group E\",\"high school\",\"standard\",\"completed\",\"74\",\"79\",\"80\"\\n\"male\",\"group B\",\"high school\",\"standard\",\"none\",\"70\",\"65\",\"60\"\\n\"female\",\"group B\",\"bachelor\\'s degree\",\"standard\",\"completed\",\"65\",\"81\",\"81\"\\n\"female\",\"group D\",\"associate\\'s degree\",\"standard\",\"none\",\"59\",\"70\",\"65\"\\n\"female\",\"group E\",\"high school\",\"free/reduced\",\"none\",\"64\",\"62\",\"68\"\\n\"female\",\"group B\",\"high school\",\"standard\",\"none\",\"50\",\"53\",\"55\"\\n\"female\",\"group D\",\"some college\",\"standard\",\"completed\",\"69\",\"79\",\"81\"\\n\"male\",\"group C\",\"some high school\",\"free/reduced\",\"completed\",\"51\",\"56\",\"53\"\\n\"female\",\"group A\",\"high school\",\"standard\",\"completed\",\"68\",\"80\",\"76\"\\n\"female\",\"group D\",\"some college\",\"standard\",\"completed\",\"85\",\"86\",\"98\"\\n\"female\",\"group A\",\"associate\\'s degree\",\"standard\",\"completed\",\"65\",\"70\",\"74\"\\n\"female\",\"group B\",\"some high school\",\"standard\",\"none\",\"73\",\"79\",\"79\"\\n\"female\",\"group B\",\"some college\",\"standard\",\"none\",\"62\",\"67\",\"67\"\\n\"male\",\"group C\",\"associate\\'s degree\",\"free/reduced\",\"none\",\"77\",\"67\",\"64\"\\n\"male\",\"group D\",\"some high school\",\"standard\",\"none\",\"69\",\"66\",\"61\"\\n\"female\",\"group D\",\"associate\\'s degree\",\"free/reduced\",\"none\",\"43\",\"60\",\"58\"\\n\"male\",\"group D\",\"associate\\'s degree\",\"standard\",\"none\",\"90\",\"87\",\"85\"\\n\"male\",\"group C\",\"some college\",\"free/reduced\",\"none\",\"74\",\"77\",\"73\"\\n\"male\",\"group C\",\"some high school\",\"standard\",\"none\",\"73\",\"66\",\"63\"\\n\"female\",\"group D\",\"some college\",\"free/reduced\",\"none\",\"55\",\"71\",\"69\"\\n\"female\",\"group C\",\"high school\",\"standard\",\"none\",\"65\",\"69\",\"67\"\\n\"male\",\"group D\",\"associate\\'s degree\",\"standard\",\"none\",\"80\",\"63\",\"63\"\\n\"female\",\"group C\",\"some high school\",\"free/reduced\",\"completed\",\"50\",\"60\",\"60\"\\n\"female\",\"group C\",\"some college\",\"free/reduced\",\"completed\",\"63\",\"73\",\"71\"\\n\"female\",\"group B\",\"bachelor\\'s degree\",\"free/reduced\",\"none\",\"77\",\"85\",\"87\"\\n\"male\",\"group C\",\"some college\",\"standard\",\"none\",\"73\",\"74\",\"61\"\\n\"male\",\"group D\",\"associate\\'s degree\",\"standard\",\"completed\",\"81\",\"72\",\"77\"\\n\"female\",\"group C\",\"high school\",\"free/reduced\",\"none\",\"66\",\"76\",\"68\"\\n\"male\",\"group D\",\"associate\\'s degree\",\"free/reduced\",\"none\",\"52\",\"57\",\"50\"\\n\"female\",\"group C\",\"some college\",\"standard\",\"none\",\"69\",\"78\",\"76\"\\n\"female\",\"group C\",\"associate\\'s degree\",\"standard\",\"completed\",\"65\",\"84\",\"84\"\\n\"female\",\"group D\",\"high school\",\"standard\",\"completed\",\"69\",\"77\",\"78\"\\n\"female\",\"group B\",\"some college\",\"standard\",\"completed\",\"50\",\"64\",\"66\"\\n\"female\",\"group E\",\"some college\",\"standard\",\"completed\",\"73\",\"78\",\"76\"\\n\"female\",\"group C\",\"some high school\",\"standard\",\"completed\",\"70\",\"82\",\"76\"\\n\"male\",\"group D\",\"associate\\'s degree\",\"free/reduced\",\"none\",\"81\",\"75\",\"78\"\\n\"male\",\"group D\",\"some college\",\"free/reduced\",\"none\",\"63\",\"61\",\"60\"\\n\"female\",\"group D\",\"high school\",\"standard\",\"none\",\"67\",\"72\",\"74\"\\n\"male\",\"group B\",\"high school\",\"standard\",\"none\",\"60\",\"68\",\"60\"\\n\"male\",\"group B\",\"high school\",\"standard\",\"none\",\"62\",\"55\",\"54\"\\n\"female\",\"group C\",\"some high school\",\"free/reduced\",\"completed\",\"29\",\"40\",\"44\"\\n\"male\",\"group B\",\"some college\",\"standard\",\"completed\",\"62\",\"66\",\"68\"\\n\"female\",\"group E\",\"master\\'s degree\",\"standard\",\"completed\",\"94\",\"99\",\"100\"\\n\"male\",\"group E\",\"some college\",\"standard\",\"completed\",\"85\",\"75\",\"68\"\\n\"male\",\"group D\",\"associate\\'s degree\",\"free/reduced\",\"none\",\"77\",\"78\",\"73\"\\n\"male\",\"group A\",\"high school\",\"free/reduced\",\"none\",\"53\",\"58\",\"44\"\\n\"male\",\"group E\",\"some college\",\"free/reduced\",\"none\",\"93\",\"90\",\"83\"\\n\"female\",\"group C\",\"associate\\'s degree\",\"standard\",\"none\",\"49\",\"53\",\"53\"\\n\"female\",\"group E\",\"associate\\'s degree\",\"free/reduced\",\"none\",\"73\",\"76\",\"78\"\\n\"female\",\"group C\",\"bachelor\\'s degree\",\"free/reduced\",\"completed\",\"66\",\"74\",\"81\"\\n\"female\",\"group D\",\"associate\\'s degree\",\"standard\",\"none\",\"77\",\"77\",\"73\"\\n\"female\",\"group C\",\"some high school\",\"standard\",\"none\",\"49\",\"63\",\"56\"\\n\"female\",\"group D\",\"some college\",\"free/reduced\",\"none\",\"79\",\"89\",\"86\"\\n\"female\",\"group C\",\"associate\\'s degree\",\"standard\",\"completed\",\"75\",\"82\",\"90\"\\n\"female\",\"group A\",\"bachelor\\'s degree\",\"standard\",\"none\",\"59\",\"72\",\"70\"\\n\"female\",\"group D\",\"associate\\'s degree\",\"standard\",\"completed\",\"57\",\"78\",\"79\"\\n\"male\",\"group C\",\"high school\",\"free/reduced\",\"none\",\"66\",\"66\",\"59\"\\n\"female\",\"group E\",\"bachelor\\'s degree\",\"standard\",\"completed\",\"79\",\"81\",\"82\"\\n\"female\",\"group B\",\"some high school\",\"standard\",\"none\",\"57\",\"67\",\"72\"\\n\"male\",\"group A\",\"bachelor\\'s degree\",\"standard\",\"completed\",\"87\",\"84\",\"87\"\\n\"female\",\"group D\",\"some college\",\"standard\",\"none\",\"63\",\"64\",\"67\"\\n\"female\",\"group B\",\"some high school\",\"free/reduced\",\"completed\",\"59\",\"63\",\"64\"\\n\"male\",\"group A\",\"bachelor\\'s degree\",\"free/reduced\",\"none\",\"62\",\"72\",\"65\"\\n\"male\",\"group D\",\"high school\",\"standard\",\"none\",\"46\",\"34\",\"36\"\\n\"male\",\"group C\",\"some college\",\"standard\",\"none\",\"66\",\"59\",\"52\"\\n\"male\",\"group D\",\"high school\",\"standard\",\"none\",\"89\",\"87\",\"79\"\\n\"female\",\"group D\",\"associate\\'s degree\",\"free/reduced\",\"completed\",\"42\",\"61\",\"58\"\\n\"male\",\"group C\",\"some college\",\"standard\",\"completed\",\"93\",\"84\",\"90\"\\n\"female\",\"group E\",\"some high school\",\"standard\",\"completed\",\"80\",\"85\",\"85\"\\n\"female\",\"group D\",\"some college\",\"standard\",\"none\",\"98\",\"100\",\"99\"\\n\"male\",\"group D\",\"master\\'s degree\",\"standard\",\"none\",\"81\",\"81\",\"84\"\\n\"female\",\"group B\",\"some high school\",\"standard\",\"completed\",\"60\",\"70\",\"74\"\\n\"female\",\"group B\",\"associate\\'s degree\",\"free/reduced\",\"completed\",\"76\",\"94\",\"87\"\\n\"male\",\"group C\",\"associate\\'s degree\",\"standard\",\"completed\",\"73\",\"78\",\"72\"\\n\"female\",\"group C\",\"associate\\'s degree\",\"standard\",\"completed\",\"96\",\"96\",\"99\"\\n\"female\",\"group C\",\"high school\",\"standard\",\"none\",\"76\",\"76\",\"74\"\\n\"male\",\"group E\",\"associate\\'s degree\",\"free/reduced\",\"completed\",\"91\",\"73\",\"80\"\\n\"female\",\"group C\",\"some college\",\"free/reduced\",\"none\",\"62\",\"72\",\"70\"\\n\"male\",\"group D\",\"some high school\",\"free/reduced\",\"completed\",\"55\",\"59\",\"59\"\\n\"female\",\"group B\",\"some high school\",\"free/reduced\",\"completed\",\"74\",\"90\",\"88\"\\n\"male\",\"group C\",\"high school\",\"standard\",\"none\",\"50\",\"48\",\"42\"\\n\"male\",\"group B\",\"some college\",\"standard\",\"none\",\"47\",\"43\",\"41\"\\n\"male\",\"group E\",\"some college\",\"standard\",\"completed\",\"81\",\"74\",\"71\"\\n\"female\",\"group E\",\"associate\\'s degree\",\"standard\",\"completed\",\"65\",\"75\",\"77\"\\n\"male\",\"group E\",\"some high school\",\"standard\",\"completed\",\"68\",\"51\",\"57\"\\n\"female\",\"group D\",\"high school\",\"free/reduced\",\"none\",\"73\",\"92\",\"84\"\\n\"male\",\"group C\",\"some college\",\"standard\",\"none\",\"53\",\"39\",\"37\"\\n\"female\",\"group B\",\"associate\\'s degree\",\"free/reduced\",\"completed\",\"68\",\"77\",\"80\"\\n\"male\",\"group A\",\"some high school\",\"free/reduced\",\"none\",\"55\",\"46\",\"43\"\\n\"female\",\"group C\",\"some college\",\"standard\",\"completed\",\"87\",\"89\",\"94\"\\n\"male\",\"group D\",\"some high school\",\"standard\",\"none\",\"55\",\"47\",\"44\"\\n\"female\",\"group E\",\"some college\",\"free/reduced\",\"none\",\"53\",\"58\",\"57\"\\n\"male\",\"group C\",\"master\\'s degree\",\"standard\",\"none\",\"67\",\"57\",\"59\"\\n\"male\",\"group C\",\"associate\\'s degree\",\"standard\",\"none\",\"92\",\"79\",\"84\"\\n\"female\",\"group B\",\"some college\",\"free/reduced\",\"completed\",\"53\",\"66\",\"73\"\\n\"male\",\"group D\",\"associate\\'s degree\",\"standard\",\"none\",\"81\",\"71\",\"73\"\\n\"male\",\"group C\",\"high school\",\"free/reduced\",\"none\",\"61\",\"60\",\"55\"\\n\"male\",\"group D\",\"bachelor\\'s degree\",\"standard\",\"none\",\"80\",\"73\",\"72\"\\n\"female\",\"group A\",\"associate\\'s degree\",\"free/reduced\",\"none\",\"37\",\"57\",\"56\"\\n\"female\",\"group C\",\"high school\",\"standard\",\"none\",\"81\",\"84\",\"82\"\\n\"female\",\"group C\",\"associate\\'s degree\",\"standard\",\"completed\",\"59\",\"73\",\"72\"\\n\"male\",\"group B\",\"some college\",\"free/reduced\",\"none\",\"55\",\"55\",\"47\"\\n\"male\",\"group D\",\"associate\\'s degree\",\"standard\",\"none\",\"72\",\"79\",\"74\"\\n\"male\",\"group D\",\"high school\",\"standard\",\"none\",\"69\",\"75\",\"71\"\\n\"male\",\"group C\",\"some college\",\"standard\",\"none\",\"69\",\"64\",\"68\"\\n\"female\",\"group C\",\"bachelor\\'s degree\",\"free/reduced\",\"none\",\"50\",\"60\",\"59\"\\n\"male\",\"group B\",\"some college\",\"standard\",\"completed\",\"87\",\"84\",\"86\"\\n\"male\",\"group D\",\"some high school\",\"standard\",\"completed\",\"71\",\"69\",\"68\"\\n\"male\",\"group E\",\"some college\",\"standard\",\"none\",\"68\",\"72\",\"65\"\\n\"male\",\"group C\",\"master\\'s degree\",\"free/reduced\",\"completed\",\"79\",\"77\",\"75\"\\n\"female\",\"group C\",\"some high school\",\"standard\",\"completed\",\"77\",\"90\",\"85\"\\n\"male\",\"group C\",\"associate\\'s degree\",\"free/reduced\",\"none\",\"58\",\"55\",\"53\"\\n\"female\",\"group E\",\"associate\\'s degree\",\"standard\",\"none\",\"84\",\"95\",\"92\"\\n\"male\",\"group D\",\"some college\",\"standard\",\"none\",\"55\",\"58\",\"52\"\\n\"male\",\"group E\",\"bachelor\\'s degree\",\"free/reduced\",\"completed\",\"70\",\"68\",\"72\"\\n\"female\",\"group D\",\"some college\",\"free/reduced\",\"completed\",\"52\",\"59\",\"65\"\\n\"male\",\"group B\",\"some college\",\"standard\",\"completed\",\"69\",\"77\",\"77\"\\n\"female\",\"group C\",\"high school\",\"free/reduced\",\"none\",\"53\",\"72\",\"64\"\\n\"female\",\"group D\",\"some high school\",\"standard\",\"none\",\"48\",\"58\",\"54\"\\n\"male\",\"group D\",\"some high school\",\"standard\",\"completed\",\"78\",\"81\",\"86\"\\n\"female\",\"group B\",\"high school\",\"standard\",\"none\",\"62\",\"62\",\"63\"\\n\"male\",\"group D\",\"some college\",\"standard\",\"none\",\"60\",\"63\",\"59\"\\n\"female\",\"group B\",\"high school\",\"standard\",\"none\",\"74\",\"72\",\"72\"\\n\"female\",\"group C\",\"high school\",\"standard\",\"completed\",\"58\",\"75\",\"77\"\\n\"male\",\"group B\",\"high school\",\"standard\",\"completed\",\"76\",\"62\",\"60\"\\n\"female\",\"group D\",\"some high school\",\"standard\",\"none\",\"68\",\"71\",\"75\"\\n\"male\",\"group A\",\"some college\",\"free/reduced\",\"none\",\"58\",\"60\",\"57\"\\n\"male\",\"group B\",\"high school\",\"standard\",\"none\",\"52\",\"48\",\"49\"\\n\"male\",\"group D\",\"bachelor\\'s degree\",\"standard\",\"none\",\"75\",\"73\",\"74\"\\n\"female\",\"group B\",\"some high school\",\"free/reduced\",\"completed\",\"52\",\"67\",\"72\"\\n\"female\",\"group C\",\"bachelor\\'s degree\",\"free/reduced\",\"none\",\"62\",\"78\",\"79\"\\n\"male\",\"group B\",\"some college\",\"standard\",\"none\",\"66\",\"65\",\"60\"\\n\"female\",\"group B\",\"some high school\",\"free/reduced\",\"none\",\"49\",\"58\",\"55\"\\n\"female\",\"group B\",\"high school\",\"standard\",\"none\",\"66\",\"72\",\"70\"\\n\"female\",\"group C\",\"some college\",\"free/reduced\",\"none\",\"35\",\"44\",\"43\"\\n\"female\",\"group A\",\"some college\",\"standard\",\"completed\",\"72\",\"79\",\"82\"\\n\"male\",\"group E\",\"associate\\'s degree\",\"standard\",\"completed\",\"94\",\"85\",\"82\"\\n\"female\",\"group D\",\"associate\\'s degree\",\"free/reduced\",\"none\",\"46\",\"56\",\"57\"\\n\"female\",\"group B\",\"master\\'s degree\",\"standard\",\"none\",\"77\",\"90\",\"84\"\\n\"female\",\"group B\",\"high school\",\"free/reduced\",\"completed\",\"76\",\"85\",\"82\"\\n\"female\",\"group C\",\"associate\\'s degree\",\"standard\",\"completed\",\"52\",\"59\",\"62\"\\n\"male\",\"group C\",\"bachelor\\'s degree\",\"standard\",\"completed\",\"91\",\"81\",\"79\"\\n\"female\",\"group B\",\"some high school\",\"standard\",\"completed\",\"32\",\"51\",\"44\"\\n\"female\",\"group E\",\"some high school\",\"free/reduced\",\"none\",\"72\",\"79\",\"77\"\\n\"female\",\"group B\",\"some college\",\"standard\",\"none\",\"19\",\"38\",\"32\"\\n\"male\",\"group C\",\"associate\\'s degree\",\"free/reduced\",\"none\",\"68\",\"65\",\"61\"\\n\"female\",\"group C\",\"master\\'s degree\",\"free/reduced\",\"none\",\"52\",\"65\",\"61\"\\n\"female\",\"group B\",\"high school\",\"standard\",\"none\",\"48\",\"62\",\"60\"\\n\"female\",\"group D\",\"some college\",\"free/reduced\",\"none\",\"60\",\"66\",\"70\"\\n\"male\",\"group D\",\"high school\",\"free/reduced\",\"none\",\"66\",\"74\",\"69\"\\n\"male\",\"group E\",\"some high school\",\"standard\",\"completed\",\"89\",\"84\",\"77\"\\n\"female\",\"group B\",\"high school\",\"standard\",\"none\",\"42\",\"52\",\"51\"\\n\"female\",\"group E\",\"associate\\'s degree\",\"free/reduced\",\"completed\",\"57\",\"68\",\"73\"\\n\"male\",\"group D\",\"high school\",\"standard\",\"none\",\"70\",\"70\",\"70\"\\n\"female\",\"group E\",\"associate\\'s degree\",\"free/reduced\",\"none\",\"70\",\"84\",\"81\"\\n\"male\",\"group E\",\"some college\",\"standard\",\"none\",\"69\",\"60\",\"54\"\\n\"female\",\"group C\",\"associate\\'s degree\",\"standard\",\"none\",\"52\",\"55\",\"57\"\\n\"male\",\"group C\",\"some high school\",\"standard\",\"completed\",\"67\",\"73\",\"68\"\\n\"male\",\"group C\",\"some high school\",\"standard\",\"completed\",\"76\",\"80\",\"73\"\\n\"female\",\"group E\",\"associate\\'s degree\",\"standard\",\"none\",\"87\",\"94\",\"95\"\\n\"female\",\"group B\",\"some college\",\"standard\",\"none\",\"82\",\"85\",\"87\"\\n\"female\",\"group C\",\"some college\",\"standard\",\"none\",\"73\",\"76\",\"78\"\\n\"male\",\"group A\",\"some college\",\"free/reduced\",\"none\",\"75\",\"81\",\"74\"\\n\"female\",\"group D\",\"some college\",\"free/reduced\",\"none\",\"64\",\"74\",\"75\"\\n\"female\",\"group E\",\"high school\",\"free/reduced\",\"none\",\"41\",\"45\",\"40\"\\n\"male\",\"group C\",\"high school\",\"standard\",\"none\",\"90\",\"75\",\"69\"\\n\"male\",\"group B\",\"bachelor\\'s degree\",\"standard\",\"none\",\"59\",\"54\",\"51\"\\n\"male\",\"group A\",\"some high school\",\"standard\",\"none\",\"51\",\"31\",\"36\"\\n\"male\",\"group A\",\"high school\",\"free/reduced\",\"none\",\"45\",\"47\",\"49\"\\n\"female\",\"group C\",\"master\\'s degree\",\"standard\",\"completed\",\"54\",\"64\",\"67\"\\n\"male\",\"group E\",\"some high school\",\"standard\",\"completed\",\"87\",\"84\",\"76\"\\n\"female\",\"group C\",\"high school\",\"standard\",\"none\",\"72\",\"80\",\"83\"\\n\"male\",\"group B\",\"some high school\",\"standard\",\"completed\",\"94\",\"86\",\"87\"\\n\"female\",\"group A\",\"bachelor\\'s degree\",\"standard\",\"none\",\"45\",\"59\",\"64\"\\n\"male\",\"group D\",\"bachelor\\'s degree\",\"free/reduced\",\"completed\",\"61\",\"70\",\"76\"\\n\"female\",\"group B\",\"high school\",\"free/reduced\",\"none\",\"60\",\"72\",\"68\"\\n\"female\",\"group C\",\"some high school\",\"standard\",\"none\",\"77\",\"91\",\"88\"\\n\"female\",\"group A\",\"some high school\",\"standard\",\"completed\",\"85\",\"90\",\"92\"\\n\"female\",\"group D\",\"bachelor\\'s degree\",\"free/reduced\",\"none\",\"78\",\"90\",\"93\"\\n\"male\",\"group E\",\"some college\",\"free/reduced\",\"completed\",\"49\",\"52\",\"51\"\\n\"female\",\"group B\",\"high school\",\"free/reduced\",\"none\",\"71\",\"87\",\"82\"\\n\"female\",\"group C\",\"some high school\",\"free/reduced\",\"none\",\"48\",\"58\",\"52\"\\n\"male\",\"group C\",\"high school\",\"standard\",\"none\",\"62\",\"67\",\"58\"\\n\"female\",\"group C\",\"associate\\'s degree\",\"free/reduced\",\"completed\",\"56\",\"68\",\"70\"\\n\"female\",\"group C\",\"some high school\",\"standard\",\"none\",\"65\",\"69\",\"76\"\\n\"female\",\"group D\",\"some high school\",\"free/reduced\",\"completed\",\"69\",\"86\",\"81\"\\n\"male\",\"group B\",\"some high school\",\"standard\",\"none\",\"68\",\"54\",\"53\"\\n\"female\",\"group A\",\"some college\",\"free/reduced\",\"none\",\"61\",\"60\",\"57\"\\n\"female\",\"group C\",\"bachelor\\'s degree\",\"free/reduced\",\"completed\",\"74\",\"86\",\"89\"\\n\"male\",\"group A\",\"bachelor\\'s degree\",\"standard\",\"none\",\"64\",\"60\",\"58\"\\n\"female\",\"group B\",\"high school\",\"standard\",\"completed\",\"77\",\"82\",\"89\"\\n\"male\",\"group B\",\"some college\",\"standard\",\"none\",\"58\",\"50\",\"45\"\\n\"female\",\"group C\",\"high school\",\"standard\",\"completed\",\"60\",\"64\",\"74\"\\n\"male\",\"group E\",\"high school\",\"standard\",\"none\",\"73\",\"64\",\"57\"\\n\"female\",\"group A\",\"high school\",\"standard\",\"completed\",\"75\",\"82\",\"79\"\\n\"male\",\"group B\",\"associate\\'s degree\",\"free/reduced\",\"completed\",\"58\",\"57\",\"53\"\\n\"female\",\"group C\",\"associate\\'s degree\",\"standard\",\"none\",\"66\",\"77\",\"73\"\\n\"female\",\"group D\",\"high school\",\"free/reduced\",\"none\",\"39\",\"52\",\"46\"\\n\"male\",\"group C\",\"some high school\",\"standard\",\"none\",\"64\",\"58\",\"51\"\\n\"female\",\"group B\",\"high school\",\"free/reduced\",\"completed\",\"23\",\"44\",\"36\"\\n\"male\",\"group B\",\"some college\",\"free/reduced\",\"completed\",\"74\",\"77\",\"76\"\\n\"female\",\"group D\",\"some high school\",\"free/reduced\",\"completed\",\"40\",\"65\",\"64\"\\n\"male\",\"group E\",\"master\\'s degree\",\"standard\",\"none\",\"90\",\"85\",\"84\"\\n\"male\",\"group C\",\"master\\'s degree\",\"standard\",\"completed\",\"91\",\"85\",\"85\"\\n\"male\",\"group D\",\"high school\",\"standard\",\"none\",\"64\",\"54\",\"50\"\\n\"female\",\"group C\",\"high school\",\"standard\",\"none\",\"59\",\"72\",\"68\"\\n\"male\",\"group D\",\"associate\\'s degree\",\"standard\",\"none\",\"80\",\"75\",\"69\"\\n\"male\",\"group C\",\"master\\'s degree\",\"standard\",\"none\",\"71\",\"67\",\"67\"\\n\"female\",\"group A\",\"high school\",\"standard\",\"none\",\"61\",\"68\",\"63\"\\n\"female\",\"group E\",\"some college\",\"standard\",\"none\",\"87\",\"85\",\"93\"\\n\"male\",\"group E\",\"some high school\",\"standard\",\"none\",\"82\",\"67\",\"61\"\\n\"male\",\"group C\",\"some high school\",\"standard\",\"none\",\"62\",\"64\",\"55\"\\n\"female\",\"group B\",\"bachelor\\'s degree\",\"standard\",\"none\",\"97\",\"97\",\"96\"\\n\"male\",\"group B\",\"some college\",\"free/reduced\",\"none\",\"75\",\"68\",\"65\"\\n\"female\",\"group C\",\"bachelor\\'s degree\",\"standard\",\"none\",\"65\",\"79\",\"81\"\\n\"male\",\"group B\",\"high school\",\"standard\",\"completed\",\"52\",\"49\",\"46\"\\n\"male\",\"group C\",\"associate\\'s degree\",\"free/reduced\",\"none\",\"87\",\"73\",\"72\"\\n\"female\",\"group C\",\"associate\\'s degree\",\"standard\",\"none\",\"53\",\"62\",\"53\"\\n\"female\",\"group E\",\"master\\'s degree\",\"free/reduced\",\"none\",\"81\",\"86\",\"87\"\\n\"male\",\"group D\",\"bachelor\\'s degree\",\"free/reduced\",\"completed\",\"39\",\"42\",\"38\"\\n\"female\",\"group C\",\"some college\",\"standard\",\"completed\",\"71\",\"71\",\"80\"\\n\"male\",\"group C\",\"associate\\'s degree\",\"standard\",\"none\",\"97\",\"93\",\"91\"\\n\"male\",\"group D\",\"some college\",\"standard\",\"completed\",\"82\",\"82\",\"88\"\\n\"male\",\"group C\",\"high school\",\"free/reduced\",\"none\",\"59\",\"53\",\"52\"\\n\"male\",\"group B\",\"associate\\'s degree\",\"standard\",\"none\",\"61\",\"42\",\"41\"\\n\"male\",\"group E\",\"associate\\'s degree\",\"free/reduced\",\"completed\",\"78\",\"74\",\"72\"\\n\"male\",\"group C\",\"associate\\'s degree\",\"free/reduced\",\"none\",\"49\",\"51\",\"51\"\\n\"male\",\"group B\",\"high school\",\"standard\",\"none\",\"59\",\"58\",\"47\"\\n\"female\",\"group C\",\"some college\",\"standard\",\"completed\",\"70\",\"72\",\"76\"\\n\"male\",\"group B\",\"associate\\'s degree\",\"standard\",\"completed\",\"82\",\"84\",\"78\"\\n\"male\",\"group E\",\"associate\\'s degree\",\"free/reduced\",\"none\",\"90\",\"90\",\"82\"\\n\"female\",\"group C\",\"bachelor\\'s degree\",\"free/reduced\",\"none\",\"43\",\"62\",\"61\"\\n\"male\",\"group C\",\"some college\",\"free/reduced\",\"none\",\"80\",\"64\",\"66\"\\n\"male\",\"group D\",\"some college\",\"standard\",\"none\",\"81\",\"82\",\"84\"\\n\"male\",\"group C\",\"some high school\",\"standard\",\"none\",\"57\",\"61\",\"54\"\\n\"female\",\"group D\",\"some high school\",\"standard\",\"none\",\"59\",\"72\",\"80\"\\n\"female\",\"group D\",\"associate\\'s degree\",\"standard\",\"none\",\"64\",\"76\",\"74\"\\n\"male\",\"group C\",\"bachelor\\'s degree\",\"standard\",\"completed\",\"63\",\"64\",\"66\"\\n\"female\",\"group E\",\"bachelor\\'s degree\",\"standard\",\"completed\",\"71\",\"70\",\"70\"\\n\"female\",\"group B\",\"high school\",\"free/reduced\",\"none\",\"64\",\"73\",\"71\"\\n\"male\",\"group D\",\"bachelor\\'s degree\",\"free/reduced\",\"none\",\"55\",\"46\",\"44\"\\n\"female\",\"group E\",\"associate\\'s degree\",\"standard\",\"none\",\"51\",\"51\",\"54\"\\n\"female\",\"group C\",\"associate\\'s degree\",\"standard\",\"completed\",\"62\",\"76\",\"80\"\\n\"female\",\"group E\",\"associate\\'s degree\",\"standard\",\"completed\",\"93\",\"100\",\"95\"\\n\"male\",\"group C\",\"high school\",\"free/reduced\",\"none\",\"54\",\"72\",\"59\"\\n\"female\",\"group D\",\"some college\",\"free/reduced\",\"none\",\"69\",\"65\",\"74\"\\n\"male\",\"group D\",\"high school\",\"free/reduced\",\"none\",\"44\",\"51\",\"48\"\\n\"female\",\"group E\",\"some college\",\"standard\",\"completed\",\"86\",\"85\",\"91\"\\n\"female\",\"group E\",\"associate\\'s degree\",\"standard\",\"none\",\"85\",\"92\",\"85\"\\n\"female\",\"group A\",\"master\\'s degree\",\"free/reduced\",\"none\",\"50\",\"67\",\"73\"\\n\"male\",\"group D\",\"some high school\",\"standard\",\"completed\",\"88\",\"74\",\"75\"\\n\"female\",\"group E\",\"associate\\'s degree\",\"standard\",\"none\",\"59\",\"62\",\"69\"\\n\"female\",\"group E\",\"some high school\",\"free/reduced\",\"none\",\"32\",\"34\",\"38\"\\n\"male\",\"group B\",\"high school\",\"free/reduced\",\"none\",\"36\",\"29\",\"27\"\\n\"female\",\"group B\",\"some high school\",\"free/reduced\",\"completed\",\"63\",\"78\",\"79\"\\n\"male\",\"group D\",\"associate\\'s degree\",\"standard\",\"completed\",\"67\",\"54\",\"63\"\\n\"female\",\"group D\",\"some high school\",\"standard\",\"completed\",\"65\",\"78\",\"82\"\\n\"male\",\"group D\",\"master\\'s degree\",\"standard\",\"none\",\"85\",\"84\",\"89\"\\n\"female\",\"group C\",\"master\\'s degree\",\"standard\",\"none\",\"73\",\"78\",\"74\"\\n\"female\",\"group A\",\"high school\",\"free/reduced\",\"completed\",\"34\",\"48\",\"41\"\\n\"female\",\"group D\",\"bachelor\\'s degree\",\"free/reduced\",\"completed\",\"93\",\"100\",\"100\"\\n\"female\",\"group D\",\"some high school\",\"free/reduced\",\"none\",\"67\",\"84\",\"84\"\\n\"male\",\"group D\",\"some college\",\"standard\",\"none\",\"88\",\"77\",\"77\"\\n\"male\",\"group B\",\"high school\",\"standard\",\"none\",\"57\",\"48\",\"51\"\\n\"female\",\"group D\",\"some college\",\"standard\",\"completed\",\"79\",\"84\",\"91\"\\n\"female\",\"group C\",\"bachelor\\'s degree\",\"free/reduced\",\"none\",\"67\",\"75\",\"72\"\\n\"male\",\"group E\",\"bachelor\\'s degree\",\"standard\",\"completed\",\"70\",\"64\",\"70\"\\n\"male\",\"group D\",\"bachelor\\'s degree\",\"free/reduced\",\"none\",\"50\",\"42\",\"48\"\\n\"female\",\"group A\",\"some college\",\"standard\",\"none\",\"69\",\"84\",\"82\"\\n\"female\",\"group C\",\"bachelor\\'s degree\",\"standard\",\"completed\",\"52\",\"61\",\"66\"\\n\"female\",\"group C\",\"bachelor\\'s degree\",\"free/reduced\",\"completed\",\"47\",\"62\",\"66\"\\n\"female\",\"group B\",\"associate\\'s degree\",\"free/reduced\",\"none\",\"46\",\"61\",\"55\"\\n\"female\",\"group E\",\"some college\",\"standard\",\"none\",\"68\",\"70\",\"66\"\\n\"male\",\"group E\",\"bachelor\\'s degree\",\"standard\",\"completed\",\"100\",\"100\",\"100\"\\n\"female\",\"group C\",\"high school\",\"standard\",\"none\",\"44\",\"61\",\"52\"\\n\"female\",\"group C\",\"associate\\'s degree\",\"standard\",\"completed\",\"57\",\"77\",\"80\"\\n\"male\",\"group B\",\"some college\",\"standard\",\"completed\",\"91\",\"96\",\"91\"\\n\"male\",\"group D\",\"high school\",\"free/reduced\",\"none\",\"69\",\"70\",\"67\"\\n\"female\",\"group C\",\"high school\",\"free/reduced\",\"none\",\"35\",\"53\",\"46\"\\n\"male\",\"group D\",\"high school\",\"standard\",\"none\",\"72\",\"66\",\"66\"\\n\"female\",\"group B\",\"associate\\'s degree\",\"free/reduced\",\"none\",\"54\",\"65\",\"65\"\\n\"male\",\"group D\",\"high school\",\"free/reduced\",\"none\",\"74\",\"70\",\"69\"\\n\"male\",\"group E\",\"some high school\",\"standard\",\"completed\",\"74\",\"64\",\"60\"\\n\"male\",\"group E\",\"associate\\'s degree\",\"free/reduced\",\"none\",\"64\",\"56\",\"52\"\\n\"female\",\"group D\",\"high school\",\"free/reduced\",\"completed\",\"65\",\"61\",\"71\"\\n\"male\",\"group E\",\"associate\\'s degree\",\"free/reduced\",\"completed\",\"46\",\"43\",\"44\"\\n\"female\",\"group C\",\"some high school\",\"free/reduced\",\"none\",\"48\",\"56\",\"51\"\\n\"male\",\"group C\",\"some college\",\"free/reduced\",\"completed\",\"67\",\"74\",\"70\"\\n\"male\",\"group D\",\"some college\",\"free/reduced\",\"none\",\"62\",\"57\",\"62\"\\n\"male\",\"group D\",\"associate\\'s degree\",\"free/reduced\",\"completed\",\"61\",\"71\",\"73\"\\n\"male\",\"group C\",\"bachelor\\'s degree\",\"free/reduced\",\"completed\",\"70\",\"75\",\"74\"\\n\"male\",\"group C\",\"associate\\'s degree\",\"standard\",\"completed\",\"98\",\"87\",\"90\"\\n\"male\",\"group D\",\"some college\",\"free/reduced\",\"none\",\"70\",\"63\",\"58\"\\n\"male\",\"group A\",\"associate\\'s degree\",\"standard\",\"none\",\"67\",\"57\",\"53\"\\n\"female\",\"group E\",\"high school\",\"free/reduced\",\"none\",\"57\",\"58\",\"57\"\\n\"male\",\"group D\",\"some college\",\"standard\",\"completed\",\"85\",\"81\",\"85\"\\n\"male\",\"group D\",\"some high school\",\"standard\",\"completed\",\"77\",\"68\",\"69\"\\n\"male\",\"group C\",\"master\\'s degree\",\"free/reduced\",\"completed\",\"72\",\"66\",\"72\"\\n\"female\",\"group D\",\"master\\'s degree\",\"standard\",\"none\",\"78\",\"91\",\"96\"\\n\"male\",\"group C\",\"high school\",\"standard\",\"none\",\"81\",\"66\",\"64\"\\n\"male\",\"group A\",\"some high school\",\"free/reduced\",\"completed\",\"61\",\"62\",\"61\"\\n\"female\",\"group B\",\"high school\",\"standard\",\"none\",\"58\",\"68\",\"61\"\\n\"female\",\"group C\",\"associate\\'s degree\",\"standard\",\"none\",\"54\",\"61\",\"58\"\\n\"male\",\"group B\",\"high school\",\"standard\",\"none\",\"82\",\"82\",\"80\"\\n\"female\",\"group D\",\"some college\",\"free/reduced\",\"none\",\"49\",\"58\",\"60\"\\n\"male\",\"group B\",\"some high school\",\"free/reduced\",\"completed\",\"49\",\"50\",\"52\"\\n\"female\",\"group E\",\"high school\",\"free/reduced\",\"completed\",\"57\",\"75\",\"73\"\\n\"male\",\"group E\",\"high school\",\"standard\",\"none\",\"94\",\"73\",\"71\"\\n\"female\",\"group D\",\"some college\",\"standard\",\"completed\",\"75\",\"77\",\"83\"\\n\"female\",\"group E\",\"some high school\",\"free/reduced\",\"none\",\"74\",\"74\",\"72\"\\n\"male\",\"group C\",\"high school\",\"standard\",\"completed\",\"58\",\"52\",\"54\"\\n\"female\",\"group C\",\"some college\",\"standard\",\"none\",\"62\",\"69\",\"69\"\\n\"male\",\"group E\",\"associate\\'s degree\",\"standard\",\"none\",\"72\",\"57\",\"62\"\\n\"male\",\"group C\",\"some college\",\"standard\",\"none\",\"84\",\"87\",\"81\"\\n\"female\",\"group D\",\"master\\'s degree\",\"standard\",\"none\",\"92\",\"100\",\"100\"\\n\"female\",\"group D\",\"high school\",\"standard\",\"none\",\"45\",\"63\",\"59\"\\n\"male\",\"group C\",\"high school\",\"standard\",\"none\",\"75\",\"81\",\"71\"\\n\"female\",\"group A\",\"some college\",\"standard\",\"none\",\"56\",\"58\",\"64\"\\n\"female\",\"group D\",\"some high school\",\"free/reduced\",\"none\",\"48\",\"54\",\"53\"\\n\"female\",\"group E\",\"associate\\'s degree\",\"standard\",\"none\",\"100\",\"100\",\"100\"\\n\"female\",\"group C\",\"some high school\",\"free/reduced\",\"completed\",\"65\",\"76\",\"75\"\\n\"male\",\"group D\",\"some college\",\"standard\",\"none\",\"72\",\"57\",\"58\"\\n\"female\",\"group D\",\"some college\",\"standard\",\"none\",\"62\",\"70\",\"72\"\\n\"male\",\"group A\",\"some high school\",\"standard\",\"completed\",\"66\",\"68\",\"64\"\\n\"male\",\"group C\",\"some college\",\"standard\",\"none\",\"63\",\"63\",\"60\"\\n\"female\",\"group E\",\"associate\\'s degree\",\"standard\",\"none\",\"68\",\"76\",\"67\"\\n\"female\",\"group B\",\"bachelor\\'s degree\",\"standard\",\"none\",\"75\",\"84\",\"80\"\\n\"female\",\"group D\",\"bachelor\\'s degree\",\"standard\",\"none\",\"89\",\"100\",\"100\"\\n\"male\",\"group C\",\"some high school\",\"standard\",\"completed\",\"78\",\"72\",\"69\"\\n\"female\",\"group A\",\"high school\",\"free/reduced\",\"completed\",\"53\",\"50\",\"60\"\\n\"female\",\"group D\",\"some college\",\"free/reduced\",\"none\",\"49\",\"65\",\"61\"\\n\"female\",\"group A\",\"some college\",\"standard\",\"none\",\"54\",\"63\",\"67\"\\n\"female\",\"group C\",\"some college\",\"standard\",\"completed\",\"64\",\"82\",\"77\"\\n\"male\",\"group B\",\"some college\",\"free/reduced\",\"completed\",\"60\",\"62\",\"60\"\\n\"male\",\"group C\",\"associate\\'s degree\",\"standard\",\"none\",\"62\",\"65\",\"58\"\\n\"male\",\"group D\",\"high school\",\"standard\",\"completed\",\"55\",\"41\",\"48\"\\n\"female\",\"group C\",\"associate\\'s degree\",\"standard\",\"none\",\"91\",\"95\",\"94\"\\n\"female\",\"group B\",\"high school\",\"free/reduced\",\"none\",\"8\",\"24\",\"23\"\\n\"male\",\"group D\",\"some high school\",\"standard\",\"none\",\"81\",\"78\",\"78\"\\n\"male\",\"group B\",\"some high school\",\"standard\",\"completed\",\"79\",\"85\",\"86\"\\n\"female\",\"group A\",\"some college\",\"standard\",\"completed\",\"78\",\"87\",\"91\"\\n\"female\",\"group C\",\"some high school\",\"standard\",\"none\",\"74\",\"75\",\"82\"\\n\"male\",\"group A\",\"high school\",\"standard\",\"none\",\"57\",\"51\",\"54\"\\n\"female\",\"group C\",\"associate\\'s degree\",\"standard\",\"none\",\"40\",\"59\",\"51\"\\n\"male\",\"group E\",\"some high school\",\"standard\",\"completed\",\"81\",\"75\",\"76\"\\n\"female\",\"group A\",\"some high school\",\"free/reduced\",\"none\",\"44\",\"45\",\"45\"\\n\"female\",\"group D\",\"some college\",\"free/reduced\",\"completed\",\"67\",\"86\",\"83\"\\n\"male\",\"group E\",\"high school\",\"free/reduced\",\"completed\",\"86\",\"81\",\"75\"\\n\"female\",\"group B\",\"some high school\",\"standard\",\"completed\",\"65\",\"82\",\"78\"\\n\"female\",\"group D\",\"associate\\'s degree\",\"free/reduced\",\"none\",\"55\",\"76\",\"76\"\\n\"female\",\"group D\",\"bachelor\\'s degree\",\"free/reduced\",\"none\",\"62\",\"72\",\"74\"\\n\"male\",\"group A\",\"high school\",\"standard\",\"none\",\"63\",\"63\",\"62\"\\n\"female\",\"group E\",\"master\\'s degree\",\"standard\",\"completed\",\"88\",\"99\",\"95\"\\n\"male\",\"group C\",\"high school\",\"free/reduced\",\"none\",\"62\",\"55\",\"55\"\\n\"female\",\"group C\",\"high school\",\"free/reduced\",\"completed\",\"59\",\"71\",\"65\"\\n\"female\",\"group D\",\"some college\",\"standard\",\"completed\",\"68\",\"78\",\"77\"\\n\"female\",\"group D\",\"some college\",\"free/reduced\",\"none\",\"77\",\"86\",\"86\"\\n'}\n"
          ],
          "name": "stdout"
        }
      ]
    },
    {
      "cell_type": "code",
      "metadata": {
        "colab": {
          "base_uri": "https://localhost:8080/"
        },
        "id": "dKhvPB68bcis",
        "outputId": "519ac192-fbeb-4a8f-dc26-c0353b37833a"
      },
      "source": [
        "!ls #checking how many csv files have been uploaded"
      ],
      "execution_count": null,
      "outputs": [
        {
          "output_type": "stream",
          "text": [
            "sample_data  StudentsPerformance.csv\n"
          ],
          "name": "stdout"
        }
      ]
    },
    {
      "cell_type": "code",
      "metadata": {
        "colab": {
          "base_uri": "https://localhost:8080/"
        },
        "id": "O0jzgemkct6Y",
        "outputId": "cfbad4d6-6cbd-498c-9cc4-a5e422330345"
      },
      "source": [
        "pip install pandas"
      ],
      "execution_count": null,
      "outputs": [
        {
          "output_type": "stream",
          "text": [
            "Requirement already satisfied: pandas in /usr/local/lib/python3.6/dist-packages (1.1.4)\n",
            "Requirement already satisfied: pytz>=2017.2 in /usr/local/lib/python3.6/dist-packages (from pandas) (2018.9)\n",
            "Requirement already satisfied: python-dateutil>=2.7.3 in /usr/local/lib/python3.6/dist-packages (from pandas) (2.8.1)\n",
            "Requirement already satisfied: numpy>=1.15.4 in /usr/local/lib/python3.6/dist-packages (from pandas) (1.18.5)\n",
            "Requirement already satisfied: six>=1.5 in /usr/local/lib/python3.6/dist-packages (from python-dateutil>=2.7.3->pandas) (1.15.0)\n"
          ],
          "name": "stdout"
        }
      ]
    },
    {
      "cell_type": "code",
      "metadata": {
        "id": "4e-bRXHncJcR"
      },
      "source": [
        "import pandas as pd\n",
        "data = pd.read_csv(\"StudentsPerformance.csv\") #reading and activating the uploaded CSV file"
      ],
      "execution_count": null,
      "outputs": []
    },
    {
      "cell_type": "code",
      "metadata": {
        "colab": {
          "base_uri": "https://localhost:8080/",
          "height": 288
        },
        "id": "RCN3J4WddKJj",
        "outputId": "e911aca8-5bad-4fb9-c0f9-2c09c1a305b9"
      },
      "source": [
        "data.describe()"
      ],
      "execution_count": null,
      "outputs": [
        {
          "output_type": "execute_result",
          "data": {
            "text/html": [
              "<div>\n",
              "<style scoped>\n",
              "    .dataframe tbody tr th:only-of-type {\n",
              "        vertical-align: middle;\n",
              "    }\n",
              "\n",
              "    .dataframe tbody tr th {\n",
              "        vertical-align: top;\n",
              "    }\n",
              "\n",
              "    .dataframe thead th {\n",
              "        text-align: right;\n",
              "    }\n",
              "</style>\n",
              "<table border=\"1\" class=\"dataframe\">\n",
              "  <thead>\n",
              "    <tr style=\"text-align: right;\">\n",
              "      <th></th>\n",
              "      <th>math score</th>\n",
              "      <th>reading score</th>\n",
              "      <th>writing score</th>\n",
              "    </tr>\n",
              "  </thead>\n",
              "  <tbody>\n",
              "    <tr>\n",
              "      <th>count</th>\n",
              "      <td>1000.00000</td>\n",
              "      <td>1000.000000</td>\n",
              "      <td>1000.000000</td>\n",
              "    </tr>\n",
              "    <tr>\n",
              "      <th>mean</th>\n",
              "      <td>66.08900</td>\n",
              "      <td>69.169000</td>\n",
              "      <td>68.054000</td>\n",
              "    </tr>\n",
              "    <tr>\n",
              "      <th>std</th>\n",
              "      <td>15.16308</td>\n",
              "      <td>14.600192</td>\n",
              "      <td>15.195657</td>\n",
              "    </tr>\n",
              "    <tr>\n",
              "      <th>min</th>\n",
              "      <td>0.00000</td>\n",
              "      <td>17.000000</td>\n",
              "      <td>10.000000</td>\n",
              "    </tr>\n",
              "    <tr>\n",
              "      <th>25%</th>\n",
              "      <td>57.00000</td>\n",
              "      <td>59.000000</td>\n",
              "      <td>57.750000</td>\n",
              "    </tr>\n",
              "    <tr>\n",
              "      <th>50%</th>\n",
              "      <td>66.00000</td>\n",
              "      <td>70.000000</td>\n",
              "      <td>69.000000</td>\n",
              "    </tr>\n",
              "    <tr>\n",
              "      <th>75%</th>\n",
              "      <td>77.00000</td>\n",
              "      <td>79.000000</td>\n",
              "      <td>79.000000</td>\n",
              "    </tr>\n",
              "    <tr>\n",
              "      <th>max</th>\n",
              "      <td>100.00000</td>\n",
              "      <td>100.000000</td>\n",
              "      <td>100.000000</td>\n",
              "    </tr>\n",
              "  </tbody>\n",
              "</table>\n",
              "</div>"
            ],
            "text/plain": [
              "       math score  reading score  writing score\n",
              "count  1000.00000    1000.000000    1000.000000\n",
              "mean     66.08900      69.169000      68.054000\n",
              "std      15.16308      14.600192      15.195657\n",
              "min       0.00000      17.000000      10.000000\n",
              "25%      57.00000      59.000000      57.750000\n",
              "50%      66.00000      70.000000      69.000000\n",
              "75%      77.00000      79.000000      79.000000\n",
              "max     100.00000     100.000000     100.000000"
            ]
          },
          "metadata": {
            "tags": []
          },
          "execution_count": 91
        }
      ]
    },
    {
      "cell_type": "code",
      "metadata": {
        "colab": {
          "base_uri": "https://localhost:8080/",
          "height": 348
        },
        "id": "e1h3ohglclks",
        "outputId": "1fa3543a-f35c-48be-b088-0b005e92ae3b"
      },
      "source": [
        "data.head(10)"
      ],
      "execution_count": null,
      "outputs": [
        {
          "output_type": "execute_result",
          "data": {
            "text/html": [
              "<div>\n",
              "<style scoped>\n",
              "    .dataframe tbody tr th:only-of-type {\n",
              "        vertical-align: middle;\n",
              "    }\n",
              "\n",
              "    .dataframe tbody tr th {\n",
              "        vertical-align: top;\n",
              "    }\n",
              "\n",
              "    .dataframe thead th {\n",
              "        text-align: right;\n",
              "    }\n",
              "</style>\n",
              "<table border=\"1\" class=\"dataframe\">\n",
              "  <thead>\n",
              "    <tr style=\"text-align: right;\">\n",
              "      <th></th>\n",
              "      <th>gender</th>\n",
              "      <th>race/ethnicity</th>\n",
              "      <th>parental level of education</th>\n",
              "      <th>lunch</th>\n",
              "      <th>test preparation course</th>\n",
              "      <th>math score</th>\n",
              "      <th>reading score</th>\n",
              "      <th>writing score</th>\n",
              "    </tr>\n",
              "  </thead>\n",
              "  <tbody>\n",
              "    <tr>\n",
              "      <th>0</th>\n",
              "      <td>female</td>\n",
              "      <td>group B</td>\n",
              "      <td>bachelor's degree</td>\n",
              "      <td>standard</td>\n",
              "      <td>none</td>\n",
              "      <td>72</td>\n",
              "      <td>72</td>\n",
              "      <td>74</td>\n",
              "    </tr>\n",
              "    <tr>\n",
              "      <th>1</th>\n",
              "      <td>female</td>\n",
              "      <td>group C</td>\n",
              "      <td>some college</td>\n",
              "      <td>standard</td>\n",
              "      <td>completed</td>\n",
              "      <td>69</td>\n",
              "      <td>90</td>\n",
              "      <td>88</td>\n",
              "    </tr>\n",
              "    <tr>\n",
              "      <th>2</th>\n",
              "      <td>female</td>\n",
              "      <td>group B</td>\n",
              "      <td>master's degree</td>\n",
              "      <td>standard</td>\n",
              "      <td>none</td>\n",
              "      <td>90</td>\n",
              "      <td>95</td>\n",
              "      <td>93</td>\n",
              "    </tr>\n",
              "    <tr>\n",
              "      <th>3</th>\n",
              "      <td>male</td>\n",
              "      <td>group A</td>\n",
              "      <td>associate's degree</td>\n",
              "      <td>free/reduced</td>\n",
              "      <td>none</td>\n",
              "      <td>47</td>\n",
              "      <td>57</td>\n",
              "      <td>44</td>\n",
              "    </tr>\n",
              "    <tr>\n",
              "      <th>4</th>\n",
              "      <td>male</td>\n",
              "      <td>group C</td>\n",
              "      <td>some college</td>\n",
              "      <td>standard</td>\n",
              "      <td>none</td>\n",
              "      <td>76</td>\n",
              "      <td>78</td>\n",
              "      <td>75</td>\n",
              "    </tr>\n",
              "    <tr>\n",
              "      <th>5</th>\n",
              "      <td>female</td>\n",
              "      <td>group B</td>\n",
              "      <td>associate's degree</td>\n",
              "      <td>standard</td>\n",
              "      <td>none</td>\n",
              "      <td>71</td>\n",
              "      <td>83</td>\n",
              "      <td>78</td>\n",
              "    </tr>\n",
              "    <tr>\n",
              "      <th>6</th>\n",
              "      <td>female</td>\n",
              "      <td>group B</td>\n",
              "      <td>some college</td>\n",
              "      <td>standard</td>\n",
              "      <td>completed</td>\n",
              "      <td>88</td>\n",
              "      <td>95</td>\n",
              "      <td>92</td>\n",
              "    </tr>\n",
              "    <tr>\n",
              "      <th>7</th>\n",
              "      <td>male</td>\n",
              "      <td>group B</td>\n",
              "      <td>some college</td>\n",
              "      <td>free/reduced</td>\n",
              "      <td>none</td>\n",
              "      <td>40</td>\n",
              "      <td>43</td>\n",
              "      <td>39</td>\n",
              "    </tr>\n",
              "    <tr>\n",
              "      <th>8</th>\n",
              "      <td>male</td>\n",
              "      <td>group D</td>\n",
              "      <td>high school</td>\n",
              "      <td>free/reduced</td>\n",
              "      <td>completed</td>\n",
              "      <td>64</td>\n",
              "      <td>64</td>\n",
              "      <td>67</td>\n",
              "    </tr>\n",
              "    <tr>\n",
              "      <th>9</th>\n",
              "      <td>female</td>\n",
              "      <td>group B</td>\n",
              "      <td>high school</td>\n",
              "      <td>free/reduced</td>\n",
              "      <td>none</td>\n",
              "      <td>38</td>\n",
              "      <td>60</td>\n",
              "      <td>50</td>\n",
              "    </tr>\n",
              "  </tbody>\n",
              "</table>\n",
              "</div>"
            ],
            "text/plain": [
              "   gender race/ethnicity  ... reading score writing score\n",
              "0  female        group B  ...            72            74\n",
              "1  female        group C  ...            90            88\n",
              "2  female        group B  ...            95            93\n",
              "3    male        group A  ...            57            44\n",
              "4    male        group C  ...            78            75\n",
              "5  female        group B  ...            83            78\n",
              "6  female        group B  ...            95            92\n",
              "7    male        group B  ...            43            39\n",
              "8    male        group D  ...            64            67\n",
              "9  female        group B  ...            60            50\n",
              "\n",
              "[10 rows x 8 columns]"
            ]
          },
          "metadata": {
            "tags": []
          },
          "execution_count": 128
        }
      ]
    },
    {
      "cell_type": "code",
      "metadata": {
        "id": "uP_eKxIahEa-",
        "colab": {
          "base_uri": "https://localhost:8080/",
          "height": 138
        },
        "outputId": "a0141b8b-4b2f-4ff1-fb11-bf7323baac8c"
      },
      "source": [
        "data.corr(method ='pearson') #finding correlation"
      ],
      "execution_count": null,
      "outputs": [
        {
          "output_type": "execute_result",
          "data": {
            "text/html": [
              "<div>\n",
              "<style scoped>\n",
              "    .dataframe tbody tr th:only-of-type {\n",
              "        vertical-align: middle;\n",
              "    }\n",
              "\n",
              "    .dataframe tbody tr th {\n",
              "        vertical-align: top;\n",
              "    }\n",
              "\n",
              "    .dataframe thead th {\n",
              "        text-align: right;\n",
              "    }\n",
              "</style>\n",
              "<table border=\"1\" class=\"dataframe\">\n",
              "  <thead>\n",
              "    <tr style=\"text-align: right;\">\n",
              "      <th></th>\n",
              "      <th>math score</th>\n",
              "      <th>reading score</th>\n",
              "      <th>writing score</th>\n",
              "    </tr>\n",
              "  </thead>\n",
              "  <tbody>\n",
              "    <tr>\n",
              "      <th>math score</th>\n",
              "      <td>1.000000</td>\n",
              "      <td>0.817580</td>\n",
              "      <td>0.802642</td>\n",
              "    </tr>\n",
              "    <tr>\n",
              "      <th>reading score</th>\n",
              "      <td>0.817580</td>\n",
              "      <td>1.000000</td>\n",
              "      <td>0.954598</td>\n",
              "    </tr>\n",
              "    <tr>\n",
              "      <th>writing score</th>\n",
              "      <td>0.802642</td>\n",
              "      <td>0.954598</td>\n",
              "      <td>1.000000</td>\n",
              "    </tr>\n",
              "  </tbody>\n",
              "</table>\n",
              "</div>"
            ],
            "text/plain": [
              "               math score  reading score  writing score\n",
              "math score       1.000000       0.817580       0.802642\n",
              "reading score    0.817580       1.000000       0.954598\n",
              "writing score    0.802642       0.954598       1.000000"
            ]
          },
          "metadata": {
            "tags": []
          },
          "execution_count": 132
        }
      ]
    },
    {
      "cell_type": "code",
      "metadata": {
        "colab": {
          "base_uri": "https://localhost:8080/",
          "height": 35
        },
        "id": "whCSZ3y7_kz8",
        "outputId": "eff7bf65-0579-43bf-e938-267a07ac0908"
      },
      "source": [
        "#question2\n",
        "\"Q2:Find 3 Correlation between features(columns) in the student data\""
      ],
      "execution_count": null,
      "outputs": [
        {
          "output_type": "execute_result",
          "data": {
            "application/vnd.google.colaboratory.intrinsic+json": {
              "type": "string"
            },
            "text/plain": [
              "'Q2:Find 3 Correlation between features(columns) in the student data'"
            ]
          },
          "metadata": {
            "tags": []
          },
          "execution_count": 160
        }
      ]
    },
    {
      "cell_type": "code",
      "metadata": {
        "colab": {
          "base_uri": "https://localhost:8080/",
          "height": 354
        },
        "id": "qUyVD0gBlUai",
        "outputId": "3d3ee7ae-b29f-4504-faf7-90ae8aad6dfe"
      },
      "source": [
        "import seaborn as sns\n",
        "sns.countplot(data['race/ethnicity'], orient='h') #finding correlation via countplot\n",
        "\"Here we can correlate the number of people in a race\"\n",
        "\"and we can clearly see that group c has the majority\""
      ],
      "execution_count": null,
      "outputs": [
        {
          "output_type": "stream",
          "text": [
            "/usr/local/lib/python3.6/dist-packages/seaborn/_decorators.py:43: FutureWarning: Pass the following variable as a keyword arg: x. From version 0.12, the only valid positional argument will be `data`, and passing other arguments without an explicit keyword will result in an error or misinterpretation.\n",
            "  FutureWarning\n"
          ],
          "name": "stderr"
        },
        {
          "output_type": "execute_result",
          "data": {
            "application/vnd.google.colaboratory.intrinsic+json": {
              "type": "string"
            },
            "text/plain": [
              "'and we can clearly see that group c has the majority'"
            ]
          },
          "metadata": {
            "tags": []
          },
          "execution_count": 138
        },
        {
          "output_type": "display_data",
          "data": {
            "image/png": "[encoded data removed]",
            "text/plain": [
              "<Figure size 432x288 with 1 Axes>"
            ]
          },
          "metadata": {
            "tags": [],
            "needs_background": "light"
          }
        }
      ]
    },
    {
      "cell_type": "code",
      "metadata": {
        "colab": {
          "base_uri": "https://localhost:8080/",
          "height": 244
        },
        "id": "1eWfm3cJl6wo",
        "outputId": "696e4d76-982c-4017-a5c6-4385c399abe2"
      },
      "source": [
        "data.plot.scatter(x=\"gender\",y=\"reading score\",figsize=(3,3)) \n",
        "#finding correlation via countplotscatterplot\n",
        "\"Here we can correlate the number of females have a greater reading score than males\" "
      ],
      "execution_count": null,
      "outputs": [
        {
          "output_type": "execute_result",
          "data": {
            "application/vnd.google.colaboratory.intrinsic+json": {
              "type": "string"
            },
            "text/plain": [
              "'Here we can correlate the number of females have a greater reading score than males'"
            ]
          },
          "metadata": {
            "tags": []
          },
          "execution_count": 147
        },
        {
          "output_type": "display_data",
          "data": {
            "image/png": "[encoded data removed]",
            "text/plain": [
              "<Figure size 216x216 with 1 Axes>"
            ]
          },
          "metadata": {
            "tags": [],
            "needs_background": "light"
          }
        }
      ]
    },
    {
      "cell_type": "code",
      "metadata": {
        "colab": {
          "base_uri": "https://localhost:8080/",
          "height": 354
        },
        "id": "ivFvcWw5pv0Z",
        "outputId": "4c390406-6633-4a0b-ed48-f41c8a34f9e7"
      },
      "source": [
        "import seaborn as sns\n",
        "sns.countplot(data['lunch'], orient='h') #finding correlation via countplot\n",
        "\"Here we can correlate the number of people with the type of lunch the eat\" \n",
        "\"and we can clearly see that standard lunch eaters are more in number\""
      ],
      "execution_count": null,
      "outputs": [
        {
          "output_type": "stream",
          "text": [
            "/usr/local/lib/python3.6/dist-packages/seaborn/_decorators.py:43: FutureWarning: Pass the following variable as a keyword arg: x. From version 0.12, the only valid positional argument will be `data`, and passing other arguments without an explicit keyword will result in an error or misinterpretation.\n",
            "  FutureWarning\n"
          ],
          "name": "stderr"
        },
        {
          "output_type": "execute_result",
          "data": {
            "application/vnd.google.colaboratory.intrinsic+json": {
              "type": "string"
            },
            "text/plain": [
              "'and we can clearly see that standard lunch eaters are more in number'"
            ]
          },
          "metadata": {
            "tags": []
          },
          "execution_count": 149
        },
        {
          "output_type": "display_data",
          "data": {
            "image/png": "[encoded data removed]",
            "text/plain": [
              "<Figure size 432x288 with 1 Axes>"
            ]
          },
          "metadata": {
            "tags": [],
            "needs_background": "light"
          }
        }
      ]
    },
    {
      "cell_type": "code",
      "metadata": {
        "colab": {
          "base_uri": "https://localhost:8080/",
          "height": 35
        },
        "id": "0oNGAeGh_7tR",
        "outputId": "db871554-23ad-4afc-de5e-4a826180e166"
      },
      "source": [
        "#question3\n",
        "\"Q3:use diffrent visualization like scatter plot and count plots\""
      ],
      "execution_count": null,
      "outputs": [
        {
          "output_type": "execute_result",
          "data": {
            "application/vnd.google.colaboratory.intrinsic+json": {
              "type": "string"
            },
            "text/plain": [
              "'Q3:use diffrent visualization like scatter plot and count plots'"
            ]
          },
          "metadata": {
            "tags": []
          },
          "execution_count": 161
        }
      ]
    },
    {
      "cell_type": "code",
      "metadata": {
        "colab": {
          "base_uri": "https://localhost:8080/",
          "height": 297
        },
        "id": "m4jhOZ05qv4O",
        "outputId": "d0b77293-cb44-4ac0-95cc-d78f707ca5ce"
      },
      "source": [
        "data.plot.scatter(\"math score\", \"reading score\") #using scatter plot"
      ],
      "execution_count": null,
      "outputs": [
        {
          "output_type": "execute_result",
          "data": {
            "text/plain": [
              "<matplotlib.axes._subplots.AxesSubplot at 0x7fe10f7476d8>"
            ]
          },
          "metadata": {
            "tags": []
          },
          "execution_count": 141
        },
        {
          "output_type": "display_data",
          "data": {
            "image/png": "[encoded data removed]",
            "text/plain": [
              "<Figure size 432x288 with 1 Axes>"
            ]
          },
          "metadata": {
            "tags": [],
            "needs_background": "light"
          }
        }
      ]
    },
    {
      "cell_type": "code",
      "metadata": {
        "colab": {
          "base_uri": "https://localhost:8080/",
          "height": 354
        },
        "id": "dfQN2RQ4ARhv",
        "outputId": "4a2dd89b-cfbf-4702-b327-36c7daa7a6a5"
      },
      "source": [
        "import seaborn as sns\n",
        "sns.countplot(data['gender'], orient='h')"
      ],
      "execution_count": null,
      "outputs": [
        {
          "output_type": "stream",
          "text": [
            "/usr/local/lib/python3.6/dist-packages/seaborn/_decorators.py:43: FutureWarning: Pass the following variable as a keyword arg: x. From version 0.12, the only valid positional argument will be `data`, and passing other arguments without an explicit keyword will result in an error or misinterpretation.\n",
            "  FutureWarning\n"
          ],
          "name": "stderr"
        },
        {
          "output_type": "execute_result",
          "data": {
            "text/plain": [
              "<matplotlib.axes._subplots.AxesSubplot at 0x7fe10e7fadd8>"
            ]
          },
          "metadata": {
            "tags": []
          },
          "execution_count": 163
        },
        {
          "output_type": "display_data",
          "data": {
            "image/png": "[encoded data removed]",
            "text/plain": [
              "<Figure size 432x288 with 1 Axes>"
            ]
          },
          "metadata": {
            "tags": [],
            "needs_background": "light"
          }
        }
      ]
    },
    {
      "cell_type": "code",
      "metadata": {
        "colab": {
          "base_uri": "https://localhost:8080/",
          "height": 354
        },
        "id": "nUFa8_rYrzxL",
        "outputId": "3d410786-e66b-4614-d5ea-73d9e53a6375"
      },
      "source": [
        "import seaborn as sns\n",
        "sns.lineplot(\"math score\", \"reading score\",data=data)"
      ],
      "execution_count": null,
      "outputs": [
        {
          "output_type": "stream",
          "text": [
            "/usr/local/lib/python3.6/dist-packages/seaborn/_decorators.py:43: FutureWarning: Pass the following variables as keyword args: x, y. From version 0.12, the only valid positional argument will be `data`, and passing other arguments without an explicit keyword will result in an error or misinterpretation.\n",
            "  FutureWarning\n"
          ],
          "name": "stderr"
        },
        {
          "output_type": "execute_result",
          "data": {
            "text/plain": [
              "<matplotlib.axes._subplots.AxesSubplot at 0x7fe10e3686d8>"
            ]
          },
          "metadata": {
            "tags": []
          },
          "execution_count": 143
        },
        {
          "output_type": "display_data",
          "data": {
            "image/png": "[encoded data removed]",
            "text/plain": [
              "<Figure size 432x288 with 1 Axes>"
            ]
          },
          "metadata": {
            "tags": [],
            "needs_background": "light"
          }
        }
      ]
    },
    {
      "cell_type": "code",
      "metadata": {
        "colab": {
          "base_uri": "https://localhost:8080/",
          "height": 35
        },
        "id": "h96558p86Nbw",
        "outputId": "33d4ba37-277d-4765-d2c0-76fe0ab27f8a"
      },
      "source": [
        "#question 4:\n",
        "\"Q4:Write your understanding about the visualizations\""
      ],
      "execution_count": null,
      "outputs": [
        {
          "output_type": "execute_result",
          "data": {
            "application/vnd.google.colaboratory.intrinsic+json": {
              "type": "string"
            },
            "text/plain": [
              "'Q4:Write your understanding about the visualizations'"
            ]
          },
          "metadata": {
            "tags": []
          },
          "execution_count": 164
        }
      ]
    },
    {
      "cell_type": "code",
      "metadata": {
        "id": "4S3f5MMlsecb"
      },
      "source": [
        "# answer: visualization is a method of analysing a data without actually looking into the data figures"
      ],
      "execution_count": null,
      "outputs": []
    }
  ]
}