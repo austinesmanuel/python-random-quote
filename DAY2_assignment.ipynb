{
  "nbformat": 4,
  "nbformat_minor": 0,
  "metadata": {
    "colab": {
      "name": "DAY2 assignment.ipynb",
      "provenance": [],
      "collapsed_sections": [],
      "authorship_tag": "ABX9TyPXmNOZwtp0ji8jBy2ADasT",
      "include_colab_link": true
    },
    "kernelspec": {
      "name": "python3",
      "display_name": "Python 3"
    },
    "accelerator": "GPU"
  },
  "cells": [
    {
      "cell_type": "markdown",
      "metadata": {
        "id": "view-in-github",
        "colab_type": "text"
      },
      "source": [
        "<a href=\"https://colab.research.google.com/github/austinesmanuel/python-random-quote/blob/master/DAY2_assignment.ipynb\" target=\"_parent\"><img src=\"https://colab.research.google.com/assets/colab-badge.svg\" alt=\"Open In Colab\"/></a>"
      ]
    },
    {
      "cell_type": "markdown",
      "metadata": {
        "id": "kLbHB4yaJwJm"
      },
      "source": [
        "Applying Mathamatical operation (after converting into integer value)"
      ]
    },
    {
      "cell_type": "code",
      "metadata": {
        "id": "IxRidp997z7i"
      },
      "source": [
        "#question1 and qustion2:-\n",
        "\"Q1:show all 4 basic opertors with diffrent numbers\"\n",
        "\"Q2:get user input and do calculations\""
      ],
      "execution_count": null,
      "outputs": []
    },
    {
      "cell_type": "code",
      "metadata": {
        "colab": {
          "base_uri": "https://localhost:8080/"
        },
        "id": "5hPwteBHJ7N9",
        "outputId": "5830b1cf-0c39-4e01-cb79-af93d23fddc3"
      },
      "source": [
        "int(input(\"value \"))+3 #operation"
      ],
      "execution_count": null,
      "outputs": [
        {
          "output_type": "stream",
          "text": [
            "value 56\n"
          ],
          "name": "stdout"
        },
        {
          "output_type": "execute_result",
          "data": {
            "text/plain": [
              "59"
            ]
          },
          "metadata": {
            "tags": []
          },
          "execution_count": 29
        }
      ]
    },
    {
      "cell_type": "code",
      "metadata": {
        "colab": {
          "base_uri": "https://localhost:8080/"
        },
        "id": "YTw7f6AjKCYx",
        "outputId": "86aeb234-472b-460f-a232-12b03011f839"
      },
      "source": [
        "int(input(\"value \"))*3 "
      ],
      "execution_count": null,
      "outputs": [
        {
          "output_type": "stream",
          "text": [
            "value 155\n"
          ],
          "name": "stdout"
        },
        {
          "output_type": "execute_result",
          "data": {
            "text/plain": [
              "465"
            ]
          },
          "metadata": {
            "tags": []
          },
          "execution_count": 28
        }
      ]
    },
    {
      "cell_type": "code",
      "metadata": {
        "colab": {
          "base_uri": "https://localhost:8080/"
        },
        "id": "r3u5LUSRKJYT",
        "outputId": "a3cab279-71a7-4907-f33e-3516a1664dc7"
      },
      "source": [
        "int(input(\"value \"))-3 "
      ],
      "execution_count": null,
      "outputs": [
        {
          "output_type": "stream",
          "text": [
            "value 25\n"
          ],
          "name": "stdout"
        },
        {
          "output_type": "execute_result",
          "data": {
            "text/plain": [
              "22"
            ]
          },
          "metadata": {
            "tags": []
          },
          "execution_count": 27
        }
      ]
    },
    {
      "cell_type": "code",
      "metadata": {
        "colab": {
          "base_uri": "https://localhost:8080/"
        },
        "id": "yUrBuSd2KOqa",
        "outputId": "10920f64-1229-4ce0-b6a4-dffc9c02ce1f"
      },
      "source": [
        "int(input(\"value \"))/3"
      ],
      "execution_count": null,
      "outputs": [
        {
          "output_type": "stream",
          "text": [
            "value 552\n"
          ],
          "name": "stdout"
        },
        {
          "output_type": "execute_result",
          "data": {
            "text/plain": [
              "184.0"
            ]
          },
          "metadata": {
            "tags": []
          },
          "execution_count": 26
        }
      ]
    },
    {
      "cell_type": "markdown",
      "metadata": {
        "id": "EMG-T2z6Nw01"
      },
      "source": [
        "assigning values to a variable and applying oprations to it"
      ]
    },
    {
      "cell_type": "code",
      "metadata": {
        "id": "LfuTN-OS82nK"
      },
      "source": [
        "#question3\n",
        "\"Q3:use variables to store user inputs and do multiple calculations with the same variable name\""
      ],
      "execution_count": null,
      "outputs": []
    },
    {
      "cell_type": "code",
      "metadata": {
        "colab": {
          "base_uri": "https://localhost:8080/"
        },
        "id": "T1myS8PGN6Cu",
        "outputId": "0081f90b-ddab-4af7-909e-1444191b651a"
      },
      "source": [
        "a = 10 #first variable\n",
        "b = 20 #second variable\n",
        "a+b #opration"
      ],
      "execution_count": null,
      "outputs": [
        {
          "output_type": "execute_result",
          "data": {
            "text/plain": [
              "30"
            ]
          },
          "metadata": {
            "tags": []
          },
          "execution_count": 16
        }
      ]
    },
    {
      "cell_type": "code",
      "metadata": {
        "colab": {
          "base_uri": "https://localhost:8080/"
        },
        "id": "dSy-fF1metQp",
        "outputId": "592ed7fa-c8e7-496b-a1bc-490360393e02"
      },
      "source": [
        "a = 10 \n",
        "b = 20 \n",
        "a-b "
      ],
      "execution_count": null,
      "outputs": [
        {
          "output_type": "execute_result",
          "data": {
            "text/plain": [
              "-10"
            ]
          },
          "metadata": {
            "tags": []
          },
          "execution_count": 35
        }
      ]
    },
    {
      "cell_type": "code",
      "metadata": {
        "colab": {
          "base_uri": "https://localhost:8080/"
        },
        "id": "MpnFJwdDe96A",
        "outputId": "ea992103-41ad-4932-d331-d1fd3e6e97f3"
      },
      "source": [
        "a = 10 \n",
        "b = 20 \n",
        "a*b "
      ],
      "execution_count": null,
      "outputs": [
        {
          "output_type": "execute_result",
          "data": {
            "text/plain": [
              "200"
            ]
          },
          "metadata": {
            "tags": []
          },
          "execution_count": 36
        }
      ]
    },
    {
      "cell_type": "code",
      "metadata": {
        "colab": {
          "base_uri": "https://localhost:8080/"
        },
        "id": "yr5CAhVPfFEX",
        "outputId": "9718176e-686f-4bc6-d58f-8065ef7b36dc"
      },
      "source": [
        "a = 10 \n",
        "b = 20 \n",
        "a/b "
      ],
      "execution_count": null,
      "outputs": [
        {
          "output_type": "execute_result",
          "data": {
            "text/plain": [
              "0.5"
            ]
          },
          "metadata": {
            "tags": []
          },
          "execution_count": 37
        }
      ]
    },
    {
      "cell_type": "markdown",
      "metadata": {
        "id": "QOPEtTYePQEx"
      },
      "source": [
        "Assigning values to a variable from a input value and applying oprations to it"
      ]
    },
    {
      "cell_type": "code",
      "metadata": {
        "colab": {
          "base_uri": "https://localhost:8080/",
          "height": 35
        },
        "id": "sN5OmTjy9II4",
        "outputId": "79d9f726-18a0-4283-a83c-ebeb14712139"
      },
      "source": [
        "#question4\n",
        "\"Q4:Get two user inputs and do a calculation between them\""
      ],
      "execution_count": null,
      "outputs": [
        {
          "output_type": "execute_result",
          "data": {
            "application/vnd.google.colaboratory.intrinsic+json": {
              "type": "string"
            },
            "text/plain": [
              "'Q4:Get two user inputs and do a calculation between them'"
            ]
          },
          "metadata": {
            "tags": []
          },
          "execution_count": 152
        }
      ]
    },
    {
      "cell_type": "code",
      "metadata": {
        "colab": {
          "base_uri": "https://localhost:8080/"
        },
        "id": "MyNhs_c8QBvY",
        "outputId": "e426c6b8-b26e-411c-a07f-aef49c9e30f7"
      },
      "source": [
        "a = int(input(\"first variable \")) #first variable with a assigned input integer value\n",
        "b = int(input(\"second variable  \")) #second variable with a assigned input integer value\n",
        "a+b #operation"
      ],
      "execution_count": null,
      "outputs": [
        {
          "output_type": "stream",
          "text": [
            "first variable 20\n",
            "second variable  30\n"
          ],
          "name": "stdout"
        },
        {
          "output_type": "execute_result",
          "data": {
            "text/plain": [
              "50"
            ]
          },
          "metadata": {
            "tags": []
          },
          "execution_count": 23
        }
      ]
    },
    {
      "cell_type": "code",
      "metadata": {
        "colab": {
          "base_uri": "https://localhost:8080/"
        },
        "id": "RM0PcAJSRe4w",
        "outputId": "4efc1ae1-4e49-45cd-fbd8-d6f29f5ecacd"
      },
      "source": [
        "a = int(input(\"first variable \")) \n",
        "b = int(input(\"second variable  \")) \n",
        "a-b "
      ],
      "execution_count": null,
      "outputs": [
        {
          "output_type": "stream",
          "text": [
            "first variable 25\n",
            "second variable  65\n"
          ],
          "name": "stdout"
        },
        {
          "output_type": "execute_result",
          "data": {
            "text/plain": [
              "-40"
            ]
          },
          "metadata": {
            "tags": []
          },
          "execution_count": 38
        }
      ]
    },
    {
      "cell_type": "code",
      "metadata": {
        "colab": {
          "base_uri": "https://localhost:8080/"
        },
        "id": "01aQSD4cfugd",
        "outputId": "9dedcfce-8069-4b3d-dd15-c92476af1aba"
      },
      "source": [
        "a = int(input(\"first variable \")) \n",
        "b = int(input(\"second variable  \")) \n",
        "a*b "
      ],
      "execution_count": null,
      "outputs": [
        {
          "output_type": "stream",
          "text": [
            "first variable 52\n",
            "second variable  65\n"
          ],
          "name": "stdout"
        },
        {
          "output_type": "execute_result",
          "data": {
            "text/plain": [
              "3380"
            ]
          },
          "metadata": {
            "tags": []
          },
          "execution_count": 39
        }
      ]
    },
    {
      "cell_type": "code",
      "metadata": {
        "colab": {
          "base_uri": "https://localhost:8080/"
        },
        "id": "pjNEeO3Qfxow",
        "outputId": "61d6e7dd-61bf-44e8-90a2-bd76271d8fab"
      },
      "source": [
        "a = int(input(\"first variable \")) \n",
        "b = int(input(\"second variable  \")) \n",
        "a/b "
      ],
      "execution_count": null,
      "outputs": [
        {
          "output_type": "stream",
          "text": [
            "first variable 898\n",
            "second variable  21\n"
          ],
          "name": "stdout"
        },
        {
          "output_type": "execute_result",
          "data": {
            "text/plain": [
              "42.76190476190476"
            ]
          },
          "metadata": {
            "tags": []
          },
          "execution_count": 42
        }
      ]
    }
  ]
}